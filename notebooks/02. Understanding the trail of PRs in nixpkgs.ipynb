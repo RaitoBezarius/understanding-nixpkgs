{
 "cells": [
  {
   "cell_type": "code",
   "execution_count": 2,
   "id": "58b55efb",
   "metadata": {},
   "outputs": [
    {
     "name": "stderr",
     "output_type": "stream",
     "text": [
      "4401it [02:15, 32.41it/s]\n"
     ]
    }
   ],
   "source": [
    "import os\n",
    "from github import Github\n",
    "from tqdm.autonotebooks import tqdm\n",
    "\n",
    "gh = Github(os.environ['GITHUB_TOKEN'], per_page=100)\n",
    "nixpkgs = gh.get_repo('nixos/nixpkgs')\n",
    "all_prs = list(tqdm(nixpkgs.get_pulls(state=\"open\")))"
   ]
  },
  {
   "cell_type": "code",
   "execution_count": 5,
   "id": "f1bc9e7c",
   "metadata": {},
   "outputs": [],
   "source": [
    "meta_select_tag = lambda tag: lambda pr: any(tag in label.name for label in pr.labels)\n",
    "select_merge_conflicts = meta_select_tag('2.status: merge conflict')\n",
    "select_stale = meta_select_tag('2.status: stale')\n",
    "select_automatic_upgrades = lambda pr: pr.user.login == 'r-ryantm'\n",
    "select_automatic_backports = lambda pr: pr.user.login == 'github-actions[bot]'"
   ]
  },
  {
   "cell_type": "code",
   "execution_count": 7,
   "id": "43021743",
   "metadata": {},
   "outputs": [],
   "source": [
    "current_merge_conflicts = list(filter(select_merge_conflicts, all_prs))\n",
    "current_stale = list(filter(select_stale, all_prs))\n",
    "automatic_upgrades = list(filter(select_automatic_upgrades, all_prs))\n",
    "automatic_backports = list(filter(select_automatic_backports, all_prs))"
   ]
  },
  {
   "cell_type": "code",
   "execution_count": 8,
   "id": "a11cc599",
   "metadata": {},
   "outputs": [
    {
     "data": {
      "text/plain": [
       "[(datetime.datetime(2022, 12, 22, 2, 50, 53),\n",
       "  PullRequest(title=\"pixelfed: init at 0.11.4, module\", number=207194)),\n",
       " (datetime.datetime(2021, 12, 6, 10, 7, 49),\n",
       "  PullRequest(title=\"osticket: add module\", number=148959)),\n",
       " (datetime.datetime(2021, 12, 27, 16, 18, 4),\n",
       "  PullRequest(title=\"rsync: Fix `enable*` options breaking build if disabled\", number=152354)),\n",
       " (datetime.datetime(2022, 11, 19, 12, 48, 16),\n",
       "  PullRequest(title=\"python3Packages.pandas: 1.4.4 -> 1.5.1\", number=201898)),\n",
       " (datetime.datetime(2019, 10, 11, 14, 52, 10),\n",
       "  PullRequest(title=\"VM test closure checks\", number=70981)),\n",
       " (datetime.datetime(2022, 8, 15, 10, 10, 14),\n",
       "  PullRequest(title=\"nixos/zfs_exporter: init\", number=186777)),\n",
       " (datetime.datetime(2022, 12, 9, 15, 10, 52),\n",
       "  PullRequest(title=\"nixos/minimal: remove environment.noXlibs true default\", number=205318)),\n",
       " (datetime.datetime(2020, 7, 16, 23, 22, 51),\n",
       "  PullRequest(title=\"Add kfp\", number=93310)),\n",
       " (datetime.datetime(2022, 3, 22, 0, 24, 29),\n",
       "  PullRequest(title=\"nvidia: Add Reverse Prime Sync\", number=165188)),\n",
       " (datetime.datetime(2022, 5, 3, 15, 17, 36),\n",
       "  PullRequest(title=\"python3Packages.django-hcaptcha: init at 0.2.0\", number=171405)),\n",
       " (datetime.datetime(2022, 2, 16, 21, 43, 9),\n",
       "  PullRequest(title=\"modules/postgresql: correct manual\", number=160380)),\n",
       " (datetime.datetime(2022, 11, 22, 20, 20, 20),\n",
       "  PullRequest(title=\"nixos/mastodon: Allow configuring sidekiq processes\", number=202408)),\n",
       " (datetime.datetime(2022, 8, 16, 9, 10, 2),\n",
       "  PullRequest(title=\"Add Vosk offline speech recognition service\", number=186917)),\n",
       " (datetime.datetime(2022, 6, 14, 4, 31, 45),\n",
       "  PullRequest(title=\"nixos/nfs: clean-up and RFC42 compliance\", number=177601)),\n",
       " (datetime.datetime(2018, 10, 26, 17, 29, 1),\n",
       "  PullRequest(title=\"RFC: hostapd: extend module to allow multiple APs.\", number=49171)),\n",
       " (datetime.datetime(2018, 5, 28, 7, 7, 36),\n",
       "  PullRequest(title=\"Add video recording to NixOS VM tests\", number=41165)),\n",
       " (datetime.datetime(2020, 5, 18, 14, 25, 34),\n",
       "  PullRequest(title=\"find-libs: extract from stage-1 and turn into its own package\", number=88070)),\n",
       " (datetime.datetime(2020, 1, 3, 12, 40, 29),\n",
       "  PullRequest(title=\"WIP grpc: fix static musl build\", number=76877)),\n",
       " (datetime.datetime(2019, 6, 26, 11, 58, 29),\n",
       "  PullRequest(title=\"gcc: support running the testsuite.\", number=63808)),\n",
       " (datetime.datetime(2019, 6, 20, 5, 28, 39),\n",
       "  PullRequest(title=\"lib/modules: add mkUnset, mkOverrideUnset\", number=63553)),\n",
       " (datetime.datetime(2022, 10, 19, 7, 8, 54),\n",
       "  PullRequest(title=\"abseil-cpp: lock in provided vocabulary type\", number=196718)),\n",
       " (datetime.datetime(2022, 8, 5, 23, 20, 32),\n",
       "  PullRequest(title=\"dafny: 2.3.0 -> 3.7.3\", number=185327)),\n",
       " (datetime.datetime(2022, 6, 26, 17, 0, 31),\n",
       "  PullRequest(title=\"discord-development: init at {0.0.202,0.0.8759}\", number=179212)),\n",
       " (datetime.datetime(2022, 1, 19, 23, 23, 47),\n",
       "  PullRequest(title=\"jitsi-meet and prosody Added ownerallowkick patch and all_owners module \", number=155755)),\n",
       " (datetime.datetime(2022, 4, 4, 22, 44, 50),\n",
       "  PullRequest(title=\"whoogle-search: create new package\", number=167249)),\n",
       " (datetime.datetime(2022, 1, 30, 12, 1, 3),\n",
       "  PullRequest(title=\"osmtogeojson: init at 3.0.0-beta.4\", number=157391)),\n",
       " (datetime.datetime(2021, 5, 2, 13, 54, 21),\n",
       "  PullRequest(title=\"xen: add 4.15 version\", number=121513)),\n",
       " (datetime.datetime(2022, 11, 15, 7, 52, 9),\n",
       "  PullRequest(title=\"droidcam-obs: init at 1.6.1\", number=201295)),\n",
       " (datetime.datetime(2022, 5, 12, 18, 28, 37),\n",
       "  PullRequest(title=\"python3.pkgs.sphinxcontrib-log-cabinet: init at 1.0.1\", number=172735)),\n",
       " (datetime.datetime(2018, 7, 29, 15, 19, 32),\n",
       "  PullRequest(title=\"Add pkgs.overrideWithScope\", number=44196)),\n",
       " (datetime.datetime(2020, 6, 7, 3, 46, 8),\n",
       "  PullRequest(title=\"caster-soundboard: init at unstable-2019-9-28\", number=89714)),\n",
       " (datetime.datetime(2019, 3, 16, 3, 53, 18),\n",
       "  PullRequest(title=\"grafx2: 2.4 -> 2.6\", number=57739)),\n",
       " (datetime.datetime(2021, 6, 4, 2, 25, 51),\n",
       "  PullRequest(title=\"anbox: fixes and upgrades\", number=125600)),\n",
       " (datetime.datetime(2020, 6, 9, 16, 6),\n",
       "  PullRequest(title=\"WIP pythonPackages.pypdftk: init at 0.4\", number=89941)),\n",
       " (datetime.datetime(2020, 5, 24, 16, 18, 55),\n",
       "  PullRequest(title=\"Request ZFS/LUKS passwords via Plymouth\", number=88789)),\n",
       " (datetime.datetime(2018, 12, 1, 19, 47, 50),\n",
       "  PullRequest(title=\"nixos: make time-sync.target block until initial adjustment with all NTP daemons\", number=51338)),\n",
       " (datetime.datetime(2021, 3, 15, 9, 37, 3),\n",
       "  PullRequest(title=\"grakn: init at 2.0.0-alpha-9\", number=116392)),\n",
       " (datetime.datetime(2020, 11, 15, 2, 34, 1),\n",
       "  PullRequest(title=\"kenlm: init at unstable-2020-11-14\", number=103858)),\n",
       " (datetime.datetime(2020, 5, 5, 5, 32, 32),\n",
       "  PullRequest(title=\"python3Packages.pyln-client: init at 0.8.0\", number=86882)),\n",
       " (datetime.datetime(2019, 5, 10, 21, 21, 46),\n",
       "  PullRequest(title=\"pythonPackages.deeplabcut: init at 2.1.6\", number=61253)),\n",
       " (datetime.datetime(2022, 11, 7, 14, 16, 1),\n",
       "  PullRequest(title=\"tree-sitter: add schema to grammar definition, support multi-grammar repos\", number=200028)),\n",
       " (datetime.datetime(2022, 10, 15, 12, 22, 57),\n",
       "  PullRequest(title=\"nixos/piler: init module\", number=196130)),\n",
       " (datetime.datetime(2019, 2, 21, 3, 0, 26),\n",
       "  PullRequest(title=\"all-packages.nix: cleanup, remove `res.` (next stage super)\", number=56119)),\n",
       " (datetime.datetime(2020, 9, 24, 9, 42, 41),\n",
       "  PullRequest(title=\"kicad: use the same wxGTK version for KiCad and for wxPython\", number=98634)),\n",
       " (datetime.datetime(2020, 3, 22, 0, 37, 54),\n",
       "  PullRequest(title=\"{caddy2,h2o}: use hash of path as ETag in Nix store\", number=83111)),\n",
       " (datetime.datetime(2020, 2, 15, 8, 51, 25),\n",
       "  PullRequest(title=\"nixos-containers: fix atomic restart\", number=80169)),\n",
       " (datetime.datetime(2019, 12, 23, 8, 34, 40),\n",
       "  PullRequest(title=\"Add NVIDIA licenses\", number=76233)),\n",
       " (datetime.datetime(2020, 4, 13, 1, 6, 16),\n",
       "  PullRequest(title=\"json2csv: init at 5.0.0\", number=85115)),\n",
       " (datetime.datetime(2022, 1, 2, 20, 38, 22),\n",
       "  PullRequest(title=\"fake-background-webcam: init at unstable-2021-11-28 [WIP]\", number=153255)),\n",
       " (datetime.datetime(2020, 4, 19, 10, 13, 39),\n",
       "  PullRequest(title=\"rust: bootstrap from source\", number=85542)),\n",
       " (datetime.datetime(2022, 3, 4, 12, 38, 59),\n",
       "  PullRequest(title=\"python3Packages.tensorflow: Fix mklSupport\", number=162763)),\n",
       " (datetime.datetime(2021, 1, 31, 13, 27, 10),\n",
       "  PullRequest(title=\"darwin.hfs: remove from Libsystem and mark broken\", number=111468)),\n",
       " (datetime.datetime(2021, 11, 18, 17, 51, 5),\n",
       "  PullRequest(title=\"Support XDG-conformant paths for internal Nix files\", number=146515)),\n",
       " (datetime.datetime(2020, 7, 27, 11, 55, 56),\n",
       "  PullRequest(title=\"fetchmavenartifact: switch maven repository to https\", number=93966)),\n",
       " (datetime.datetime(2017, 11, 4, 23, 8, 1),\n",
       "  PullRequest(title=\"glibc: add NIX_LD_LIBRARY_PATH\", number=31263)),\n",
       " (datetime.datetime(2020, 3, 29, 8, 0, 55),\n",
       "  PullRequest(title=\"buildPythonPackage: add prefix to pname\", number=83656)),\n",
       " (datetime.datetime(2019, 7, 25, 11, 18, 17),\n",
       "  PullRequest(title=\"Fix string misuse\", number=65367)),\n",
       " (datetime.datetime(2019, 1, 8, 20, 36, 46),\n",
       "  PullRequest(title=\"clang_{5,6,7}: add --sysroot argument pointing to gcc toolchain prefix\", number=53668)),\n",
       " (datetime.datetime(2021, 10, 19, 11, 42, 1),\n",
       "  PullRequest(title=\"treewide: rename fetchzip -> fetchArchive\", number=142204)),\n",
       " (datetime.datetime(2022, 10, 26, 14, 52, 20),\n",
       "  PullRequest(title=\"nixos/kernel: cleanup kernel configuration names\", number=197916)),\n",
       " (datetime.datetime(2022, 8, 13, 19, 36, 41),\n",
       "  PullRequest(title=\"Add SerenityOS as target\", number=186484)),\n",
       " (datetime.datetime(2020, 5, 18, 21, 47, 1),\n",
       "  PullRequest(title=\"Swapspace: dynamically manage swapspace on NixOS\", number=88093)),\n",
       " (datetime.datetime(2019, 3, 13, 17, 28, 28),\n",
       "  PullRequest(title=\"doc: Convert natural deduction to MathML\", number=57595)),\n",
       " (datetime.datetime(2020, 10, 17, 15, 15, 21),\n",
       "  PullRequest(title=\"Erlang: fix cross compilation\", number=100835)),\n",
       " (datetime.datetime(2021, 4, 26, 18, 35, 28),\n",
       "  PullRequest(title=\"ocaml_4_00_1, ocaml_4_03: mark as insecure\", number=120772)),\n",
       " (datetime.datetime(2021, 3, 10, 20, 54, 40),\n",
       "  PullRequest(title=\"nixos/luksroot: remove useless $new_k_luks\", number=115832)),\n",
       " (datetime.datetime(2020, 4, 7, 6, 26, 23),\n",
       "  PullRequest(title=\"dia: 2017-06-22 → 2020-04-07\", number=84555)),\n",
       " (datetime.datetime(2021, 10, 24, 12, 2, 33),\n",
       "  PullRequest(title=\"Shells autoenable\", number=142737)),\n",
       " (datetime.datetime(2019, 12, 4, 20, 37, 9),\n",
       "  PullRequest(title=\"qtspim: init at 722\", number=74999)),\n",
       " (datetime.datetime(2020, 8, 10, 17, 35, 2),\n",
       "  PullRequest(title=\"gnome-subtitles: init at 1.7.2\", number=95098)),\n",
       " (datetime.datetime(2020, 4, 1, 5, 36, 15),\n",
       "  PullRequest(title=\"xrdp: 0.9.9 -> 0.9.12, refactor\", number=83922)),\n",
       " (datetime.datetime(2022, 5, 8, 1, 11, 57),\n",
       "  PullRequest(title=\"mongodb: fixes build and sanitize package\", number=172009)),\n",
       " (datetime.datetime(2022, 6, 29, 15, 7, 7),\n",
       "  PullRequest(title=\"rust-bindgen-kernel: init at 0.56.0\", number=179581)),\n",
       " (datetime.datetime(2022, 9, 28, 17, 2, 6),\n",
       "  PullRequest(title=\"master_me: init at unstable-2022-09-28\", number=193364)),\n",
       " (datetime.datetime(2021, 11, 19, 9, 45, 11),\n",
       "  PullRequest(title=\"Fix shellcheck SC2148 and SC1008\", number=146601)),\n",
       " (datetime.datetime(2022, 7, 26, 3, 41, 41),\n",
       "  PullRequest(title=\"opencl-headers: 2021.06.30 -> 2022.05.18\", number=182909)),\n",
       " (datetime.datetime(2020, 1, 19, 21, 0, 32),\n",
       "  PullRequest(title=\"nixos/snapper: automatically create the .snapshots subvolume with correct permissions\", number=78046)),\n",
       " (datetime.datetime(2022, 3, 2, 23, 13, 22),\n",
       "  PullRequest(title=\"buildDotnetModule: allow fetching dependencies at compile time\", number=162548)),\n",
       " (datetime.datetime(2022, 4, 19, 13, 3, 35),\n",
       "  PullRequest(title=\"geph: init at 4.5.0-beta.1\", number=169326)),\n",
       " (datetime.datetime(2022, 9, 14, 16, 21, 3),\n",
       "  PullRequest(title=\"protobuf3_21: 3.21.2 -> 21.5, update versioning scheme\", number=191207)),\n",
       " (datetime.datetime(2019, 11, 9, 23, 19, 21),\n",
       "  PullRequest(title=\"wxGTK: use GTK 3 by default\", number=73145)),\n",
       " (datetime.datetime(2021, 8, 2, 11, 15, 34),\n",
       "  PullRequest(title=\"autosuspend: init at 3.1.3\", number=132407)),\n",
       " (datetime.datetime(2019, 6, 16, 20, 32, 44),\n",
       "  PullRequest(title=\"docker-containers: More container options, and tweaks to launch logic\", number=63241)),\n",
       " (datetime.datetime(2020, 4, 8, 16, 20, 48),\n",
       "  PullRequest(title=\"gnome3.gnome-color-manager: 3.32.0 -> 3.36.0\", number=84734)),\n",
       " (datetime.datetime(2019, 9, 16, 8, 45, 3),\n",
       "  PullRequest(title=\"nixos/unifi: add test and additional config options [WIP]\", number=68884)),\n",
       " (datetime.datetime(2019, 7, 31, 2, 19, 2),\n",
       "  PullRequest(title=\"ls4: init at 1.0\", number=65619)),\n",
       " (datetime.datetime(2019, 1, 9, 7, 45, 9),\n",
       "  PullRequest(title=\"Concourse\", number=53691)),\n",
       " (datetime.datetime(2020, 4, 27, 11, 45, 28),\n",
       "  PullRequest(title=\"vscode-oss: init at 1.44.2\", number=86122)),\n",
       " (datetime.datetime(2022, 2, 15, 23, 45, 52),\n",
       "  PullRequest(title=\"vivaldi: libs to enable wayland native\", number=160234)),\n",
       " (datetime.datetime(2022, 9, 13, 13, 47, 32),\n",
       "  PullRequest(title=\"git: include info documentation in doc output\", number=191071)),\n",
       " (datetime.datetime(2019, 7, 13, 2, 28, 59),\n",
       "  PullRequest(title=\"types: Fix path.check for cleanSourceWith output\", number=64691)),\n",
       " (datetime.datetime(2021, 11, 11, 15, 31, 24),\n",
       "  PullRequest(title=\"zabbix: Support for 5.4\", number=145502)),\n",
       " (datetime.datetime(2020, 7, 26, 2, 49, 54),\n",
       "  PullRequest(title=\"r-modules: add GitHub only r packages\", number=93883)),\n",
       " (datetime.datetime(2021, 10, 1, 12, 41, 48),\n",
       "  PullRequest(title=\"murmur: Deprecate old name\", number=140147)),\n",
       " (datetime.datetime(2021, 8, 4, 4, 35, 54),\n",
       "  PullRequest(title=\"mkShellMinimal: Create an ultra minimal nix-shell\", number=132617)),\n",
       " (datetime.datetime(2022, 9, 13, 17, 2, 54),\n",
       "  PullRequest(title=\"add darwin platform for logseq\", number=191091)),\n",
       " (datetime.datetime(2022, 6, 12, 17, 23, 16),\n",
       "  PullRequest(title=\"python310Packages.reportlab: 3.6.9 -> 3.6.10\", number=177425)),\n",
       " (datetime.datetime(2016, 10, 6, 22, 14, 58),\n",
       "  PullRequest(title=\"Clang link time optimization for darwin\", number=19312)),\n",
       " (datetime.datetime(2019, 3, 26, 19, 4, 35),\n",
       "  PullRequest(title=\"nixos/security: don't use sudo.extraRules for wheel rule\", number=58396)),\n",
       " (datetime.datetime(2019, 6, 26, 15, 28, 28),\n",
       "  PullRequest(title=\"openhab: init at 2.5.9 and NixOS module [WIP]\", number=63814)),\n",
       " (datetime.datetime(2020, 3, 15, 7, 41, 25),\n",
       "  PullRequest(title=\"onionbalance: init at 0.2.0\", number=82638)),\n",
       " (datetime.datetime(2020, 3, 17, 8, 12, 46),\n",
       "  PullRequest(title=\"pyexiv2: 0.3.2 -> 2.1.0\", number=82771)),\n",
       " (datetime.datetime(2020, 3, 27, 8, 30, 13),\n",
       "  PullRequest(title=\"acme-dns: init at 0.8\", number=83474)),\n",
       " (datetime.datetime(2020, 3, 28, 10, 53, 44),\n",
       "  PullRequest(title=\"tandem: init at 1.5.0 (help needed!)\", number=83584)),\n",
       " (datetime.datetime(2020, 2, 20, 7, 35, 2),\n",
       "  PullRequest(title=\"mssql-server: init at 15.0.4003.23-3\", number=80609)),\n",
       " (datetime.datetime(2020, 3, 4, 16, 40, 25),\n",
       "  PullRequest(title=\"bisonpp: init at 1.21-45\", number=81736)),\n",
       " (datetime.datetime(2020, 1, 17, 6, 37, 4),\n",
       "  PullRequest(title=\"pythonPackages.seqnmf: init at 0.1.2\", number=77874)),\n",
       " (datetime.datetime(2019, 12, 3, 3, 24, 44),\n",
       "  PullRequest(title=\"restya-board: 0.6 -> 0.6.7\", number=74888)),\n",
       " (datetime.datetime(2019, 12, 4, 20, 35, 47),\n",
       "  PullRequest(title=\"gertty: init at 1.6.0\", number=74998)),\n",
       " (datetime.datetime(2020, 1, 28, 20, 53, 10),\n",
       "  PullRequest(title=\"cinnamon.updateScript: add updateScript\", number=78729)),\n",
       " (datetime.datetime(2022, 8, 18, 15, 21, 5),\n",
       "  PullRequest(title=\"chromium: added patch to support master_preferences\", number=187300)),\n",
       " (datetime.datetime(2021, 10, 15, 5, 24, 59),\n",
       "  PullRequest(title=\"dcc: init at 2.3.168\", number=141712)),\n",
       " (datetime.datetime(2021, 10, 30, 21, 50, 38),\n",
       "  PullRequest(title=\"pythonPackages.pulsectl-asyncio: init at 0.2.0\", number=143906)),\n",
       " (datetime.datetime(2022, 1, 27, 20, 59, 57),\n",
       "  PullRequest(title=\"gurk: init at 0.2.3\", number=157054)),\n",
       " (datetime.datetime(2022, 4, 21, 13, 15, 28),\n",
       "  PullRequest(title=\"godo: init at v0.12.1\", number=169582)),\n",
       " (datetime.datetime(2022, 6, 8, 16, 51, 1),\n",
       "  PullRequest(title=\"sem: init at 0.26.0\", number=176928)),\n",
       " (datetime.datetime(2022, 6, 5, 3, 50, 6),\n",
       "  PullRequest(title=\"wfdb: init at 10.6.2\", number=176334)),\n",
       " (datetime.datetime(2022, 6, 7, 10, 46, 23),\n",
       "  PullRequest(title=\"rust: cargo: Use rustc and cargo built on Build for cross-compiling\", number=176694)),\n",
       " (datetime.datetime(2022, 1, 25, 20, 25, 51),\n",
       "  PullRequest(title=\"kooha: add videocrop and pipewire gst plugins to buildInputs\", number=156761)),\n",
       " (datetime.datetime(2021, 7, 15, 18, 21, 49),\n",
       "  PullRequest(title=\"plausible, nixos/plausible: Default to listen on localhost.\", number=130297)),\n",
       " (datetime.datetime(2022, 7, 30, 9, 26, 5),\n",
       "  PullRequest(title=\"python310Packages.icontract: 2.6.1 -> 2.6.2\", number=183940)),\n",
       " (datetime.datetime(2021, 11, 5, 1, 11, 55),\n",
       "  PullRequest(title=\"nodePackages.syncthing-hooks: init at 0.2.0\", number=144684)),\n",
       " (datetime.datetime(2018, 8, 12, 7, 37, 51),\n",
       "  PullRequest(title=\"nixos/lightdm-gtk-greeter: make it overridable by other greeters\", number=44926)),\n",
       " (datetime.datetime(2019, 1, 11, 21, 43),\n",
       "  PullRequest(title=\"[RFC] Python library wrappers\", number=53816)),\n",
       " (datetime.datetime(2020, 1, 27, 22, 38, 45),\n",
       "  PullRequest(title=\"Add `types.secretPath`\", number=78640)),\n",
       " (datetime.datetime(2022, 8, 11, 7, 2, 59),\n",
       "  PullRequest(title=\"tedicross: 0.8.7 -> 0.11.2\", number=186057)),\n",
       " (datetime.datetime(2022, 4, 19, 4, 9, 5),\n",
       "  PullRequest(title=\"cypress: add darwin support\", number=169273)),\n",
       " (datetime.datetime(2019, 5, 2, 23, 44, 6),\n",
       "  PullRequest(title=\"wireguard: allow routes to overlap with other routes\", number=60818)),\n",
       " (datetime.datetime(2021, 1, 27, 12, 56, 1),\n",
       "  PullRequest(title=\"amazon-ec2-utils: Merge with / replace ec2-utils\", number=110930)),\n",
       " (datetime.datetime(2021, 5, 22, 2, 41, 54),\n",
       "  PullRequest(title=\"airwindows: init at unstable-2022-01-29\", number=123954)),\n",
       " (datetime.datetime(2020, 11, 3, 11, 5, 25),\n",
       "  PullRequest(title=\" WIP: Python: wrap and patch using `requiredPythonModules` instead of `propagatedBuildInputs`\", number=102613)),\n",
       " (datetime.datetime(2020, 6, 13, 15, 20, 19),\n",
       "  PullRequest(title=\"marp-cli: init at 0.18.1\", number=90241)),\n",
       " (datetime.datetime(2022, 1, 7, 17, 5, 41),\n",
       "  PullRequest(title=\"python3Packages.charset-normalizer: add downstream tests\", number=153870)),\n",
       " (datetime.datetime(2021, 3, 24, 9, 29, 31),\n",
       "  PullRequest(title=\"treewide: use stdenvNoCC when not building\", number=117451)),\n",
       " (datetime.datetime(2021, 11, 24, 6, 24, 56),\n",
       "  PullRequest(title=\"marktext: Add darwin support\", number=147229)),\n",
       " (datetime.datetime(2021, 8, 19, 19, 39, 23),\n",
       "  PullRequest(title=\"librem-ec-acpi-dkms: init at 0.9.1\", number=134856)),\n",
       " (datetime.datetime(2019, 11, 13, 13, 21, 5),\n",
       "  PullRequest(title=\"WIP p11-kit: use meson\", number=73341)),\n",
       " (datetime.datetime(2021, 5, 1, 16, 30, 57),\n",
       "  PullRequest(title=\"nixos/davical: init\", number=121406)),\n",
       " (datetime.datetime(2021, 11, 27, 19, 37, 8),\n",
       "  PullRequest(title=\"[skip editorconfig] treewide: treefmt with nixpkgs-fmt\", number=147623)),\n",
       " (datetime.datetime(2020, 5, 3, 4, 46, 52),\n",
       "  PullRequest(title=\"vimPlugins.vim-go: set g:go_bin_path to work with pure nix-shell\", number=86626)),\n",
       " (datetime.datetime(2021, 8, 1, 18, 21, 11),\n",
       "  PullRequest(title=\"WIP: GCC with separated runtime libraries\", number=132343)),\n",
       " (datetime.datetime(2020, 11, 24, 23, 12, 31),\n",
       "  PullRequest(title=\"vscode-extensions: fix aliases with recursiveUpdate overlay\", number=104817)),\n",
       " (datetime.datetime(2022, 4, 15, 20, 54, 35),\n",
       "  PullRequest(title=\"llvm: i686 cross-building fixes w/musl\", number=168830)),\n",
       " (datetime.datetime(2022, 1, 25, 15, 35, 13),\n",
       "  PullRequest(title=\"nodePackages.marked-man: init at 0.7.0\", number=156725)),\n",
       " (datetime.datetime(2020, 3, 30, 17, 26, 20),\n",
       "  PullRequest(title=\"RFC: Force \"dev\" output in case of static builds\", number=83793)),\n",
       " (datetime.datetime(2022, 3, 6, 8, 39, 53),\n",
       "  PullRequest(title=\"mxnet: allow to compile without sse/f16c\", number=162981)),\n",
       " (datetime.datetime(2019, 4, 15, 11, 28, 39),\n",
       "  PullRequest(title=\"[WIP] binutils, build-fhs-userenv: make use of ld fallback\", number=59595)),\n",
       " (datetime.datetime(2020, 4, 9, 15, 40, 55),\n",
       "  PullRequest(title=\"[WIP] protobuf: build with cmake instead of autoconf\", number=84824)),\n",
       " (datetime.datetime(2020, 11, 28, 14, 46, 58),\n",
       "  PullRequest(title=\"EXPERIMENTAL: replace bash with oil\", number=105233)),\n",
       " (datetime.datetime(2021, 3, 7, 12, 35, 53),\n",
       "  PullRequest(title=\"phppgadmin: init at 7.13.0; nixos/phppgadmin: added phppgadmin module using php-fpm and nginx\", number=115328)),\n",
       " (datetime.datetime(2022, 3, 6, 19, 4, 38),\n",
       "  PullRequest(title=\"onlykey: 5.3.3 -> 5.3.4, onlykey-cli: 1.2.5 -> 1.2.6, onlykey-agent: 1.1.11 -> 1.1.12\", number=163048)),\n",
       " (datetime.datetime(2022, 6, 26, 14, 31, 20),\n",
       "  PullRequest(title=\"steamtinkerlaunch init at version 10.0\", number=179195)),\n",
       " (datetime.datetime(2020, 4, 1, 4, 53, 55),\n",
       "  PullRequest(title=\"runInLinuxVM, test-driver: disable vmx cpu feature for guest vm\", number=83920)),\n",
       " (datetime.datetime(2019, 9, 3, 23, 23, 2),\n",
       "  PullRequest(title=\"Setup hook to make Exec= paths absolute in desktop files\", number=68035)),\n",
       " (datetime.datetime(2021, 4, 25, 0, 6, 49),\n",
       "  PullRequest(title=\"RFC: nixos/borgbackup: run as DynamicUser\", number=120571)),\n",
       " (datetime.datetime(2020, 12, 30, 4, 36, 33),\n",
       "  PullRequest(title=\"nixos/borgbackup: Document wrapper script and show excludes file path\", number=107938)),\n",
       " (datetime.datetime(2020, 9, 26, 14, 10, 47),\n",
       "  PullRequest(title=\"linux-next: new function to ease testing the newest kernels\", number=98865)),\n",
       " (datetime.datetime(2020, 11, 26, 14, 6, 4),\n",
       "  PullRequest(title=\"nixpkgs manual in CommonMark using sphinx+myst and jupyter-book\", number=105036)),\n",
       " (datetime.datetime(2019, 12, 28, 17, 6, 52),\n",
       "  PullRequest(title=\"vbam: add wxWidgets GUI\", number=76617)),\n",
       " (datetime.datetime(2021, 4, 30, 12, 30, 29),\n",
       "  PullRequest(title=\"nixos/doc/manual: correct gpu acceleration opencl configs\", number=121265)),\n",
       " (datetime.datetime(2021, 10, 8, 15, 48, 7),\n",
       "  PullRequest(title=\"Netfilter packages/updates\", number=140994)),\n",
       " (datetime.datetime(2021, 10, 4, 19, 6, 25),\n",
       "  PullRequest(title=\"yarn2nix: Support custom fetch functions in mkYarnModules\", number=140510)),\n",
       " (datetime.datetime(2021, 5, 16, 10, 36, 57),\n",
       "  PullRequest(title=\"fira-code: don't use variable font\", number=123220)),\n",
       " (datetime.datetime(2021, 9, 9, 8, 25, 55),\n",
       "  PullRequest(title=\"modules/../kratos: Initial commit\", number=137164)),\n",
       " (datetime.datetime(2021, 9, 15, 11, 4, 59),\n",
       "  PullRequest(title=\"linux package set – hardened kernels related clean up\", number=137993)),\n",
       " (datetime.datetime(2020, 5, 12, 3, 19, 24),\n",
       "  PullRequest(title=\"easysnap: unstable-2020-04-04 -> unstable-2020-05-12\", number=87643)),\n",
       " (datetime.datetime(2020, 11, 14, 12, 5, 51),\n",
       "  PullRequest(title=\"ulogd: init at 2.0.7\", number=103804)),\n",
       " (datetime.datetime(2021, 1, 11, 19, 45, 34),\n",
       "  PullRequest(title=\"nixos-rebuild: add option `--use-remote-sudo-activate`\", number=109046)),\n",
       " (datetime.datetime(2021, 12, 4, 3, 59, 40),\n",
       "  PullRequest(title=\"blender: 2.93.5 -> 3.0.0, keep old as blender_2_93, refactor, support wayland\", number=148550)),\n",
       " (datetime.datetime(2019, 9, 24, 22, 43, 35),\n",
       "  PullRequest(title=\"yakyak init at 1.5.4-beta-rolling and (patched) electron-packager init at 14.0.6\", number=69393)),\n",
       " (datetime.datetime(2019, 5, 28, 22, 3, 20),\n",
       "  PullRequest(title=\"opengl: provide swrast as fallback when no GL drivers are found\", number=62177)),\n",
       " (datetime.datetime(2021, 12, 10, 18, 0, 48),\n",
       "  PullRequest(title=\"WIP kernel modules: mkDerivation -> buildModule\", number=150103)),\n",
       " (datetime.datetime(2021, 11, 17, 18, 43, 26),\n",
       "  PullRequest(title=\"oil: compile from source\", number=146419)),\n",
       " (datetime.datetime(2021, 11, 1, 12, 1, 30),\n",
       "  PullRequest(title=\"backscrub: init at 0.3.0 (WIP)\", number=144105)),\n",
       " (datetime.datetime(2022, 1, 18, 15, 9, 30),\n",
       "  PullRequest(title=\"buildPerlPackage: use LINKTYPE=static when building statically\", number=155487)),\n",
       " (datetime.datetime(2019, 10, 18, 10, 31, 13),\n",
       "  PullRequest(title=\"buildRustCrate: fix linking problems\", number=71326)),\n",
       " (datetime.datetime(2022, 4, 4, 18, 51, 51),\n",
       "  PullRequest(title=\"Add yottadb engine\", number=167220)),\n",
       " (datetime.datetime(2021, 11, 11, 18, 51, 37),\n",
       "  PullRequest(title=\"copier: init at unstable-2021-11-10\", number=145528)),\n",
       " (datetime.datetime(2020, 12, 14, 2, 37, 12),\n",
       "  PullRequest(title=\"PHP: Added SSH2 and msgpack extensions.\", number=106867)),\n",
       " (datetime.datetime(2020, 10, 22, 21, 46, 47),\n",
       "  PullRequest(title=\"Add new meta-attributes to stdenv to permit URLs for screenshots\", number=101417)),\n",
       " (datetime.datetime(2021, 11, 3, 13, 50, 43),\n",
       "  PullRequest(title=\"Add support for cross compiling to ESP MCUs\", number=144452)),\n",
       " (datetime.datetime(2019, 2, 24, 6, 54, 17),\n",
       "  PullRequest(title=\"btpd: init at 0.16, add module\", number=56279)),\n",
       " (datetime.datetime(2020, 6, 13, 20, 40, 10),\n",
       "  PullRequest(title=\"vimPlugins: Add description attribute from GitHub metadata.\", number=90257)),\n",
       " (datetime.datetime(2020, 2, 29, 3, 35, 28),\n",
       "  PullRequest(title=\"wasilibc: 20190712 -> 20200319\", number=81347)),\n",
       " (datetime.datetime(2021, 1, 24, 12, 48, 57),\n",
       "  PullRequest(title=\"darwin.darling: fix build on case-insensitive filesystems\", number=110685)),\n",
       " (datetime.datetime(2017, 11, 9, 1, 20, 29),\n",
       "  PullRequest(title=\"Stdenv setup: Process dependencies before dependents\", number=31414)),\n",
       " (datetime.datetime(2021, 5, 21, 12, 42, 49),\n",
       "  PullRequest(title=\"inter: add font type option\", number=123894)),\n",
       " (datetime.datetime(2020, 10, 15, 8, 15, 46),\n",
       "  PullRequest(title=\"inkscape: add option for extra python packages\", number=100565)),\n",
       " (datetime.datetime(2020, 5, 15, 18, 5, 12),\n",
       "  PullRequest(title=\"WIP agda: Add libraries semi-automatically from package-index\", number=87903)),\n",
       " (datetime.datetime(2019, 4, 19, 2, 11),\n",
       "  PullRequest(title=\"Removes zfs from only the \"new_kernel\" installer variants\", number=59863)),\n",
       " (datetime.datetime(2020, 9, 26, 12, 0, 17),\n",
       "  PullRequest(title=\"Brave: enable Darwin build\", number=98853)),\n",
       " (datetime.datetime(2020, 5, 9, 13, 33, 54),\n",
       "  PullRequest(title=\"Python packageOverrides improvements\", number=87388)),\n",
       " (datetime.datetime(2020, 5, 29, 15, 34, 49),\n",
       "  PullRequest(title=\"wip: postfix: refactored tls certificate configuration\", number=89178)),\n",
       " (datetime.datetime(2021, 1, 31, 3, 34, 11),\n",
       "  PullRequest(title=\"stdenv/darwin: set NIX_COREFOUNDATION_RPATH via hook\", number=111385)),\n",
       " (datetime.datetime(2018, 6, 24, 13, 18, 56),\n",
       "  PullRequest(title=\"Mutable users vs authorizedKeysFiles\", number=42526)),\n",
       " (datetime.datetime(2019, 10, 18, 10, 46, 10),\n",
       "  PullRequest(title=\"nixos/containers: custom network namespaces\", number=71328)),\n",
       " (datetime.datetime(2020, 4, 11, 15, 38, 18),\n",
       "  PullRequest(title=\"Redmine server options\", number=85003)),\n",
       " (datetime.datetime(2019, 5, 5, 11, 2, 27),\n",
       "  PullRequest(title=\"rtorrent-ps, libtorrent-ps: init at 1.1-37c9d4b\", number=60982)),\n",
       " (datetime.datetime(2021, 5, 5, 2, 9, 7),\n",
       "  PullRequest(title=\"firefox: use SHA512SUM in update.nix\", number=121761)),\n",
       " (datetime.datetime(2020, 5, 25, 0, 26, 56),\n",
       "  PullRequest(title=\"haskell: Fix developPackage ignoring extend\", number=88841)),\n",
       " (datetime.datetime(2021, 3, 6, 6, 57, 14),\n",
       "  PullRequest(title=\"haskellPackages.lol, haskellPackages.lol-apps, haskellPackages.lol-cpp: unbreak build\", number=115233)),\n",
       " (datetime.datetime(2020, 6, 14, 0, 46, 8),\n",
       "  PullRequest(title=\"haskell: Make haskellPackages.callPackage overridable\", number=90271)),\n",
       " (datetime.datetime(2021, 1, 26, 11, 8, 33),\n",
       "  PullRequest(title=\"darwin.xnu: update and restructure\", number=110840)),\n",
       " (datetime.datetime(2020, 12, 11, 22, 11, 3),\n",
       "  PullRequest(title=\"bacula: fix for #89057 - systemd and bacula fight\", number=106689)),\n",
       " (datetime.datetime(2020, 2, 3, 18, 15, 38),\n",
       "  PullRequest(title=\"WIP: gettext: refactor and split in multiple packages\", number=79171)),\n",
       " (datetime.datetime(2021, 3, 7, 20, 40, 50),\n",
       "  PullRequest(title=\"pylint-flask-sqlalchemy: init at 0.2.0\", number=115358)),\n",
       " (datetime.datetime(2018, 10, 20, 16, 46, 6),\n",
       "  PullRequest(title=\"nixos/networking: add ipvlan option\", number=48753)),\n",
       " (datetime.datetime(2021, 2, 8, 18, 27, 28),\n",
       "  PullRequest(title=\"doc: improve documentation for specialised fetchers\", number=112425)),\n",
       " (datetime.datetime(2020, 11, 1, 1, 35, 10),\n",
       "  PullRequest(title=\"python3Packages.pyobjc: Reinit\", number=102306)),\n",
       " (datetime.datetime(2020, 1, 17, 5, 16, 17),\n",
       "  PullRequest(title=\"hfsprogs: 332.25 -> 540.1.linux3\", number=77867)),\n",
       " (datetime.datetime(2021, 2, 10, 12, 2, 39),\n",
       "  PullRequest(title=\"fetchgit: specify provided hash as refspec in `git fetch` invocation\", number=112645)),\n",
       " (datetime.datetime(2019, 8, 23, 11, 29, 12),\n",
       "  PullRequest(title=\"[WIP] nixos/containers: add unprivileged option\", number=67336)),\n",
       " (datetime.datetime(2020, 6, 25, 21, 46, 25),\n",
       "  PullRequest(title=\"mkFont derivation for unified font packaging\", number=91518)),\n",
       " (datetime.datetime(2020, 11, 4, 2, 1, 19),\n",
       "  PullRequest(title=\"nixos/modules/config/pulseaudio: add support for custom ALSA paths and profiles\", number=102691)),\n",
       " (datetime.datetime(2018, 9, 18, 16, 52, 28),\n",
       "  PullRequest(title=\"Replace overridePythonAttrs with overrideArgs, add for Rust and Go as well\", number=46842)),\n",
       " (datetime.datetime(2020, 1, 23, 15, 41, 15),\n",
       "  PullRequest(title=\"nix-gitignore: update to v3.0.2 (mostly compatible changes)\", number=78371)),\n",
       " (datetime.datetime(2021, 1, 18, 1, 23, 34),\n",
       "  PullRequest(title=\"beets.plugins.{alternative,copyartifacts}: fix evaluation\", number=109679)),\n",
       " (datetime.datetime(2020, 9, 25, 21, 18, 10),\n",
       "  PullRequest(title=\"nixos/tor: allow onion only clients\", number=98801)),\n",
       " (datetime.datetime(2021, 1, 24, 4, 45, 49),\n",
       "  PullRequest(title=\"plover: add dev-with-plugins\", number=110658)),\n",
       " (datetime.datetime(2019, 10, 5, 21, 21, 26),\n",
       "  PullRequest(title=\"sddm: add module option to set users profile picture\", number=70492)),\n",
       " (datetime.datetime(2020, 8, 9, 4, 39, 21),\n",
       "  PullRequest(title=\"networking: Set networking.search to [domain] by default\", number=94986)),\n",
       " (datetime.datetime(2020, 7, 25, 18, 29, 31),\n",
       "  PullRequest(title=\"Enable Qtile tests\", number=93837)),\n",
       " (datetime.datetime(2020, 5, 4, 18, 15, 22),\n",
       "  PullRequest(title=\"binutils: add avr-size patch\", number=86812)),\n",
       " (datetime.datetime(2020, 4, 21, 20, 8, 34),\n",
       "  PullRequest(title=\"Build airsonic from source and allow patches\", number=85714)),\n",
       " (datetime.datetime(2020, 5, 24, 15, 38, 3),\n",
       "  PullRequest(title=\"parcellite: enable appindicator support\", number=88785)),\n",
       " (datetime.datetime(2020, 5, 8, 16, 57, 26),\n",
       "  PullRequest(title=\"guile-opengl: fix dynamic loading of libraries\", number=87281)),\n",
       " (datetime.datetime(2019, 8, 22, 21, 11, 8),\n",
       "  PullRequest(title=\"[WIP] android-file-transfer: get working for darwin\", number=67301)),\n",
       " (datetime.datetime(2020, 8, 29, 7, 25, 37),\n",
       "  PullRequest(title=\"WIP: pythonPackages: normalize attribute names, fixes #49691\", number=96586)),\n",
       " (datetime.datetime(2018, 9, 9, 16, 23, 19),\n",
       "  PullRequest(title=\"[WIP] nixos: add environment.gnome3.enableExtensions\", number=46433)),\n",
       " (datetime.datetime(2020, 10, 23, 16, 45, 41),\n",
       "  PullRequest(title=\"plasma-workspace: add glib-networking and gstreamer as dependancies (for environment variable)\", number=101477)),\n",
       " (datetime.datetime(2020, 12, 24, 2, 28, 31),\n",
       "  PullRequest(title=\"fetchurl: strip query from filename\", number=107515)),\n",
       " (datetime.datetime(2020, 12, 21, 12, 45, 2),\n",
       "  PullRequest(title=\"nixos/fprintd: option to inhibit PAM rule creation\", number=107320)),\n",
       " (datetime.datetime(2020, 10, 25, 17, 10, 37),\n",
       "  PullRequest(title=\"binutils: fix an error handling bug in the Gold linker\", number=101666)),\n",
       " (datetime.datetime(2020, 11, 18, 16, 32, 14),\n",
       "  PullRequest(title=\"opendungeons: unbreak\", number=104184)),\n",
       " (datetime.datetime(2020, 11, 14, 21, 10, 7),\n",
       "  PullRequest(title=\"transition from paperspace to gradient\", number=103841)),\n",
       " (datetime.datetime(2020, 9, 28, 19, 51, 31),\n",
       "  PullRequest(title=\"gnat-wrapper/cc-wrapper cleanup and fixes\", number=99027)),\n",
       " (datetime.datetime(2020, 10, 17, 19, 40, 14),\n",
       "  PullRequest(title=\"virtscreen: fix qt error\", number=100868)),\n",
       " (datetime.datetime(2020, 6, 8, 12, 6, 34),\n",
       "  PullRequest(title=\"Generated factorio mods\", number=89799)),\n",
       " (datetime.datetime(2020, 11, 2, 8, 39, 18),\n",
       "  PullRequest(title=\"telepathy-idle: 0.2.0 → 0.2.2\", number=102449)),\n",
       " (datetime.datetime(2020, 10, 31, 13, 19, 28),\n",
       "  PullRequest(title=\"retroarch: fix build on Darwin\", number=102230)),\n",
       " (datetime.datetime(2020, 12, 4, 19, 13, 23),\n",
       "  PullRequest(title=\"gmqcc: init at unstable-2020-10-27\", number=105903)),\n",
       " (datetime.datetime(2020, 10, 23, 23, 40, 41),\n",
       "  PullRequest(title=\"pythonPackages.imutils: refactor\", number=101513)),\n",
       " (datetime.datetime(2020, 10, 4, 21, 18, 1),\n",
       "  PullRequest(title=\"freetype: init demos output\", number=99594)),\n",
       " (datetime.datetime(2020, 9, 14, 22, 51, 4),\n",
       "  PullRequest(title=\"[WIP] chromium.withPackages/chromium-extensions: init\", number=98014)),\n",
       " (datetime.datetime(2020, 10, 6, 17, 55, 10),\n",
       "  PullRequest(title=\"WIP: reintroduce the systemd lib output\", number=99881)),\n",
       " (datetime.datetime(2020, 10, 20, 8, 7, 37),\n",
       "  PullRequest(title=\"nixos/defaults: init\", number=101127)),\n",
       " (datetime.datetime(2019, 4, 26, 11, 58, 4),\n",
       "  PullRequest(title=\"ckb-next service: apply udev rules provided by package\", number=60263)),\n",
       " (datetime.datetime(2018, 11, 11, 18, 19, 3),\n",
       "  PullRequest(title=\"linuxPackages_custom should accept a list of kernel patches\", number=50241)),\n",
       " (datetime.datetime(2020, 5, 27, 13, 37, 38),\n",
       "  PullRequest(title=\"dvb_apps: fix broken package\", number=89023)),\n",
       " (datetime.datetime(2020, 7, 11, 16, 18, 16),\n",
       "  PullRequest(title=\"doc: adding labels doesn't require commit rights\", number=92941)),\n",
       " (datetime.datetime(2020, 3, 12, 11, 56, 7),\n",
       "  PullRequest(title=\"openjfx: respect NIX_BUILD_CORES in nested cmake\", number=82397)),\n",
       " (datetime.datetime(2019, 9, 15, 11, 27, 57),\n",
       "  PullRequest(title=\"certmgr: 1.6.4 -> 2.0.1, improvements for nixos module\", number=68835)),\n",
       " (datetime.datetime(2019, 11, 27, 9, 56, 36),\n",
       "  PullRequest(title=\"nixos: enrich systemd.nspawn.* options\", number=74316)),\n",
       " (datetime.datetime(2020, 8, 31, 14, 24, 57),\n",
       "  PullRequest(title=\"Mpdscheduler\", number=96838)),\n",
       " (datetime.datetime(2020, 10, 9, 0, 40, 23),\n",
       "  PullRequest(title=\"libwebrtc\", number=100062)),\n",
       " (datetime.datetime(2017, 5, 4, 19, 28, 56),\n",
       "  PullRequest(title=\"Python: check if multiple versions of a package in a closure\", number=25506)),\n",
       " (datetime.datetime(2019, 2, 22, 14, 23, 6),\n",
       "  PullRequest(title=\"ocaml: create new metaocamlPackages set\", number=56190)),\n",
       " (datetime.datetime(2019, 7, 15, 15, 50, 33),\n",
       "  PullRequest(title=\"WIP buildPythonPackage: rename options to buildFlags, installFlags an…\", number=64812)),\n",
       " (datetime.datetime(2019, 7, 20, 6, 5, 54),\n",
       "  PullRequest(title=\"fix the vmWithBootloader attribute of nixos\", number=65133)),\n",
       " (datetime.datetime(2020, 4, 24, 0, 48, 55),\n",
       "  PullRequest(title=\"openjdk8 compile statically\", number=85902)),\n",
       " (datetime.datetime(2020, 3, 27, 20, 48, 50),\n",
       "  PullRequest(title=\"WIP: xrdesktop packages & gnome-shell xrdesktop\", number=83527)),\n",
       " (datetime.datetime(2019, 4, 24, 15, 33, 42),\n",
       "  PullRequest(title=\"stdenv, treewide: Better configure platforms\", number=60166)),\n",
       " (datetime.datetime(2018, 12, 30, 5, 50, 10),\n",
       "  PullRequest(title=\"WIP: EDK2, OVMF.fd: fixes for cross-compilation + dependencies + armv7l\", number=53064)),\n",
       " (datetime.datetime(2019, 4, 26, 9, 38, 51),\n",
       "  PullRequest(title=\"gdk-pixbuf: Use a different GDK_PIXBUF_MODULE_FILE environment variable on 32-bit and 64-bit systems.\", number=60254)),\n",
       " (datetime.datetime(2017, 11, 22, 22, 23, 2),\n",
       "  PullRequest(title=\"[wip] Rely on propagated findXMLCatalogs hook\", number=31952)),\n",
       " (datetime.datetime(2019, 7, 31, 11, 11, 28),\n",
       "  PullRequest(title=\"pam: add redHatModules option\", number=65636)),\n",
       " (datetime.datetime(2020, 3, 14, 13, 45, 50),\n",
       "  PullRequest(title=\"Python: patch interpreter to handle NIX_PYTHONHOME\", number=82582)),\n",
       " (datetime.datetime(2019, 3, 25, 17, 57, 34),\n",
       "  PullRequest(title=\"Customizable fsType for make-disk-image\", number=58279)),\n",
       " (datetime.datetime(2020, 4, 9, 13, 49, 15),\n",
       "  PullRequest(title=\"gcc: copy windows library file to the lib output\", number=84815)),\n",
       " (datetime.datetime(2020, 9, 7, 19, 12, 51),\n",
       "  PullRequest(title=\"blender: wrap in separate derivation, fixes #97250\", number=97388)),\n",
       " (datetime.datetime(2019, 7, 13, 7, 40, 45),\n",
       "  PullRequest(title=\"liv.trivial.version: don't make it available as lib.version\", number=64693)),\n",
       " (datetime.datetime(2020, 1, 11, 23, 12, 24),\n",
       "  PullRequest(title=\"{python{Full,Packages},pypyPackages}: move unversioned aliases to aliases.nix\", number=77535)),\n",
       " (datetime.datetime(2020, 1, 14, 23, 27, 23),\n",
       "  PullRequest(title=\"cupy: Move cudatoolkit to propagatedNativeBuildInputs to fix Thrust\", number=77708)),\n",
       " (datetime.datetime(2020, 7, 20, 14, 20, 32),\n",
       "  PullRequest(title=\"Add buildFontPackage with test\", number=93533)),\n",
       " (datetime.datetime(2019, 10, 2, 10, 0, 17),\n",
       "  PullRequest(title=\"xorg.*: set XFILESEARCHPATH for all xorg apps if applicable\", number=70239)),\n",
       " (datetime.datetime(2019, 11, 29, 18, 32, 46),\n",
       "  PullRequest(title=\"BuildRustCrate: Fixing compilation issue on Darwin\", number=74664)),\n",
       " (datetime.datetime(2019, 8, 15, 19, 2, 8),\n",
       "  PullRequest(title=\"wireguard: allow routes to overlap with other routes\", number=66689)),\n",
       " (datetime.datetime(2019, 6, 19, 22, 37, 19),\n",
       "  PullRequest(title=\"NixOS config option to disable networking entirely\", number=63541)),\n",
       " (datetime.datetime(2019, 3, 24, 18, 27, 39),\n",
       "  PullRequest(title=\"buildRustCrate: overridable stdenv, and propagatedBuildInputs\", number=58212)),\n",
       " (datetime.datetime(2018, 9, 8, 16, 47, 4),\n",
       "  PullRequest(title=\"nixos/nginx: populate extraDomains with vhosts using useACMEHost\", number=46379)),\n",
       " (datetime.datetime(2020, 3, 12, 3, 16, 46),\n",
       "  PullRequest(title=\"nixos/opendkim: Deprecate configFile in favor of settings option\", number=82379)),\n",
       " (datetime.datetime(2020, 4, 1, 5, 46, 11),\n",
       "  PullRequest(title=\"modules/xrdp: refactor\", number=83927)),\n",
       " (datetime.datetime(2019, 11, 19, 12, 11, 37),\n",
       "  PullRequest(title=\"nixos/prometheus: 'configText' -> 'configFile' and final config in /etc\", number=73751)),\n",
       " (datetime.datetime(2020, 5, 14, 18, 56, 4),\n",
       "  PullRequest(title=\"treewide: remove uses of p7zip\", number=87837)),\n",
       " (datetime.datetime(2020, 3, 17, 20, 13, 5),\n",
       "  PullRequest(title=\"build-support/fetchgitlab: enable to pass private_token as an option\", number=82804)),\n",
       " (datetime.datetime(2020, 3, 21, 13, 19, 48),\n",
       "  PullRequest(title=\"nixos/filesender init\", number=83077)),\n",
       " (datetime.datetime(2019, 3, 13, 13, 54, 51),\n",
       "  PullRequest(title=\"lib/attrsets: add mapAttrsToString and mapAttrsToStringSep\", number=57584)),\n",
       " (datetime.datetime(2020, 3, 29, 7, 30, 55),\n",
       "  PullRequest(title=\"services.nixosManual fallout\", number=83651)),\n",
       " (datetime.datetime(2020, 8, 18, 7, 40, 3),\n",
       "  PullRequest(title=\"Upgrade tensorflow (binary) to version 2.2.0\", number=95736)),\n",
       " (datetime.datetime(2020, 8, 7, 16, 28, 21),\n",
       "  PullRequest(title=\"refactor: refactor jruby to allow multiple versions\", number=94876)),\n",
       " (datetime.datetime(2019, 5, 1, 19, 22, 19),\n",
       "  PullRequest(title=\"ghidra: refactor\", number=60664)),\n",
       " (datetime.datetime(2020, 1, 11, 6, 10, 20),\n",
       "  PullRequest(title=\"python3Packages.caldav: unbreak now that xandikos is packaged, touchups\", number=77493)),\n",
       " (datetime.datetime(2019, 11, 15, 13, 35, 38),\n",
       "  PullRequest(title=\"nixos-container: allow custom nixpkgs path.\", number=73458)),\n",
       " (datetime.datetime(2019, 11, 15, 17, 40, 40),\n",
       "  PullRequest(title=\"nixos-containers: allow writable api fs\", number=73467)),\n",
       " (datetime.datetime(2018, 12, 26, 23, 58, 12),\n",
       "  PullRequest(title=\"nixos/amazon-init: add ec2.userData option to copy config only once (closes #41826)\", number=52945)),\n",
       " (datetime.datetime(2018, 11, 18, 23, 18, 2),\n",
       "  PullRequest(title=\"pkgs: introduce `package-list.nix` and `trivialPackages` stage \", number=50643)),\n",
       " (datetime.datetime(2019, 4, 30, 17, 2, 30),\n",
       "  PullRequest(title=\"homesick: use bundlerApp\", number=60508)),\n",
       " (datetime.datetime(2019, 7, 23, 20, 12, 54),\n",
       "  PullRequest(title=\"make nixos.stateVersion mandatory\", number=65314)),\n",
       " (datetime.datetime(2019, 7, 26, 7, 2, 43),\n",
       "  PullRequest(title=\"countdown: init at 1.0.0\", number=65411)),\n",
       " (datetime.datetime(2019, 7, 18, 12, 48, 19),\n",
       "  PullRequest(title=\"lib/modules.nix: provide detailed error locations\", number=65024)),\n",
       " (datetime.datetime(2019, 7, 7, 0, 19, 24),\n",
       "  PullRequest(title=\"nixos/systemd-confinement: Fix DynamicUser support\", number=64405)),\n",
       " (datetime.datetime(2019, 11, 9, 16, 30, 16),\n",
       "  PullRequest(title=\"nix-prefetch-docker: handle overrides correctly\", number=73120)),\n",
       " (datetime.datetime(2019, 10, 24, 14, 21, 40),\n",
       "  PullRequest(title=\"Python: add hook to check against dependencies in a requirements.txt file\", number=71908)),\n",
       " (datetime.datetime(2019, 4, 28, 17, 0, 48),\n",
       "  PullRequest(title=\"appimage: move extraPkgs default'ing to wrapAppImage\", number=60381)),\n",
       " (datetime.datetime(2019, 10, 19, 1, 14, 3),\n",
       "  PullRequest(title=\"edbrowse: Include documentation and allow for ODBC\", number=71373)),\n",
       " (datetime.datetime(2019, 10, 23, 9, 23, 52),\n",
       "  PullRequest(title=\"release-lib.nix: initialize pkgs for the currentSystem\", number=71791)),\n",
       " (datetime.datetime(2019, 10, 11, 18, 8, 33),\n",
       "  PullRequest(title=\"[WIP] [Very WIP] nixos/desktop-managers: cfg.fallbackXsetrootParam to customize fallback from lack of wallpaper\", number=70985)),\n",
       " (datetime.datetime(2019, 8, 25, 10, 11, 9),\n",
       "  PullRequest(title=\"changed CHICKEN_REPOSITORY_PATH to $HOME/lib/chicken/11\", number=67432)),\n",
       " (datetime.datetime(2019, 6, 12, 13, 25, 31),\n",
       "  PullRequest(title=\"nixos/doc: documentation angle bracket syntax\", number=63033)),\n",
       " (datetime.datetime(2020, 1, 23, 10, 34, 30),\n",
       "  PullRequest(title=\"PBIS AD login integration\", number=78351)),\n",
       " (datetime.datetime(2020, 5, 2, 22, 11, 6),\n",
       "  PullRequest(title=\"gnupg: disable ldap support on darwin\", number=86616)),\n",
       " (datetime.datetime(2018, 8, 14, 1, 22, 1),\n",
       "  PullRequest(title=\"nixos/networking: set broadcast address\", number=45003)),\n",
       " (datetime.datetime(2020, 3, 10, 0, 19, 14),\n",
       "  PullRequest(title=\"ocamlPackages.jupyter: init at f886e34\", number=82203)),\n",
       " (datetime.datetime(2020, 4, 1, 5, 50, 54),\n",
       "  PullRequest(title=\"modules/hyperv-guest: improvements\", number=83928)),\n",
       " (datetime.datetime(2020, 4, 23, 3, 4, 58),\n",
       "  PullRequest(title=\"reason-language-server: init at 1.7.8\", number=85841)),\n",
       " (datetime.datetime(2020, 6, 5, 15, 22, 23),\n",
       "  PullRequest(title=\"dawPlugins: init\", number=89547)),\n",
       " (datetime.datetime(2020, 4, 8, 15, 53, 7),\n",
       "  PullRequest(title=\"Olive snapshot\", number=84731)),\n",
       " (datetime.datetime(2020, 8, 3, 6, 55, 44),\n",
       "  PullRequest(title=\"WIP: altair-transform: init at 0.2.0\", number=94591)),\n",
       " (datetime.datetime(2020, 6, 13, 14, 44, 50),\n",
       "  PullRequest(title=\"WIP: buildPythonPackage: perform tests in separate derivation\", number=90240)),\n",
       " (datetime.datetime(2020, 2, 28, 21, 22, 38),\n",
       "  PullRequest(title=\"[WIP] pythonPackages.requests-html: init at 0.10.0\", number=81324)),\n",
       " (datetime.datetime(2019, 12, 1, 22, 41, 13),\n",
       "  PullRequest(title=\"WIP: gdb: Make target-independent and auto-load-safe-path with a wrapper\", number=74808)),\n",
       " (datetime.datetime(2020, 7, 25, 8, 38, 6),\n",
       "  PullRequest(title=\"tor: hidden services can bring-their-own-key\", number=93804)),\n",
       " (datetime.datetime(2019, 12, 31, 19, 7, 44),\n",
       "  PullRequest(title=\"pythonPackages.numba: refactor enable test and move to github src\", number=76752)),\n",
       " (datetime.datetime(2019, 7, 16, 21, 22, 9),\n",
       "  PullRequest(title=\"nixos/ldap: unify secrets handling\", number=64951)),\n",
       " (datetime.datetime(2019, 5, 15, 20, 41, 4),\n",
       "  PullRequest(title=\"git: Don't depend `curl-config` when cross-compiling.\", number=61552)),\n",
       " (datetime.datetime(2020, 6, 6, 18, 33, 41),\n",
       "  PullRequest(title=\"micropro: init at 0.4\", number=89689)),\n",
       " (datetime.datetime(2020, 6, 13, 19, 43, 24),\n",
       "  PullRequest(title=\"neuralcoref: init at 4.0\", number=90252)),\n",
       " (datetime.datetime(2020, 9, 7, 19, 45, 13),\n",
       "  PullRequest(title=\"Introduce `types.orderOf`\", number=97392)),\n",
       " (datetime.datetime(2019, 7, 3, 0, 41, 2),\n",
       "  PullRequest(title=\"sudo: set secure_path with root-installed software only\", number=64209)),\n",
       " (datetime.datetime(2019, 7, 24, 17, 55, 7),\n",
       "  PullRequest(title=\"[WIP] Enable testing in core scientific python libraries and move to github as src\", number=65344)),\n",
       " (datetime.datetime(2019, 7, 6, 15, 47, 43),\n",
       "  PullRequest(title=\"WIP: build-rust-crate: fix for binary crate building.\", number=64385)),\n",
       " (datetime.datetime(2018, 11, 29, 6, 14, 16),\n",
       "  PullRequest(title=\"WIP lib: Better extensible attrsets\", number=51213)),\n",
       " (datetime.datetime(2018, 9, 11, 16, 22, 28),\n",
       "  PullRequest(title=\"[WIP] RFC #33\", number=46530)),\n",
       " (datetime.datetime(2018, 7, 18, 18, 34, 13),\n",
       "  PullRequest(title=\"[WIP] sage: use proper overlays\", number=43755)),\n",
       " (datetime.datetime(2018, 2, 17, 15, 36, 38),\n",
       "  PullRequest(title=\"[WIP] stdenv: inherit `src.meta` to allow moving most of `meta` into `src.meta`\", number=35075)),\n",
       " (datetime.datetime(2017, 12, 10, 23, 35, 47),\n",
       "  PullRequest(title=\"[WIP] makeWrapper: Use case not elif-chaining, and other cleanups\", number=32552)),\n",
       " (datetime.datetime(2020, 6, 30, 13, 9, 2),\n",
       "  PullRequest(title=\"Add Apache Pulsar\", number=91837)),\n",
       " (datetime.datetime(2020, 6, 28, 2, 17, 41),\n",
       "  PullRequest(title=\"Python fbprophet\", number=91701)),\n",
       " (datetime.datetime(2020, 8, 4, 12, 34, 34),\n",
       "  PullRequest(title=\"k8s-gen: init 20200804-27edf66731c4c32a2b13ed7376f75e5291665a52\", number=94657)),\n",
       " (datetime.datetime(2020, 7, 15, 12, 15, 35),\n",
       "  PullRequest(title=\"Fix make-ext4-fs.nix to work with empty files folder\", number=93175)),\n",
       " (datetime.datetime(2020, 7, 18, 21, 34, 8),\n",
       "  PullRequest(title=\"Separate fetch target in buildBazelPackage + fixup.\", number=93443)),\n",
       " (datetime.datetime(2020, 6, 25, 5, 59, 45),\n",
       "  PullRequest(title=\"frameioclient: add package to nixpkgs\", number=91464)),\n",
       " (datetime.datetime(2019, 9, 15, 10, 58, 40),\n",
       "  PullRequest(title=\"nixos/cfssl: module improvements \", number=68834)),\n",
       " (datetime.datetime(2020, 7, 24, 7, 49, 9),\n",
       "  PullRequest(title=\"simplestreams: init at 2020-06-29\", number=93748)),\n",
       " (datetime.datetime(2019, 5, 31, 9, 10, 37),\n",
       "  PullRequest(title=\"initrd-network service: stop networking before stage-2\", number=62297)),\n",
       " (datetime.datetime(2019, 5, 1, 22, 13, 9),\n",
       "  PullRequest(title=\"Flume module\", number=60680)),\n",
       " (datetime.datetime(2019, 8, 22, 2, 57, 32),\n",
       "  PullRequest(title=\"vimplugin-unison-syntax: init at 1.0M1c\", number=67229)),\n",
       " (datetime.datetime(2019, 9, 6, 18, 10, 55),\n",
       "  PullRequest(title=\"nixos/airsonic: Fix user configuration\", number=68219)),\n",
       " (datetime.datetime(2019, 10, 27, 11, 30, 4),\n",
       "  PullRequest(title=\"Add licenseCheckPredicate for arbitrary license checks\", number=72079)),\n",
       " (datetime.datetime(2020, 2, 11, 9, 8, 14),\n",
       "  PullRequest(title=\"lmdb: build static and dynamic libs separately\", number=79810)),\n",
       " (datetime.datetime(2019, 12, 6, 1, 18, 27),\n",
       "  PullRequest(title=\"doc/python: improve description of community tools\", number=75074)),\n",
       " (datetime.datetime(2019, 9, 26, 16, 0, 55),\n",
       "  PullRequest(title=\"generic-extlinux-compatible: generate build-time and host-time extlinux builders\", number=69548)),\n",
       " (datetime.datetime(2019, 8, 12, 18, 56, 39),\n",
       "  PullRequest(title=\"rivalcfg: init at 3.6.0\", number=66534))]"
      ]
     },
     "execution_count": 8,
     "metadata": {},
     "output_type": "execute_result"
    }
   ],
   "source": [
    "import datetime\n",
    "convert_timestamp = lambda s: datetime.datetime.strptime(s, '%a, %d %b %Y %H:%M:%S %Z')\n",
    "\n",
    "[(pr.created_at, pr) for pr in sorted(current_merge_conflicts, key=lambda item: item.updated_at or item.created_at, reverse=True)]"
   ]
  },
  {
   "cell_type": "code",
   "execution_count": 9,
   "id": "aa30f22b",
   "metadata": {},
   "outputs": [
    {
     "data": {
      "text/plain": [
       "[('r-ryantm', 585),\n",
       " ('github-actions[bot]', 114),\n",
       " ('SuperSandro2000', 36),\n",
       " ('amjoseph-nixpkgs', 35),\n",
       " ('fabaff', 26),\n",
       " ('wegank', 24),\n",
       " ('dit7ya', 21),\n",
       " ('jonringer', 20),\n",
       " ('alyssais', 19),\n",
       " ('Izorkin', 16),\n",
       " ('onny', 16),\n",
       " ('veprbl', 15),\n",
       " ('mkg20001', 15),\n",
       " ('risicle', 15),\n",
       " ('KAction', 15),\n",
       " ('emilytrau', 14),\n",
       " ('peperunas', 14),\n",
       " ('ncfavier', 13),\n",
       " ('IvarWithoutBones', 13),\n",
       " ('MatthewCroughan', 13),\n",
       " ('FRidh', 13),\n",
       " ('LeSuisse', 12),\n",
       " ('zhaofengli', 12),\n",
       " ('lopsided98', 12),\n",
       " ('dotlambda', 11),\n",
       " ('winterqt', 11),\n",
       " ('ShamrockLee', 11),\n",
       " ('matthiasbeyer', 11),\n",
       " ('viraptor', 11),\n",
       " ('ajs124', 10),\n",
       " ('roberth', 10),\n",
       " ('Flakebi', 10),\n",
       " ('infinisil', 10),\n",
       " ('nh2', 10),\n",
       " ('grahamc', 10),\n",
       " ('rhoriguchi', 9),\n",
       " ('minijackson', 9),\n",
       " ('foo-dogsquared', 9),\n",
       " ('Et7f3', 9),\n",
       " ('lourkeur', 9),\n",
       " ('sternenseemann', 9),\n",
       " ('milahu', 9),\n",
       " ('Synthetica9', 9),\n",
       " ('jtojnar', 8),\n",
       " ('mweinelt', 8),\n",
       " ('NickCao', 8),\n",
       " ('nagy', 8),\n",
       " ('xaverdh', 8),\n",
       " ('schnusch', 8),\n",
       " ('Enzime', 8),\n",
       " ('kilianar', 7),\n",
       " ('nrdxp', 7),\n",
       " ('urandom2', 7),\n",
       " ('marius851000', 7),\n",
       " ('pbsds', 7),\n",
       " ('teto', 7),\n",
       " ('ehmry', 6),\n",
       " ('Artturin', 6),\n",
       " ('RaitoBezarius', 6),\n",
       " ('figsoda', 6),\n",
       " ('bcdarwin', 6),\n",
       " ('linsui', 6),\n",
       " ('symphorien', 6),\n",
       " ('aaronjheng', 6),\n",
       " ('schuelermine', 6),\n",
       " ('fgaz', 6),\n",
       " ('arcnmx', 6),\n",
       " ('06kellyjac', 6),\n",
       " ('colemickens', 6),\n",
       " ('ju1m', 6),\n",
       " ('l0b0', 6),\n",
       " ('vbgl', 5),\n",
       " ('gador', 5),\n",
       " ('yayayayaka', 5),\n",
       " ('OPNA2608', 5),\n",
       " ('panicgh', 5),\n",
       " ('andersk', 5),\n",
       " ('auchter', 5),\n",
       " ('uninsane', 5),\n",
       " ('holymonson', 5),\n",
       " ('ckiee', 5),\n",
       " ('newAM', 5),\n",
       " ('toastal', 5),\n",
       " ('raboof', 5),\n",
       " ('lukego', 5),\n",
       " ('thefloweringash', 5),\n",
       " ('huantianad', 5),\n",
       " ('somasis', 5),\n",
       " ('hacker1024', 5),\n",
       " ('thomasjm', 5),\n",
       " ('DGollings', 5),\n",
       " ('dali99', 5),\n",
       " ('Sohalt', 5),\n",
       " ('tobim', 5),\n",
       " ('r-burns', 5),\n",
       " ('oxalica', 5),\n",
       " ('hqurve', 5),\n",
       " ('DavHau', 5),\n",
       " ('yorickvP', 5),\n",
       " ('armeenm', 5),\n",
       " ('steinybot', 5),\n",
       " ('dtzWill', 5),\n",
       " ('sei40kr', 5),\n",
       " ('abbradar', 5),\n",
       " ('andir', 5),\n",
       " ('CitadelCore', 5),\n",
       " ('bjornfor', 4),\n",
       " ('qbit', 4),\n",
       " ('amesgen', 4),\n",
       " ('jpetrucciani', 4),\n",
       " ('Gerschtli', 4),\n",
       " ('divanorama', 4),\n",
       " ('lheckemann', 4),\n",
       " ('Mic92', 4),\n",
       " ('thoughtpolice', 4),\n",
       " ('aacebedo', 4),\n",
       " ('vcunat', 4),\n",
       " ('costrouc', 4),\n",
       " ('zendo', 4),\n",
       " ('muscaln', 4),\n",
       " ('piperswe', 4),\n",
       " ('midchildan', 4),\n",
       " ('LoveIsGrief', 4),\n",
       " ('edrex', 4),\n",
       " ('blaggacao', 4),\n",
       " ('thenonameguy', 4),\n",
       " ('zimbatm', 4),\n",
       " ('peterhoeg', 4),\n",
       " ('TilCreator', 4),\n",
       " ('GenericNerdyUsername', 4),\n",
       " ('illdefined', 4),\n",
       " ('toonn', 4),\n",
       " ('shyim', 4),\n",
       " ('auroraanna', 4),\n",
       " ('Profpatsch', 4),\n",
       " ('jiegec', 4),\n",
       " ('chkno', 4),\n",
       " ('djacu', 4),\n",
       " ('virusdave', 4),\n",
       " ('lucperkins', 4),\n",
       " ('KoviRobi', 4),\n",
       " ('magnetophon', 4),\n",
       " ('rehno-lindeque', 4),\n",
       " ('wahjava', 4),\n",
       " ('MrMebelMan', 4),\n",
       " ('heph2', 4),\n",
       " ('dminuoso', 4),\n",
       " ('Yureien', 4),\n",
       " ('babbaj', 4),\n",
       " ('ryneeverett', 4),\n",
       " ('snicket2100', 4),\n",
       " ('dasJ', 4),\n",
       " ('Pacman99', 4),\n",
       " ('hyperfekt', 4),\n",
       " ('starcraft66', 4),\n",
       " ('Shados', 4),\n",
       " ('Twey', 4),\n",
       " ('poscat0x04', 4),\n",
       " ('Kreyren', 4),\n",
       " ('bb010g', 4),\n",
       " ('B4dM4n', 4),\n",
       " ('offlinehacker', 4),\n",
       " ('cpcloud', 3),\n",
       " ('anthonyroussel', 3),\n",
       " ('pasqui23', 3),\n",
       " ('ners', 3),\n",
       " ('drupol', 3),\n",
       " ('Luflosi', 3),\n",
       " ('JamieMagee', 3),\n",
       " ('xworld21', 3),\n",
       " ('stehessel', 3),\n",
       " ('ivan', 3),\n",
       " ('kampka', 3),\n",
       " ('romatthe', 3),\n",
       " ('SFrijters', 3),\n",
       " ('jmbaur', 3),\n",
       " ('gbtb', 3),\n",
       " ('f2k1de', 3),\n",
       " ('bachp', 3),\n",
       " ('AnatolyPopov', 3),\n",
       " ('thufschmitt', 3),\n",
       " ('Atemu', 3),\n",
       " ('michaeladler', 3),\n",
       " ('bendlas', 3),\n",
       " ('mfenniak', 3),\n",
       " ('Radvendii', 3),\n",
       " ('raphaelr', 3),\n",
       " ('Frostman', 3),\n",
       " ('hraban', 3),\n",
       " ('rapenne-s', 3),\n",
       " ('oluceps', 3),\n",
       " ('piegamesde', 3),\n",
       " ('robryk', 3),\n",
       " ('jakubgs', 3),\n",
       " ('jordanisaacs', 3),\n",
       " ('erictapen', 3),\n",
       " ('LouisDK1', 3),\n",
       " ('mausch', 3),\n",
       " ('apfelkuchen6', 3),\n",
       " ('chuangzhu', 3),\n",
       " ('Cloudef', 3),\n",
       " ('alois31', 3),\n",
       " ('justinas', 3),\n",
       " ('Stunkymonkey', 3),\n",
       " ('tshaynik', 3),\n",
       " ('tylerjl', 3),\n",
       " ('rrbutani', 3),\n",
       " ('ryantrinkle', 3),\n",
       " ('arkivm', 3),\n",
       " ('corngood', 3),\n",
       " ('lorenz', 3),\n",
       " ('wentasah', 3),\n",
       " ('McSinyx', 3),\n",
       " ('SuperSamus', 3),\n",
       " ('swflint', 3),\n",
       " ('austinbutler', 3),\n",
       " ('icewind1991', 3),\n",
       " ('kolaente', 3),\n",
       " ('rvolosatovs', 3),\n",
       " ('erdnaxe', 3),\n",
       " ('hlolli', 3),\n",
       " ('fortuneteller2k', 3),\n",
       " ('DieracDelta', 3),\n",
       " ('lucasew', 3),\n",
       " ('c0deaddict', 3),\n",
       " ('bezmuth', 3),\n",
       " ('rnhmjoj', 3),\n",
       " ('dramforever', 3),\n",
       " ('sbruder', 3),\n",
       " ('theHedgehog0', 3),\n",
       " ('charles-dyfis-net', 3),\n",
       " ('ethindp', 3),\n",
       " ('bwlang', 3),\n",
       " ('zseri', 3),\n",
       " ('macalinao', 3),\n",
       " ('stigtsp', 3),\n",
       " ('numinit', 3),\n",
       " ('willcohen', 3),\n",
       " ('ngiger', 3),\n",
       " ('Lucus16', 3),\n",
       " ('talyz', 3),\n",
       " ('freezeboy', 3),\n",
       " ('wmertens', 3),\n",
       " ('rrix', 3),\n",
       " ('danth', 3),\n",
       " ('kvtb', 3),\n",
       " ('cmacrae', 3),\n",
       " ('kidonng', 3),\n",
       " ('pinpox', 3),\n",
       " ('samuela', 3),\n",
       " ('SCOTT-HAMILTON', 3),\n",
       " ('johanot', 3),\n",
       " ('taku0', 3),\n",
       " ('d-xo', 3),\n",
       " ('JJJollyjim', 3),\n",
       " ('ambrop72', 3),\n",
       " ('wackbyte', 2),\n",
       " ('superherointj', 2),\n",
       " ('utybo', 2),\n",
       " ('bobby285271', 2),\n",
       " ('romildo', 2),\n",
       " ('rubyowo', 2),\n",
       " ('rowanG077', 2),\n",
       " ('lionello', 2),\n",
       " ('callahad', 2),\n",
       " ('zebreus', 2),\n",
       " ('patryk4815', 2),\n",
       " ('doronbehar', 2),\n",
       " ('danieldk', 2),\n",
       " ('luizirber', 2),\n",
       " ('aakropotkin', 2),\n",
       " ('Emantor', 2),\n",
       " ('deviant', 2),\n",
       " ('tavi-vi', 2),\n",
       " ('clerie', 2),\n",
       " ('chaoticryptidz', 2),\n",
       " ('imincik', 2),\n",
       " ('ken-matsui', 2),\n",
       " ('fabianhjr', 2),\n",
       " ('AndersonTorres', 2),\n",
       " ('georgyo', 2),\n",
       " ('thiagokokada', 2),\n",
       " ('tomfitzhenry', 2),\n",
       " ('dennajort', 2),\n",
       " ('KiruyaMomochi', 2),\n",
       " ('W95Psp', 2),\n",
       " ('hmenke', 2),\n",
       " ('YourFin', 2),\n",
       " ('alerque', 2),\n",
       " ('StillerHarpo', 2),\n",
       " ('thled', 2),\n",
       " ('Gabriella439', 2),\n",
       " ('vifino', 2),\n",
       " ('wizeman', 2),\n",
       " ('pacien', 2),\n",
       " ('adamcstephens', 2),\n",
       " ('tjni', 2),\n",
       " ('loicreynier', 2),\n",
       " ('fps', 2),\n",
       " ('zowoq', 2),\n",
       " ('thyol', 2),\n",
       " ('mattmelling', 2),\n",
       " ('oxzi', 2),\n",
       " ('alaviss', 2),\n",
       " ('tanshihaj', 2),\n",
       " ('aidalgol', 2),\n",
       " ('rycee', 2),\n",
       " ('baduhai', 2),\n",
       " ('SharzyL', 2),\n",
       " ('CathalMullan', 2),\n",
       " ('ulrikstrid', 2),\n",
       " ('omasanori', 2),\n",
       " ('StarGate01', 2),\n",
       " ('hllizi', 2),\n",
       " ('rhendric', 2),\n",
       " ('ymatsiuk', 2),\n",
       " ('anpandey', 2),\n",
       " ('w4', 2),\n",
       " ('vs49688', 2),\n",
       " ('K900', 2),\n",
       " ('WhittlesJr', 2),\n",
       " ('duament', 2),\n",
       " ('emilazy', 2),\n",
       " ('cidkidnix', 2),\n",
       " ('siriobalmelli', 2),\n",
       " ('gp2112', 2),\n",
       " ('DeeUnderscore', 2),\n",
       " ('aanderse', 2),\n",
       " ('yajo', 2),\n",
       " ('lilyinstarlight', 2),\n",
       " ('tim-tx', 2),\n",
       " ('wamserma', 2),\n",
       " ('m-bdf', 2),\n",
       " ('wineee', 2),\n",
       " ('logan12358', 2),\n",
       " ('rembo10', 2),\n",
       " ('ilkecan', 2),\n",
       " ('robintown', 2),\n",
       " ('DavSanchez', 2),\n",
       " ('wozeparrot', 2),\n",
       " ('Yarny0', 2),\n",
       " ('Majiir', 2),\n",
       " ('LucaFulchir', 2),\n",
       " ('jojosch', 2),\n",
       " ('jlesquembre', 2),\n",
       " ('mikepurvis', 2),\n",
       " ('0x4A6F', 2),\n",
       " ('felixsinger', 2),\n",
       " ('Kranzes', 2),\n",
       " ('joachimschmidt557', 2),\n",
       " ('zakame', 2),\n",
       " ('natsukium', 2),\n",
       " ('bgamari', 2),\n",
       " ('nazarewk', 2),\n",
       " ('mgttlinger', 2),\n",
       " ('GTrunSec', 2),\n",
       " ('merijnb', 2),\n",
       " ('yaitskov', 2),\n",
       " ('techknowlogick', 2),\n",
       " ('bobvanderlinden', 2),\n",
       " ('jstranik', 2),\n",
       " ('AmandaCameron', 2),\n",
       " ('WolfangAukang', 2),\n",
       " ('ehllie', 2),\n",
       " ('cheriimoya', 2),\n",
       " ('rickynils', 2),\n",
       " ('davidak', 2),\n",
       " ('tie', 2),\n",
       " ('quag', 2),\n",
       " ('Alexnortung', 2),\n",
       " ('stasjok', 2),\n",
       " ('danielfullmer', 2),\n",
       " ('dxops', 2),\n",
       " ('balsoft', 2),\n",
       " ('impl', 2),\n",
       " ('k3a', 2),\n",
       " ('ankhers', 2),\n",
       " ('catern', 2),\n",
       " ('hauleth', 2),\n",
       " ('Jayman2000', 2),\n",
       " ('nash-pillai', 2),\n",
       " ('al3xtjames', 2),\n",
       " ('grindhold', 2),\n",
       " ('ursi', 2),\n",
       " ('luis-caldas', 2),\n",
       " ('aopom', 2),\n",
       " ('MoritzBoehme', 2),\n",
       " ('apraga', 2),\n",
       " ('typetetris', 2),\n",
       " ('twz123', 2),\n",
       " ('LuigiPiucco', 2),\n",
       " ('danc86', 2),\n",
       " ('eliandoran', 2),\n",
       " ('pennae', 2),\n",
       " ('rtimush', 2),\n",
       " ('smancill', 2),\n",
       " ('xfix', 2),\n",
       " ('netcrns', 2),\n",
       " ('Mindavi', 2),\n",
       " ('ranfdev', 2),\n",
       " ('christian-burger', 2),\n",
       " ('klemensn', 2),\n",
       " ('SomeoneSerge', 2),\n",
       " ('jasom', 2),\n",
       " ('dcbaker', 2),\n",
       " ('ashkitten', 2),\n",
       " ('rvl', 2),\n",
       " ('ilyakooo0', 2),\n",
       " ('layus', 2),\n",
       " ('expipiplus1', 2),\n",
       " ('ambroisie', 2),\n",
       " ('mirrexagon', 2),\n",
       " ('kmein', 2),\n",
       " ('sepiabrown', 2),\n",
       " ('phossil', 2),\n",
       " ('asymmetric', 2),\n",
       " ('noneucat', 2),\n",
       " ('kalbasit', 2),\n",
       " ('stuebinm', 2),\n",
       " ('miallo', 2),\n",
       " ('ThibautMarty', 2),\n",
       " ('mainrs', 2),\n",
       " ('rmcgibbo', 2),\n",
       " ('turion', 2),\n",
       " ('aneeshusa', 2),\n",
       " ('jerith666', 2),\n",
       " ('bb2020', 2),\n",
       " ('nbp', 2),\n",
       " ('augu5te', 2),\n",
       " ('ilian', 2),\n",
       " ('unclechu', 2),\n",
       " ('sumnerevans', 2),\n",
       " ('duckfullstop', 2),\n",
       " ('OliverEvans96', 2),\n",
       " ('happysalada', 2),\n",
       " ('glittershark', 2),\n",
       " ('tnias', 2),\n",
       " ('arezvov', 2),\n",
       " ('avieth', 2),\n",
       " ('Kha', 2),\n",
       " ('edlimerkaj', 2),\n",
       " ('IvanMalison', 2),\n",
       " ('moritzschaefer', 2),\n",
       " ('fzakaria', 2),\n",
       " ('balodja', 2),\n",
       " ('brprice', 2),\n",
       " ('KarlJoad', 2),\n",
       " ('Pamplemousse', 2),\n",
       " ('radhus', 2),\n",
       " ('pniedzwiedzinski', 2),\n",
       " ('Patryk27', 2),\n",
       " ('CohenCyril', 2),\n",
       " ('jakobrs', 2),\n",
       " ('invokesus', 2),\n",
       " ('jD91mZM2', 2),\n",
       " ('ardumont', 2),\n",
       " ('sorki', 2),\n",
       " ('hannesweisbach', 2),\n",
       " ('nyanloutre', 2),\n",
       " ('matthewbauer', 2),\n",
       " ('deliciouslytyped', 2),\n",
       " ('robinp', 2),\n",
       " ('Aver1y', 2),\n",
       " ('progval', 2),\n",
       " ('mnacamura', 2),\n",
       " ('ToxicFrog', 2),\n",
       " ('edolstra', 2),\n",
       " ('danbst', 2),\n",
       " ('tekeri', 2),\n",
       " ('tbenst', 2),\n",
       " ('P-E-Meunier', 2),\n",
       " ('illegalprime', 2),\n",
       " ('TomSmeets', 2),\n",
       " ('jameysharp', 2),\n",
       " ('tadeokondrak', 2),\n",
       " ('sshisk', 2),\n",
       " ('dingxiangfei2009', 2),\n",
       " ('oxij', 2),\n",
       " ('happyalu', 1),\n",
       " ('PedroHLC', 1),\n",
       " ('dritter', 1),\n",
       " ('360ied', 1),\n",
       " ('cyplo', 1),\n",
       " ('ruizjuanpablo', 1),\n",
       " ('msfjarvis', 1),\n",
       " ('davidsierradz', 1),\n",
       " ('hsjobeki', 1),\n",
       " ('sellout', 1),\n",
       " ('devusb', 1),\n",
       " ('astro', 1),\n",
       " ('chewblacka', 1),\n",
       " ('Conni2461', 1),\n",
       " ('gdamjan-loka', 1),\n",
       " ('autrimpo', 1),\n",
       " ('carpinchomug', 1),\n",
       " ('ymarkus', 1),\n",
       " ('kaldonir', 1),\n",
       " ('hhydraa', 1),\n",
       " ('fabianhauser', 1),\n",
       " ('2xsaiko', 1),\n",
       " ('j-brn', 1),\n",
       " ('kubukoz', 1),\n",
       " ('paulperegud', 1),\n",
       " ('gdamjan', 1),\n",
       " ('TyberiusPrime', 1),\n",
       " ('asmundo', 1),\n",
       " ('nviets', 1),\n",
       " ('alloveras', 1),\n",
       " ('brcha', 1),\n",
       " ('KyleOndy', 1),\n",
       " ('SebTM', 1),\n",
       " ('usertam', 1),\n",
       " ('Kiskae', 1),\n",
       " ('andresilva', 1),\n",
       " ('babariviere', 1),\n",
       " ('ChemicalXandco', 1),\n",
       " ('jamesdbrock', 1),\n",
       " ('penalty1083', 1),\n",
       " ('Borlaag', 1),\n",
       " ('Ralith', 1),\n",
       " ('Tom-Hubrecht', 1),\n",
       " ('brenix', 1),\n",
       " ('jyooru', 1),\n",
       " ('dacioromero', 1),\n",
       " ('vlinkz', 1),\n",
       " ('vimpostor', 1),\n",
       " ('h7x4', 1),\n",
       " ('cript0nauta', 1),\n",
       " ('timothyklim', 1),\n",
       " ('spebern', 1),\n",
       " ('jchv', 1),\n",
       " ('jamiesteven', 1),\n",
       " ('imsofi', 1),\n",
       " ('firefly-cpp', 1),\n",
       " ('name-snrl', 1),\n",
       " ('jrgiacone', 1),\n",
       " ('tsowell', 1),\n",
       " ('Infinidoge', 1),\n",
       " ('wucke13', 1),\n",
       " ('misuzu', 1),\n",
       " ('felixzieger', 1),\n",
       " ('covert8', 1),\n",
       " ('matklad', 1),\n",
       " ('toelke', 1),\n",
       " ('collares', 1),\n",
       " ('SolidRhino', 1),\n",
       " ('rumpelsepp', 1),\n",
       " ('hughobrien', 1),\n",
       " ('ThinkChaos', 1),\n",
       " ('IndeedNotJames', 1),\n",
       " ('buckley310', 1),\n",
       " ('Djabx', 1),\n",
       " ('4z3', 1),\n",
       " ('sweenu', 1),\n",
       " ('jceb', 1),\n",
       " ('apeschar', 1),\n",
       " ('saschagrunert', 1),\n",
       " ('tehmatt', 1),\n",
       " ('azuwis', 1),\n",
       " ('oaksoaj', 1),\n",
       " ('abuibrahim', 1),\n",
       " ('FedericoSchonborn', 1),\n",
       " ('dark-ether', 1),\n",
       " ('cbourjau', 1),\n",
       " ('Eliot00', 1),\n",
       " ('js6pak', 1),\n",
       " ('satoqz', 1),\n",
       " ('bfortz', 1),\n",
       " ('Lassulus', 1),\n",
       " ('zarelit', 1),\n",
       " ('asbachb', 1),\n",
       " ('ipetkov', 1),\n",
       " ('Binary-Eater', 1),\n",
       " ('dyercode', 1),\n",
       " ('SubhrajyotiSen', 1),\n",
       " ('sarcasticadmin', 1),\n",
       " ('heijligen', 1),\n",
       " ('fufexan', 1),\n",
       " ('GaetanLepage', 1),\n",
       " ('evils', 1),\n",
       " ('skyfmmf', 1),\n",
       " ('gdinh', 1),\n",
       " ('wavewave', 1),\n",
       " ('yu-re-ka', 1),\n",
       " ('ekimber', 1),\n",
       " ('kadel', 1),\n",
       " ('1sixth', 1),\n",
       " ('jslight90', 1),\n",
       " ('ercao', 1),\n",
       " ('ylh', 1),\n",
       " ('anticomputer', 1),\n",
       " ('damianoognissanti', 1),\n",
       " ('meain', 1),\n",
       " ('whiteley', 1),\n",
       " ('n8henrie', 1),\n",
       " ('farcaller', 1),\n",
       " ('leo60228', 1),\n",
       " ('luigi311', 1),\n",
       " ('dmoonfire', 1),\n",
       " ('nvmd', 1),\n",
       " ('BeneSim', 1),\n",
       " ('reckenrode', 1),\n",
       " ('reixn', 1),\n",
       " ('veehaitch', 1),\n",
       " ('JonathanReeve', 1),\n",
       " ('christophcharles', 1),\n",
       " ('Fuuzetsu', 1),\n",
       " ('alexarice', 1),\n",
       " ('kradalby', 1),\n",
       " ('joeriexelmans', 1),\n",
       " ('luxus', 1),\n",
       " ('Myaats', 1),\n",
       " ('SitAAAx', 1),\n",
       " ('brynedwards', 1),\n",
       " ('gefla', 1),\n",
       " ('GuillaumeGen', 1),\n",
       " ('herrwiese', 1),\n",
       " ('teh', 1),\n",
       " ('TTTPOB', 1),\n",
       " ('Kirens', 1),\n",
       " ('not-my-segfault', 1),\n",
       " ('jooooscha', 1),\n",
       " ('Yorwba', 1),\n",
       " ('snpschaaf', 1),\n",
       " ('arcz', 1),\n",
       " ('ddelabru', 1),\n",
       " ('44100hertz', 1),\n",
       " ('jocelynthode', 1),\n",
       " ('onthestairs', 1),\n",
       " ('Trundle', 1),\n",
       " ('lejam1798', 1),\n",
       " ('chvp', 1),\n",
       " ('prtzl', 1),\n",
       " ('mathletedev', 1),\n",
       " ('dpzmick', 1),\n",
       " ('crawford', 1),\n",
       " ('pschyska', 1),\n",
       " ('intelfx', 1),\n",
       " ('bmillwood', 1),\n",
       " ('anpin', 1),\n",
       " ('afwlehmann', 1),\n",
       " ('ElvishJerricco', 1),\n",
       " ('sikmir', 1),\n",
       " ('sielicki', 1),\n",
       " ('MayNiklas', 1),\n",
       " ('bcc32', 1),\n",
       " ('Yornik', 1),\n",
       " ('bzizou', 1),\n",
       " ('zaninime', 1),\n",
       " ('AdrianKoshka', 1),\n",
       " ('Grubben', 1),\n",
       " ('bigshaq9999', 1),\n",
       " ('wanderer', 1),\n",
       " ('Astavie', 1),\n",
       " ('traxys', 1),\n",
       " ('realsnick', 1),\n",
       " ('mdarocha', 1),\n",
       " ('AlekSi', 1),\n",
       " ('vivlim', 1),\n",
       " ('Freed-Wu', 1),\n",
       " ('avrahamappel', 1),\n",
       " ('mateodd25', 1),\n",
       " ('alcarney', 1),\n",
       " ('totoroot', 1),\n",
       " ('reivilibre', 1),\n",
       " ('mstarzyk', 1),\n",
       " ('AidanRB', 1),\n",
       " ('alexbakker', 1),\n",
       " ('HarHarLinks', 1),\n",
       " ('cdepillabout', 1),\n",
       " ('hiljusti', 1),\n",
       " ('laalsaas', 1),\n",
       " ('kouyk', 1),\n",
       " ('VAWVAW', 1),\n",
       " ('lukash', 1),\n",
       " ('nomeata', 1),\n",
       " ('luftmensch-luftmensch', 1),\n",
       " ('anoadragon453', 1),\n",
       " ('jmgilman', 1),\n",
       " ('Niols', 1),\n",
       " ('shadaj', 1),\n",
       " ('marksisson', 1),\n",
       " ('douglascamata', 1),\n",
       " ('e-nikolov', 1),\n",
       " ('iavael', 1),\n",
       " ('arilotter', 1),\n",
       " ('jdbaldry', 1),\n",
       " ('montchr', 1),\n",
       " ('GlassGhost', 1),\n",
       " ('terlar', 1),\n",
       " ('mdevlamynck', 1),\n",
       " ('bouk', 1),\n",
       " ('roblabla', 1),\n",
       " ('eigengrau', 1),\n",
       " ('MatthieuBarthel', 1),\n",
       " ('GuillaumeDesforges', 1),\n",
       " ('v1kko', 1),\n",
       " ('sdedovic', 1),\n",
       " ('tboerger', 1),\n",
       " ('yurkobb', 1),\n",
       " ('visortelle', 1),\n",
       " ('Smona', 1),\n",
       " ('brinkofbailout', 1),\n",
       " ('eddsteel', 1),\n",
       " ('blueforesticarus', 1),\n",
       " ('bobrik', 1),\n",
       " ('dlip', 1),\n",
       " ('phrogg', 1),\n",
       " ('ghuntley', 1),\n",
       " ('BonusPlay', 1),\n",
       " ('considerate', 1),\n",
       " ('alan-strohm', 1),\n",
       " ('ck3d', 1),\n",
       " ('ocfox', 1),\n",
       " ('kyren', 1),\n",
       " ('trepetti', 1),\n",
       " ('yavko', 1),\n",
       " ('HolgerPeters', 1),\n",
       " ('gekoke', 1),\n",
       " ('j2ghz', 1),\n",
       " ('peat-psuwit', 1),\n",
       " ('mtoohey31', 1),\n",
       " ('MangoIV', 1),\n",
       " ('afh', 1),\n",
       " ('kirillrdy', 1),\n",
       " ('Mikilio', 1),\n",
       " ('nikstur', 1),\n",
       " ('sioodmy', 1),\n",
       " ('dominikh', 1),\n",
       " ('metiulekm', 1),\n",
       " ('quasigod-io', 1),\n",
       " ('keks', 1),\n",
       " ('bnikolic', 1),\n",
       " ('nat-418', 1),\n",
       " ('juanibiapina', 1),\n",
       " ('delroth', 1),\n",
       " ('pongo1231', 1),\n",
       " ('jonasnick', 1),\n",
       " ('vsoch', 1),\n",
       " ('Unkn0wnCat', 1),\n",
       " ('bpaulin', 1),\n",
       " ('DavidCromp', 1),\n",
       " ('badele', 1),\n",
       " ('rilysh', 1),\n",
       " ('thrifty-txt', 1),\n",
       " ('atemp', 1),\n",
       " ('Aehmlo', 1),\n",
       " ('anka-213', 1),\n",
       " ('alanpearce', 1),\n",
       " ('SebastienDeriaz', 1),\n",
       " ('rferris', 1),\n",
       " ('SamirTalwar', 1),\n",
       " ('jeffguorg', 1),\n",
       " ('kfiz', 1),\n",
       " ('martiert', 1),\n",
       " ('CobaltCause', 1),\n",
       " ('vidister', 1),\n",
       " ('jo1gi', 1),\n",
       " ('voidzero', 1),\n",
       " ('ppentchev', 1),\n",
       " ('kip93', 1),\n",
       " ('nessdoor', 1),\n",
       " ('tstachl', 1),\n",
       " ('malob', 1),\n",
       " ('sourceindex', 1),\n",
       " ('HanEmile', 1),\n",
       " ('isabelgk', 1),\n",
       " ('nkprince007', 1),\n",
       " ('jaybosamiya', 1),\n",
       " ('jneem', 1),\n",
       " ('greg-hellings', 1),\n",
       " ('simonkampe', 1),\n",
       " ('LuisChDev', 1),\n",
       " ('andreaswolf', 1),\n",
       " ('bertof', 1),\n",
       " ('Minion3665', 1),\n",
       " ('bergkvist', 1),\n",
       " ('rwxd', 1),\n",
       " ('quinn-dougherty', 1),\n",
       " ('handerpeder', 1),\n",
       " ('ozkutuk', 1),\n",
       " ('jayeshbhoot', 1),\n",
       " ('IllustratedMan-code', 1),\n",
       " ('mkgvt', 1),\n",
       " ('YoshiRulz', 1),\n",
       " ('GeopJr', 1),\n",
       " ('scoates', 1),\n",
       " ('siph', 1),\n",
       " ('liff', 1),\n",
       " ('sifmelcara', 1),\n",
       " ('lf-', 1),\n",
       " ('cmm', 1),\n",
       " ('kalebpace', 1),\n",
       " ('jflanglois', 1),\n",
       " ('czapek1337', 1),\n",
       " ('fabius', 1),\n",
       " ('gilice', 1),\n",
       " ('dywedir', 1),\n",
       " ('addict3d', 1),\n",
       " ('nbraud', 1),\n",
       " ('uvNikita', 1),\n",
       " ('cafkafk', 1),\n",
       " ('elizagamedev', 1),\n",
       " ('jraygauthier', 1),\n",
       " ('jian-lin', 1),\n",
       " ('Ma27', 1),\n",
       " ('dag-h', 1),\n",
       " ('crutonjohn', 1),\n",
       " ('strager', 1),\n",
       " ('YisuiDenghua', 1),\n",
       " ('nilp0inter', 1),\n",
       " ('dpk', 1),\n",
       " ('cardenaso11', 1),\n",
       " ('SrTobi', 1),\n",
       " ('silverraven691', 1),\n",
       " ('arjinfo', 1),\n",
       " ('PanAeon', 1),\n",
       " ('tricktron', 1),\n",
       " ('jcarrag', 1),\n",
       " ('LEXUGE', 1),\n",
       " ('Atry', 1),\n",
       " ('mitchmindtree', 1),\n",
       " ('sheldonneuberger-sc', 1),\n",
       " ('endocrimes', 1),\n",
       " ('pvgmenegasso', 1),\n",
       " ('TheZombie1999', 1),\n",
       " ('evan-goode', 1),\n",
       " ('tu-maurice', 1),\n",
       " ('kraem', 1),\n",
       " ('vale981', 1),\n",
       " ('brendon-boldt', 1),\n",
       " ('tartavull', 1),\n",
       " ('felixalbrigtsen', 1),\n",
       " ('afreakk', 1),\n",
       " ('IslandUsurper', 1),\n",
       " ('arikgrahl', 1),\n",
       " ('pcasaretto', 1),\n",
       " ('Fumesover', 1),\n",
       " ('gdw2', 1),\n",
       " ('benjamb', 1),\n",
       " ('sephii', 1),\n",
       " ('Tchekda', 1),\n",
       " ('LazyGeniusMan', 1),\n",
       " ('Algram', 1),\n",
       " ('andreoss', 1),\n",
       " ('elohmeier', 1),\n",
       " ('pi314mm', 1),\n",
       " ('stephank', 1),\n",
       " ('ento', 1),\n",
       " ('cariandrum22', 1),\n",
       " ('Softsun2', 1),\n",
       " ('ParetoOptimalDev', 1),\n",
       " ('PyroLagus', 1),\n",
       " ('haskelious', 1),\n",
       " ('johnalotoski', 1),\n",
       " ('mmilata', 1),\n",
       " ('kekrby', 1),\n",
       " ('michojel', 1),\n",
       " ('joergdw', 1),\n",
       " ('robbins', 1),\n",
       " ('jdheyburn', 1),\n",
       " ('anandsuresh', 1),\n",
       " ('silasdavis', 1),\n",
       " ('evanrichter', 1),\n",
       " ('xerbalind', 1),\n",
       " ('adisbladis', 1),\n",
       " ('leungbk', 1),\n",
       " ('chasecaleb', 1),\n",
       " ('centromere', 1),\n",
       " ('the-argus', 1),\n",
       " ('CesarGallego', 1),\n",
       " ('squalus', 1),\n",
       " ('jhvst', 1),\n",
       " ('Jo-Blade', 1),\n",
       " ('snaar', 1),\n",
       " ('pinn3', 1),\n",
       " ('reedriley', 1),\n",
       " ('DarkOnion0', 1),\n",
       " ('csernazs', 1),\n",
       " ('razielgn', 1),\n",
       " ('puffnfresh', 1),\n",
       " ('abueide', 1),\n",
       " ('ethanabrooks', 1),\n",
       " ('wesleyjrz', 1),\n",
       " ('mkohler', 1),\n",
       " ('jakobneufeld', 1),\n",
       " ('karthanistyr', 1),\n",
       " ('necrophcodr', 1),\n",
       " ('Scoder12', 1),\n",
       " ('FnControlOption', 1),\n",
       " ('mgregson', 1),\n",
       " ('hax404', 1),\n",
       " ('jwiegley', 1),\n",
       " ('sivizius', 1),\n",
       " ('mothsART', 1),\n",
       " ('wesnel', 1),\n",
       " ('oatmealine', 1),\n",
       " ('lvitaly', 1),\n",
       " ('cransom', 1),\n",
       " ('benjajaja', 1),\n",
       " ('derBobo', 1),\n",
       " ('beardhatcode', 1),\n",
       " ('e1mo', 1),\n",
       " ('marcus7070', 1),\n",
       " ('matthewess', 1),\n",
       " ('povik', 1),\n",
       " ('Informatic', 1),\n",
       " ('admiral0', 1),\n",
       " ('evanjs', 1),\n",
       " ('iagocq', 1),\n",
       " ('timhae', 1),\n",
       " ('yrd', 1),\n",
       " ('yl3dy', 1),\n",
       " ('ooesili', 1),\n",
       " ('kylesferrazza', 1),\n",
       " ('remexre', 1),\n",
       " ('YorikSar', 1),\n",
       " ('thexyno', 1),\n",
       " ('xavierzwirtz', 1),\n",
       " ('aaronchall', 1),\n",
       " ('s1341', 1),\n",
       " ('kfollesdal', 1),\n",
       " ('3nprob', 1),\n",
       " ('erincandescent', 1),\n",
       " ('celestefox', 1),\n",
       " ('IceCodeNew', 1),\n",
       " ('gytis-ivaskevicius', 1),\n",
       " ('sorpaas', 1),\n",
       " ('MaeIsBad', 1),\n",
       " ('itsfarseen', 1),\n",
       " ('sagehane', 1),\n",
       " ('luxzeitlos', 1),\n",
       " ('catap', 1),\n",
       " ('applePrincess', 1),\n",
       " ('erikarvstedt', 1),\n",
       " ('Cynerd', 1),\n",
       " ('herberteuler', 1),\n",
       " ('LU15W1R7H', 1),\n",
       " ('MasseGuillaume', 1),\n",
       " ('davidarmstronglewis', 1),\n",
       " ('denbeigh2000', 1),\n",
       " ('iptq', 1),\n",
       " ('nalves599', 1),\n",
       " ('monyarm', 1),\n",
       " ('pathway27', 1),\n",
       " ('Francesco149', 1),\n",
       " ('andrew-hoff', 1),\n",
       " ('dnr', 1),\n",
       " ('lschuermann', 1),\n",
       " ('davidtwco', 1),\n",
       " ('jsamsa', 1),\n",
       " ('milogert', 1),\n",
       " ('r3dl3g', 1),\n",
       " ('pmiddend', 1),\n",
       " ('Rotaerk', 1),\n",
       " ('tiagolobocastro', 1),\n",
       " ('fschwalbe', 1),\n",
       " ('dgbuckley', 1),\n",
       " ('Liberatys', 1),\n",
       " ('malbarbo', 1),\n",
       " ('spacekitteh', 1),\n",
       " ('therishidesai', 1),\n",
       " ('MatthiasBenaets', 1),\n",
       " ('mehmooda', 1),\n",
       " ('euank', 1),\n",
       " ('earldouglas', 1),\n",
       " ('neilmayhew', 1),\n",
       " ('JohnAZoidberg', 1),\n",
       " ('samhug', 1),\n",
       " ('djahandarie', 1),\n",
       " ('matthewpi', 1),\n",
       " ('o8opi', 1),\n",
       " ('Slabity', 1),\n",
       " ('97nomad', 1),\n",
       " ('mvnetbiz', 1),\n",
       " ('hexop', 1),\n",
       " ('edef1c', 1),\n",
       " ('adieu', 1),\n",
       " ('elken', 1),\n",
       " ('JCoMcL', 1),\n",
       " ('cirkku', 1),\n",
       " ('tek', 1),\n",
       " ('robgssp', 1),\n",
       " ('Cogitri', 1),\n",
       " ('flyx', 1),\n",
       " ('marcosrdac', 1),\n",
       " ('zzschmidc', 1),\n",
       " ('skeleten', 1),\n",
       " ('MikePlayle', 1),\n",
       " ('pingiun', 1),\n",
       " ('Guiguiprim', 1),\n",
       " ('alekseysidorov', 1),\n",
       " ('anmonteiro', 1),\n",
       " ('Anillc', 1),\n",
       " ('akshaymankar', 1),\n",
       " ('Mathnerd314', 1),\n",
       " ('rbreslow', 1),\n",
       " ('Quentin-M', 1),\n",
       " ('Snuggle', 1),\n",
       " ('uri-canva', 1),\n",
       " ...]"
      ]
     },
     "execution_count": 9,
     "metadata": {},
     "output_type": "execute_result"
    }
   ],
   "source": [
    "from collections import Counter\n",
    "Counter([pr.user.login for pr in all_prs if not pr.draft]).most_common()"
   ]
  },
  {
   "cell_type": "code",
   "execution_count": 39,
   "id": "7d7ff718",
   "metadata": {},
   "outputs": [],
   "source": [
    "from dataclasses import dataclass\n",
    "import re\n",
    "\n",
    "@dataclass\n",
    "class Semver:\n",
    "    major: int\n",
    "    minor: int\n",
    "    patch: int = 0\n",
    "        \n",
    "    @classmethod\n",
    "    def from_str(cls, ver: str):\n",
    "        assert is_semver(ver), \"not a semantic version\"\n",
    "        return cls(*list(map(int, re.match('(?P<major>[0-9]+)\\.(?P<minor>[0-9]+)\\.(?P<patch>[0-9]+)', ver).groups())))\n",
    "    \n",
    "@dataclass\n",
    "class SemverUpgradeNature:\n",
    "    old_version: Semver\n",
    "    new_version: Semver\n",
    "    \n",
    "    @property\n",
    "    def major_level(self):\n",
    "        return self.old_version.major != self.new_version.major\n",
    "    \n",
    "    @property\n",
    "    def minor_level(self):\n",
    "        return (not self.major_level) and (self.old_version.minor != self.new_version.minor)\n",
    "    \n",
    "    @property\n",
    "    def patch_level(self):\n",
    "        return (not self.major_level and not self.minor_level) and (self.old_version.patch != self.new_version.patch)\n",
    "\n",
    "def is_semver(ver: str):\n",
    "    try:\n",
    "        groups = list(map(int, re.match('(?P<major>[0-9]+)\\.(?P<minor>[0-9]+)\\.(?P<patch>[0-9]+)', ver).groups()))\n",
    "        return 2 <= len(groups) <= 3\n",
    "    except:\n",
    "        return False\n",
    "\n",
    "def semver_nature(old_ver: str, new_ver: str):\n",
    "    return SemverUpgradeNature(\n",
    "        old_version=Semver.from_str(old_ver),\n",
    "        new_version=Semver.from_str(new_ver)\n",
    "    )\n",
    "        \n",
    "@dataclass\n",
    "class UpgradeNature:\n",
    "    ptags: list[str]\n",
    "    pname: str\n",
    "    old_version: str\n",
    "    new_version: str\n",
    "    \n",
    "    @property\n",
    "    def critical(self):\n",
    "        return 'system' in self.ptags\n",
    "    \n",
    "    @property\n",
    "    def semver(self):\n",
    "        return is_semver(self.old_version) and is_semver(self.new_version)\n",
    "\n",
    "    @property\n",
    "    def patch_level(self):\n",
    "        assert self.semver, \"this upgrade do not use semantic versioning\"\n",
    "        return semver_nature(self.old_version, self.new_version).patch_level\n",
    "    \n",
    "    @property\n",
    "    def minor_level(self):\n",
    "        assert self.semver, \"this upgrade do not use semantic versioning\"\n",
    "        return semver_nature(self.old_version, self.new_version).minor_level\n",
    "    \n",
    "    @property\n",
    "    def major_level(self):\n",
    "        assert self.semver, \"this upgrade do not use semantic versioning\"\n",
    "        return semver_nature(self.old_version, self.new_version).major_level\n",
    "    \n",
    "    @property\n",
    "    def semver_level(self):\n",
    "        if self.patch_level: return 'patch'\n",
    "        elif self.minor_level: return 'minor'\n",
    "        elif self.major_level: return 'major'\n",
    "        else: return 'unknown'\n",
    "        \n",
    "def analyze_upgrade(title):\n",
    "    pname, version_update = title.split(':')\n",
    "    old_version, new_version = version_update.strip().split(' -> ')\n",
    "    \n",
    "    return UpgradeNature(pname=pname, ptags=[], old_version=old_version, new_version=new_version)"
   ]
  },
  {
   "cell_type": "code",
   "execution_count": 45,
   "id": "b2b28660",
   "metadata": {},
   "outputs": [],
   "source": [
    "from collections import defaultdict\n",
    "partition = defaultdict(list)\n",
    "for upgrade in automatic_upgrades:\n",
    "    nature = analyze_upgrade(upgrade.title)\n",
    "    if nature.semver:\n",
    "        partition[nature.semver_level].append(upgrade)"
   ]
  },
  {
   "cell_type": "code",
   "execution_count": 49,
   "id": "e748899b",
   "metadata": {},
   "outputs": [
    {
     "data": {
      "text/plain": [
       "(49, 236, 268)"
      ]
     },
     "execution_count": 49,
     "metadata": {},
     "output_type": "execute_result"
    }
   ],
   "source": [
    "len(partition['major']), len(partition['minor']), len(partition['patch'])"
   ]
  },
  {
   "cell_type": "code",
   "execution_count": 53,
   "id": "41f34749",
   "metadata": {},
   "outputs": [
    {
     "name": "stdout",
     "output_type": "stream",
     "text": [
      "137\n"
     ]
    }
   ],
   "source": [
    "remaining = len(automatic_upgrades) - (len(partition['major']) + len(partition['minor']) + len(partition['patch']))\n",
    "print(remaining)"
   ]
  },
  {
   "cell_type": "code",
   "execution_count": 69,
   "id": "95feb1ab",
   "metadata": {},
   "outputs": [
    {
     "name": "stderr",
     "output_type": "stream",
     "text": [
      "0it [00:00, ?it/s]\n",
      "0it [00:00, ?it/s]\n",
      "0it [00:00, ?it/s]\n",
      "0it [00:00, ?it/s]\n",
      "0it [00:00, ?it/s]\n",
      "0it [00:00, ?it/s]\n",
      "1it [00:00,  3.10it/s]\n",
      "0it [00:00, ?it/s]\n",
      "0it [00:00, ?it/s]\n",
      "1it [00:00,  3.33it/s]\n",
      "0it [00:00, ?it/s]\n",
      "0it [00:00, ?it/s]\n",
      "0it [00:00, ?it/s]\n",
      "0it [00:00, ?it/s]\n",
      "0it [00:00, ?it/s]\n",
      "0it [00:00, ?it/s]\n",
      "0it [00:00, ?it/s]\n",
      "0it [00:00, ?it/s]\n",
      "0it [00:00, ?it/s]\n",
      "0it [00:00, ?it/s]\n",
      "0it [00:00, ?it/s]\n",
      "0it [00:00, ?it/s]\n",
      "0it [00:00, ?it/s]\n",
      "0it [00:00, ?it/s]\n",
      "1it [00:00,  3.48it/s]\n",
      "1it [00:00,  3.46it/s]\n",
      "0it [00:00, ?it/s]\n",
      "0it [00:00, ?it/s]\n",
      "0it [00:00, ?it/s]\n",
      "0it [00:00, ?it/s]\n",
      "0it [00:00, ?it/s]\n",
      "0it [00:00, ?it/s]\n",
      "0it [00:00, ?it/s]\n",
      "0it [00:00, ?it/s]\n",
      "0it [00:00, ?it/s]\n",
      "1it [00:00,  3.44it/s]\n",
      "0it [00:00, ?it/s]\n",
      "0it [00:00, ?it/s]\n",
      "0it [00:00, ?it/s]\n",
      "0it [00:00, ?it/s]\n",
      "0it [00:00, ?it/s]\n",
      "1it [00:00,  3.12it/s]\n",
      "0it [00:00, ?it/s]\n",
      "1it [00:00,  3.00it/s]\n",
      "0it [00:00, ?it/s]\n",
      "0it [00:00, ?it/s]\n",
      "1it [00:00,  3.35it/s]\n",
      "1it [00:00,  3.32it/s]\n",
      "0it [00:00, ?it/s]\n",
      "0it [00:00, ?it/s]\n",
      "0it [00:00, ?it/s]\n",
      "0it [00:00, ?it/s]\n",
      "0it [00:00, ?it/s]\n",
      "0it [00:00, ?it/s]\n",
      "1it [00:00,  1.29it/s]\n",
      "0it [00:00, ?it/s]\n",
      "1it [00:00,  3.20it/s]\n",
      "0it [00:00, ?it/s]\n",
      "0it [00:00, ?it/s]\n",
      "0it [00:00, ?it/s]\n",
      "0it [00:00, ?it/s]\n",
      "1it [00:00,  3.21it/s]\n",
      "0it [00:00, ?it/s]\n",
      "0it [00:00, ?it/s]\n",
      "0it [00:00, ?it/s]\n",
      "1it [00:00,  3.06it/s]\n",
      "0it [00:00, ?it/s]\n",
      "0it [00:00, ?it/s]\n",
      "0it [00:00, ?it/s]\n",
      "0it [00:00, ?it/s]\n",
      "0it [00:00, ?it/s]\n",
      "1it [00:00,  2.78it/s]\n",
      "0it [00:00, ?it/s]\n",
      "0it [00:00, ?it/s]\n",
      "0it [00:00, ?it/s]\n",
      "1it [00:00,  3.30it/s]\n",
      "0it [00:00, ?it/s]\n",
      "3it [00:00,  9.52it/s]\n",
      "0it [00:00, ?it/s]\n",
      "1it [00:00,  3.20it/s]\n",
      "0it [00:00, ?it/s]\n",
      "0it [00:00, ?it/s]\n",
      "0it [00:00, ?it/s]\n",
      "0it [00:00, ?it/s]\n",
      "0it [00:00, ?it/s]\n",
      "1it [00:00,  2.85it/s]\n",
      "0it [00:00, ?it/s]\n",
      "0it [00:00, ?it/s]\n",
      "0it [00:00, ?it/s]\n",
      "0it [00:00, ?it/s]\n",
      "0it [00:00, ?it/s]\n",
      "0it [00:00, ?it/s]\n",
      "2it [00:00,  5.42it/s]\n",
      "0it [00:00, ?it/s]\n",
      "0it [00:00, ?it/s]\n",
      "0it [00:00, ?it/s]\n",
      "0it [00:00, ?it/s]\n",
      "0it [00:00, ?it/s]\n",
      "1it [00:00,  3.39it/s]\n",
      "1it [00:00,  3.60it/s]\n",
      "0it [00:00, ?it/s]\n",
      "1it [00:00,  3.24it/s]\n",
      "0it [00:00, ?it/s]\n",
      "0it [00:00, ?it/s]\n",
      "0it [00:00, ?it/s]\n",
      "0it [00:00, ?it/s]\n",
      "0it [00:00, ?it/s]\n",
      "0it [00:00, ?it/s]\n",
      "0it [00:00, ?it/s]\n",
      "0it [00:00, ?it/s]\n",
      "0it [00:00, ?it/s]\n",
      "0it [00:00, ?it/s]\n",
      "0it [00:00, ?it/s]\n",
      "0it [00:00, ?it/s]\n",
      "0it [00:00, ?it/s]\n",
      "0it [00:00, ?it/s]\n",
      "0it [00:00, ?it/s]\n",
      "0it [00:00, ?it/s]\n",
      "2it [00:00,  6.14it/s]\n",
      "1it [00:00,  3.36it/s]\n",
      "0it [00:00, ?it/s]\n",
      "0it [00:00, ?it/s]\n",
      "0it [00:00, ?it/s]\n",
      "0it [00:00, ?it/s]\n",
      "0it [00:00, ?it/s]\n",
      "0it [00:00, ?it/s]\n",
      "0it [00:00, ?it/s]\n",
      "0it [00:00, ?it/s]\n",
      "0it [00:00, ?it/s]\n",
      "0it [00:00, ?it/s]\n",
      "0it [00:00, ?it/s]\n",
      "0it [00:00, ?it/s]\n",
      "0it [00:00, ?it/s]\n",
      "0it [00:00, ?it/s]\n",
      "0it [00:00, ?it/s]\n",
      "0it [00:00, ?it/s]\n",
      "0it [00:00, ?it/s]\n",
      "0it [00:00, ?it/s]\n",
      "0it [00:00, ?it/s]\n",
      "0it [00:00, ?it/s]\n",
      "0it [00:00, ?it/s]\n",
      "0it [00:00, ?it/s]\n",
      "0it [00:00, ?it/s]\n",
      "0it [00:00, ?it/s]\n",
      "0it [00:00, ?it/s]\n",
      "0it [00:00, ?it/s]\n",
      "1it [00:00,  3.62it/s]\n",
      "0it [00:00, ?it/s]\n",
      "0it [00:00, ?it/s]\n",
      "0it [00:00, ?it/s]\n",
      "0it [00:00, ?it/s]\n",
      "0it [00:00, ?it/s]\n",
      "0it [00:00, ?it/s]\n",
      "0it [00:00, ?it/s]\n",
      "2it [00:00,  6.38it/s]\n",
      "0it [00:00, ?it/s]\n",
      "0it [00:00, ?it/s]\n",
      "1it [00:00,  2.71it/s]\n",
      "1it [00:00,  3.09it/s]\n",
      "0it [00:00, ?it/s]\n",
      "0it [00:00, ?it/s]\n",
      "0it [00:00, ?it/s]\n",
      "0it [00:00, ?it/s]\n",
      "0it [00:00, ?it/s]\n",
      "0it [00:00, ?it/s]\n",
      "0it [00:00, ?it/s]\n",
      "0it [00:00, ?it/s]\n",
      "0it [00:00, ?it/s]\n",
      "0it [00:00, ?it/s]\n",
      "0it [00:00, ?it/s]\n",
      "0it [00:00, ?it/s]\n",
      "1it [00:00,  3.08it/s]\n",
      "0it [00:00, ?it/s]\n",
      "2it [00:00,  7.23it/s]\n",
      "0it [00:00, ?it/s]\n",
      "0it [00:00, ?it/s]\n",
      "0it [00:00, ?it/s]\n",
      "0it [00:00, ?it/s]\n",
      "0it [00:00, ?it/s]\n",
      "0it [00:00, ?it/s]\n",
      "0it [00:00, ?it/s]\n",
      "1it [00:00,  2.96it/s]\n",
      "0it [00:00, ?it/s]\n",
      "0it [00:00, ?it/s]\n",
      "0it [00:00, ?it/s]\n",
      "1it [00:00,  3.59it/s]\n",
      "0it [00:00, ?it/s]\n",
      "0it [00:00, ?it/s]\n",
      "0it [00:00, ?it/s]\n",
      "0it [00:00, ?it/s]\n",
      "0it [00:00, ?it/s]\n",
      "2it [00:00,  6.25it/s]\n",
      "1it [00:00,  3.30it/s]\n",
      "0it [00:00, ?it/s]\n",
      "0it [00:00, ?it/s]\n",
      "0it [00:00, ?it/s]\n",
      "0it [00:00, ?it/s]\n",
      "2it [00:00,  5.77it/s]\n",
      "0it [00:00, ?it/s]\n",
      "0it [00:00, ?it/s]\n",
      "0it [00:00, ?it/s]\n",
      "0it [00:00, ?it/s]\n",
      "0it [00:00, ?it/s]\n",
      "0it [00:00, ?it/s]\n",
      "0it [00:00, ?it/s]\n",
      "0it [00:00, ?it/s]\n",
      "0it [00:00, ?it/s]\n",
      "0it [00:00, ?it/s]\n",
      "0it [00:00, ?it/s]\n",
      "0it [00:00, ?it/s]\n",
      "0it [00:00, ?it/s]\n",
      "0it [00:00, ?it/s]\n",
      "0it [00:00, ?it/s]\n",
      "0it [00:00, ?it/s]\n",
      "0it [00:00, ?it/s]\n",
      "0it [00:00, ?it/s]\n",
      "0it [00:00, ?it/s]\n",
      "0it [00:00, ?it/s]\n",
      "0it [00:00, ?it/s]\n",
      "0it [00:00, ?it/s]\n",
      "0it [00:00, ?it/s]\n",
      "0it [00:00, ?it/s]\n",
      "0it [00:00, ?it/s]\n",
      "0it [00:00, ?it/s]\n",
      "0it [00:00, ?it/s]\n",
      "0it [00:00, ?it/s]\n",
      "0it [00:00, ?it/s]\n",
      "1it [00:00,  3.17it/s]\n",
      "0it [00:00, ?it/s]\n",
      "1it [00:00,  3.40it/s]\n",
      "0it [00:00, ?it/s]\n",
      "0it [00:00, ?it/s]\n",
      "0it [00:00, ?it/s]\n",
      "0it [00:00, ?it/s]\n",
      "0it [00:00, ?it/s]\n",
      "0it [00:00, ?it/s]\n",
      "0it [00:00, ?it/s]\n",
      "1it [00:00,  3.11it/s]\n",
      "0it [00:00, ?it/s]\n",
      "1it [00:00,  3.18it/s]\n",
      "0it [00:00, ?it/s]\n",
      "0it [00:00, ?it/s]\n",
      "0it [00:00, ?it/s]\n",
      "0it [00:00, ?it/s]\n",
      "0it [00:00, ?it/s]\n",
      "0it [00:00, ?it/s]\n",
      "0it [00:00, ?it/s]\n",
      "0it [00:00, ?it/s]\n",
      "0it [00:00, ?it/s]\n",
      "0it [00:00, ?it/s]\n",
      "0it [00:00, ?it/s]\n",
      "0it [00:00, ?it/s]\n",
      "0it [00:00, ?it/s]\n",
      "0it [00:00, ?it/s]\n",
      "0it [00:00, ?it/s]\n",
      "0it [00:00, ?it/s]\n",
      "0it [00:00, ?it/s]\n",
      "0it [00:00, ?it/s]\n",
      "0it [00:00, ?it/s]\n",
      "0it [00:00, ?it/s]\n",
      "0it [00:00, ?it/s]\n",
      "0it [00:00, ?it/s]\n",
      "0it [00:00, ?it/s]\n",
      "0it [00:00, ?it/s]\n",
      "1it [00:00,  3.52it/s]\n",
      "1it [00:00,  3.63it/s]\n",
      "0it [00:00, ?it/s]\n",
      "1it [00:00,  3.56it/s]\n"
     ]
    }
   ],
   "source": [
    "reviews_for_patchlevel = [list(tqdm(pr.get_reviews())) for pr in partition['patch']]"
   ]
  },
  {
   "cell_type": "code",
   "execution_count": 79,
   "id": "e7929b2f",
   "metadata": {},
   "outputs": [
    {
     "data": {
      "text/html": [
       "<a href=\"https://github.com/NixOS/nixpkgs/pull/207303\">https://github.com/NixOS/nixpkgs/pull/207303</a>"
      ],
      "text/plain": [
       "<IPython.core.display.HTML object>"
      ]
     },
     "metadata": {},
     "output_type": "display_data"
    },
    {
     "data": {
      "text/html": [
       "<a href=\"https://github.com/NixOS/nixpkgs/pull/207291\">https://github.com/NixOS/nixpkgs/pull/207291</a>"
      ],
      "text/plain": [
       "<IPython.core.display.HTML object>"
      ]
     },
     "metadata": {},
     "output_type": "display_data"
    },
    {
     "data": {
      "text/html": [
       "<a href=\"https://github.com/NixOS/nixpkgs/pull/207272\">https://github.com/NixOS/nixpkgs/pull/207272</a>"
      ],
      "text/plain": [
       "<IPython.core.display.HTML object>"
      ]
     },
     "metadata": {},
     "output_type": "display_data"
    },
    {
     "data": {
      "text/html": [
       "<a href=\"https://github.com/NixOS/nixpkgs/pull/207258\">https://github.com/NixOS/nixpkgs/pull/207258</a>"
      ],
      "text/plain": [
       "<IPython.core.display.HTML object>"
      ]
     },
     "metadata": {},
     "output_type": "display_data"
    },
    {
     "data": {
      "text/html": [
       "<a href=\"https://github.com/NixOS/nixpkgs/pull/207251\">https://github.com/NixOS/nixpkgs/pull/207251</a>"
      ],
      "text/plain": [
       "<IPython.core.display.HTML object>"
      ]
     },
     "metadata": {},
     "output_type": "display_data"
    },
    {
     "data": {
      "text/html": [
       "<a href=\"https://github.com/NixOS/nixpkgs/pull/207246\">https://github.com/NixOS/nixpkgs/pull/207246</a>"
      ],
      "text/plain": [
       "<IPython.core.display.HTML object>"
      ]
     },
     "metadata": {},
     "output_type": "display_data"
    },
    {
     "data": {
      "text/html": [
       "<a href=\"https://github.com/NixOS/nixpkgs/pull/207237\">https://github.com/NixOS/nixpkgs/pull/207237</a>"
      ],
      "text/plain": [
       "<IPython.core.display.HTML object>"
      ]
     },
     "metadata": {},
     "output_type": "display_data"
    },
    {
     "data": {
      "text/html": [
       "<a href=\"https://github.com/NixOS/nixpkgs/pull/207223\">https://github.com/NixOS/nixpkgs/pull/207223</a>"
      ],
      "text/plain": [
       "<IPython.core.display.HTML object>"
      ]
     },
     "metadata": {},
     "output_type": "display_data"
    },
    {
     "data": {
      "text/html": [
       "<a href=\"https://github.com/NixOS/nixpkgs/pull/207214\">https://github.com/NixOS/nixpkgs/pull/207214</a>"
      ],
      "text/plain": [
       "<IPython.core.display.HTML object>"
      ]
     },
     "metadata": {},
     "output_type": "display_data"
    },
    {
     "data": {
      "text/html": [
       "<a href=\"https://github.com/NixOS/nixpkgs/pull/207200\">https://github.com/NixOS/nixpkgs/pull/207200</a>"
      ],
      "text/plain": [
       "<IPython.core.display.HTML object>"
      ]
     },
     "metadata": {},
     "output_type": "display_data"
    },
    {
     "data": {
      "text/html": [
       "<a href=\"https://github.com/NixOS/nixpkgs/pull/207199\">https://github.com/NixOS/nixpkgs/pull/207199</a>"
      ],
      "text/plain": [
       "<IPython.core.display.HTML object>"
      ]
     },
     "metadata": {},
     "output_type": "display_data"
    },
    {
     "data": {
      "text/html": [
       "<a href=\"https://github.com/NixOS/nixpkgs/pull/207192\">https://github.com/NixOS/nixpkgs/pull/207192</a>"
      ],
      "text/plain": [
       "<IPython.core.display.HTML object>"
      ]
     },
     "metadata": {},
     "output_type": "display_data"
    },
    {
     "data": {
      "text/html": [
       "<a href=\"https://github.com/NixOS/nixpkgs/pull/207180\">https://github.com/NixOS/nixpkgs/pull/207180</a>"
      ],
      "text/plain": [
       "<IPython.core.display.HTML object>"
      ]
     },
     "metadata": {},
     "output_type": "display_data"
    },
    {
     "data": {
      "text/html": [
       "<a href=\"https://github.com/NixOS/nixpkgs/pull/207155\">https://github.com/NixOS/nixpkgs/pull/207155</a>"
      ],
      "text/plain": [
       "<IPython.core.display.HTML object>"
      ]
     },
     "metadata": {},
     "output_type": "display_data"
    },
    {
     "data": {
      "text/html": [
       "<a href=\"https://github.com/NixOS/nixpkgs/pull/207148\">https://github.com/NixOS/nixpkgs/pull/207148</a>"
      ],
      "text/plain": [
       "<IPython.core.display.HTML object>"
      ]
     },
     "metadata": {},
     "output_type": "display_data"
    },
    {
     "data": {
      "text/html": [
       "<a href=\"https://github.com/NixOS/nixpkgs/pull/206895\">https://github.com/NixOS/nixpkgs/pull/206895</a>"
      ],
      "text/plain": [
       "<IPython.core.display.HTML object>"
      ]
     },
     "metadata": {},
     "output_type": "display_data"
    },
    {
     "data": {
      "text/html": [
       "<a href=\"https://github.com/NixOS/nixpkgs/pull/206792\">https://github.com/NixOS/nixpkgs/pull/206792</a>"
      ],
      "text/plain": [
       "<IPython.core.display.HTML object>"
      ]
     },
     "metadata": {},
     "output_type": "display_data"
    },
    {
     "data": {
      "text/html": [
       "<a href=\"https://github.com/NixOS/nixpkgs/pull/206770\">https://github.com/NixOS/nixpkgs/pull/206770</a>"
      ],
      "text/plain": [
       "<IPython.core.display.HTML object>"
      ]
     },
     "metadata": {},
     "output_type": "display_data"
    },
    {
     "data": {
      "text/html": [
       "<a href=\"https://github.com/NixOS/nixpkgs/pull/206760\">https://github.com/NixOS/nixpkgs/pull/206760</a>"
      ],
      "text/plain": [
       "<IPython.core.display.HTML object>"
      ]
     },
     "metadata": {},
     "output_type": "display_data"
    },
    {
     "data": {
      "text/html": [
       "<a href=\"https://github.com/NixOS/nixpkgs/pull/206667\">https://github.com/NixOS/nixpkgs/pull/206667</a>"
      ],
      "text/plain": [
       "<IPython.core.display.HTML object>"
      ]
     },
     "metadata": {},
     "output_type": "display_data"
    },
    {
     "data": {
      "text/html": [
       "<a href=\"https://github.com/NixOS/nixpkgs/pull/206666\">https://github.com/NixOS/nixpkgs/pull/206666</a>"
      ],
      "text/plain": [
       "<IPython.core.display.HTML object>"
      ]
     },
     "metadata": {},
     "output_type": "display_data"
    },
    {
     "data": {
      "text/html": [
       "<a href=\"https://github.com/NixOS/nixpkgs/pull/206657\">https://github.com/NixOS/nixpkgs/pull/206657</a>"
      ],
      "text/plain": [
       "<IPython.core.display.HTML object>"
      ]
     },
     "metadata": {},
     "output_type": "display_data"
    },
    {
     "data": {
      "text/html": [
       "<a href=\"https://github.com/NixOS/nixpkgs/pull/206651\">https://github.com/NixOS/nixpkgs/pull/206651</a>"
      ],
      "text/plain": [
       "<IPython.core.display.HTML object>"
      ]
     },
     "metadata": {},
     "output_type": "display_data"
    },
    {
     "data": {
      "text/html": [
       "<a href=\"https://github.com/NixOS/nixpkgs/pull/206637\">https://github.com/NixOS/nixpkgs/pull/206637</a>"
      ],
      "text/plain": [
       "<IPython.core.display.HTML object>"
      ]
     },
     "metadata": {},
     "output_type": "display_data"
    },
    {
     "data": {
      "text/html": [
       "<a href=\"https://github.com/NixOS/nixpkgs/pull/206633\">https://github.com/NixOS/nixpkgs/pull/206633</a>"
      ],
      "text/plain": [
       "<IPython.core.display.HTML object>"
      ]
     },
     "metadata": {},
     "output_type": "display_data"
    },
    {
     "data": {
      "text/html": [
       "<a href=\"https://github.com/NixOS/nixpkgs/pull/206629\">https://github.com/NixOS/nixpkgs/pull/206629</a>"
      ],
      "text/plain": [
       "<IPython.core.display.HTML object>"
      ]
     },
     "metadata": {},
     "output_type": "display_data"
    },
    {
     "data": {
      "text/html": [
       "<a href=\"https://github.com/NixOS/nixpkgs/pull/206617\">https://github.com/NixOS/nixpkgs/pull/206617</a>"
      ],
      "text/plain": [
       "<IPython.core.display.HTML object>"
      ]
     },
     "metadata": {},
     "output_type": "display_data"
    },
    {
     "data": {
      "text/html": [
       "<a href=\"https://github.com/NixOS/nixpkgs/pull/206592\">https://github.com/NixOS/nixpkgs/pull/206592</a>"
      ],
      "text/plain": [
       "<IPython.core.display.HTML object>"
      ]
     },
     "metadata": {},
     "output_type": "display_data"
    },
    {
     "data": {
      "text/html": [
       "<a href=\"https://github.com/NixOS/nixpkgs/pull/206547\">https://github.com/NixOS/nixpkgs/pull/206547</a>"
      ],
      "text/plain": [
       "<IPython.core.display.HTML object>"
      ]
     },
     "metadata": {},
     "output_type": "display_data"
    },
    {
     "data": {
      "text/html": [
       "<a href=\"https://github.com/NixOS/nixpkgs/pull/206543\">https://github.com/NixOS/nixpkgs/pull/206543</a>"
      ],
      "text/plain": [
       "<IPython.core.display.HTML object>"
      ]
     },
     "metadata": {},
     "output_type": "display_data"
    },
    {
     "data": {
      "text/html": [
       "<a href=\"https://github.com/NixOS/nixpkgs/pull/206530\">https://github.com/NixOS/nixpkgs/pull/206530</a>"
      ],
      "text/plain": [
       "<IPython.core.display.HTML object>"
      ]
     },
     "metadata": {},
     "output_type": "display_data"
    },
    {
     "data": {
      "text/html": [
       "<a href=\"https://github.com/NixOS/nixpkgs/pull/206508\">https://github.com/NixOS/nixpkgs/pull/206508</a>"
      ],
      "text/plain": [
       "<IPython.core.display.HTML object>"
      ]
     },
     "metadata": {},
     "output_type": "display_data"
    },
    {
     "data": {
      "text/html": [
       "<a href=\"https://github.com/NixOS/nixpkgs/pull/206459\">https://github.com/NixOS/nixpkgs/pull/206459</a>"
      ],
      "text/plain": [
       "<IPython.core.display.HTML object>"
      ]
     },
     "metadata": {},
     "output_type": "display_data"
    },
    {
     "data": {
      "text/html": [
       "<a href=\"https://github.com/NixOS/nixpkgs/pull/206436\">https://github.com/NixOS/nixpkgs/pull/206436</a>"
      ],
      "text/plain": [
       "<IPython.core.display.HTML object>"
      ]
     },
     "metadata": {},
     "output_type": "display_data"
    },
    {
     "data": {
      "text/html": [
       "<a href=\"https://github.com/NixOS/nixpkgs/pull/206399\">https://github.com/NixOS/nixpkgs/pull/206399</a>"
      ],
      "text/plain": [
       "<IPython.core.display.HTML object>"
      ]
     },
     "metadata": {},
     "output_type": "display_data"
    },
    {
     "data": {
      "text/html": [
       "<a href=\"https://github.com/NixOS/nixpkgs/pull/206393\">https://github.com/NixOS/nixpkgs/pull/206393</a>"
      ],
      "text/plain": [
       "<IPython.core.display.HTML object>"
      ]
     },
     "metadata": {},
     "output_type": "display_data"
    },
    {
     "data": {
      "text/html": [
       "<a href=\"https://github.com/NixOS/nixpkgs/pull/206391\">https://github.com/NixOS/nixpkgs/pull/206391</a>"
      ],
      "text/plain": [
       "<IPython.core.display.HTML object>"
      ]
     },
     "metadata": {},
     "output_type": "display_data"
    },
    {
     "data": {
      "text/html": [
       "<a href=\"https://github.com/NixOS/nixpkgs/pull/206362\">https://github.com/NixOS/nixpkgs/pull/206362</a>"
      ],
      "text/plain": [
       "<IPython.core.display.HTML object>"
      ]
     },
     "metadata": {},
     "output_type": "display_data"
    },
    {
     "data": {
      "text/html": [
       "<a href=\"https://github.com/NixOS/nixpkgs/pull/206341\">https://github.com/NixOS/nixpkgs/pull/206341</a>"
      ],
      "text/plain": [
       "<IPython.core.display.HTML object>"
      ]
     },
     "metadata": {},
     "output_type": "display_data"
    },
    {
     "data": {
      "text/html": [
       "<a href=\"https://github.com/NixOS/nixpkgs/pull/206319\">https://github.com/NixOS/nixpkgs/pull/206319</a>"
      ],
      "text/plain": [
       "<IPython.core.display.HTML object>"
      ]
     },
     "metadata": {},
     "output_type": "display_data"
    },
    {
     "data": {
      "text/html": [
       "<a href=\"https://github.com/NixOS/nixpkgs/pull/206251\">https://github.com/NixOS/nixpkgs/pull/206251</a>"
      ],
      "text/plain": [
       "<IPython.core.display.HTML object>"
      ]
     },
     "metadata": {},
     "output_type": "display_data"
    },
    {
     "data": {
      "text/html": [
       "<a href=\"https://github.com/NixOS/nixpkgs/pull/206224\">https://github.com/NixOS/nixpkgs/pull/206224</a>"
      ],
      "text/plain": [
       "<IPython.core.display.HTML object>"
      ]
     },
     "metadata": {},
     "output_type": "display_data"
    },
    {
     "data": {
      "text/html": [
       "<a href=\"https://github.com/NixOS/nixpkgs/pull/206206\">https://github.com/NixOS/nixpkgs/pull/206206</a>"
      ],
      "text/plain": [
       "<IPython.core.display.HTML object>"
      ]
     },
     "metadata": {},
     "output_type": "display_data"
    },
    {
     "data": {
      "text/html": [
       "<a href=\"https://github.com/NixOS/nixpkgs/pull/206178\">https://github.com/NixOS/nixpkgs/pull/206178</a>"
      ],
      "text/plain": [
       "<IPython.core.display.HTML object>"
      ]
     },
     "metadata": {},
     "output_type": "display_data"
    },
    {
     "data": {
      "text/html": [
       "<a href=\"https://github.com/NixOS/nixpkgs/pull/206158\">https://github.com/NixOS/nixpkgs/pull/206158</a>"
      ],
      "text/plain": [
       "<IPython.core.display.HTML object>"
      ]
     },
     "metadata": {},
     "output_type": "display_data"
    },
    {
     "data": {
      "text/html": [
       "<a href=\"https://github.com/NixOS/nixpkgs/pull/206043\">https://github.com/NixOS/nixpkgs/pull/206043</a>"
      ],
      "text/plain": [
       "<IPython.core.display.HTML object>"
      ]
     },
     "metadata": {},
     "output_type": "display_data"
    },
    {
     "data": {
      "text/html": [
       "<a href=\"https://github.com/NixOS/nixpkgs/pull/205838\">https://github.com/NixOS/nixpkgs/pull/205838</a>"
      ],
      "text/plain": [
       "<IPython.core.display.HTML object>"
      ]
     },
     "metadata": {},
     "output_type": "display_data"
    },
    {
     "data": {
      "text/html": [
       "<a href=\"https://github.com/NixOS/nixpkgs/pull/205761\">https://github.com/NixOS/nixpkgs/pull/205761</a>"
      ],
      "text/plain": [
       "<IPython.core.display.HTML object>"
      ]
     },
     "metadata": {},
     "output_type": "display_data"
    },
    {
     "data": {
      "text/html": [
       "<a href=\"https://github.com/NixOS/nixpkgs/pull/205720\">https://github.com/NixOS/nixpkgs/pull/205720</a>"
      ],
      "text/plain": [
       "<IPython.core.display.HTML object>"
      ]
     },
     "metadata": {},
     "output_type": "display_data"
    },
    {
     "data": {
      "text/html": [
       "<a href=\"https://github.com/NixOS/nixpkgs/pull/205716\">https://github.com/NixOS/nixpkgs/pull/205716</a>"
      ],
      "text/plain": [
       "<IPython.core.display.HTML object>"
      ]
     },
     "metadata": {},
     "output_type": "display_data"
    },
    {
     "data": {
      "text/html": [
       "<a href=\"https://github.com/NixOS/nixpkgs/pull/205695\">https://github.com/NixOS/nixpkgs/pull/205695</a>"
      ],
      "text/plain": [
       "<IPython.core.display.HTML object>"
      ]
     },
     "metadata": {},
     "output_type": "display_data"
    },
    {
     "data": {
      "text/html": [
       "<a href=\"https://github.com/NixOS/nixpkgs/pull/205693\">https://github.com/NixOS/nixpkgs/pull/205693</a>"
      ],
      "text/plain": [
       "<IPython.core.display.HTML object>"
      ]
     },
     "metadata": {},
     "output_type": "display_data"
    },
    {
     "data": {
      "text/html": [
       "<a href=\"https://github.com/NixOS/nixpkgs/pull/205656\">https://github.com/NixOS/nixpkgs/pull/205656</a>"
      ],
      "text/plain": [
       "<IPython.core.display.HTML object>"
      ]
     },
     "metadata": {},
     "output_type": "display_data"
    },
    {
     "data": {
      "text/html": [
       "<a href=\"https://github.com/NixOS/nixpkgs/pull/205627\">https://github.com/NixOS/nixpkgs/pull/205627</a>"
      ],
      "text/plain": [
       "<IPython.core.display.HTML object>"
      ]
     },
     "metadata": {},
     "output_type": "display_data"
    },
    {
     "data": {
      "text/html": [
       "<a href=\"https://github.com/NixOS/nixpkgs/pull/205600\">https://github.com/NixOS/nixpkgs/pull/205600</a>"
      ],
      "text/plain": [
       "<IPython.core.display.HTML object>"
      ]
     },
     "metadata": {},
     "output_type": "display_data"
    },
    {
     "data": {
      "text/html": [
       "<a href=\"https://github.com/NixOS/nixpkgs/pull/205596\">https://github.com/NixOS/nixpkgs/pull/205596</a>"
      ],
      "text/plain": [
       "<IPython.core.display.HTML object>"
      ]
     },
     "metadata": {},
     "output_type": "display_data"
    },
    {
     "data": {
      "text/html": [
       "<a href=\"https://github.com/NixOS/nixpkgs/pull/205538\">https://github.com/NixOS/nixpkgs/pull/205538</a>"
      ],
      "text/plain": [
       "<IPython.core.display.HTML object>"
      ]
     },
     "metadata": {},
     "output_type": "display_data"
    },
    {
     "data": {
      "text/html": [
       "<a href=\"https://github.com/NixOS/nixpkgs/pull/205524\">https://github.com/NixOS/nixpkgs/pull/205524</a>"
      ],
      "text/plain": [
       "<IPython.core.display.HTML object>"
      ]
     },
     "metadata": {},
     "output_type": "display_data"
    },
    {
     "data": {
      "text/html": [
       "<a href=\"https://github.com/NixOS/nixpkgs/pull/205523\">https://github.com/NixOS/nixpkgs/pull/205523</a>"
      ],
      "text/plain": [
       "<IPython.core.display.HTML object>"
      ]
     },
     "metadata": {},
     "output_type": "display_data"
    },
    {
     "data": {
      "text/html": [
       "<a href=\"https://github.com/NixOS/nixpkgs/pull/205506\">https://github.com/NixOS/nixpkgs/pull/205506</a>"
      ],
      "text/plain": [
       "<IPython.core.display.HTML object>"
      ]
     },
     "metadata": {},
     "output_type": "display_data"
    },
    {
     "data": {
      "text/html": [
       "<a href=\"https://github.com/NixOS/nixpkgs/pull/205450\">https://github.com/NixOS/nixpkgs/pull/205450</a>"
      ],
      "text/plain": [
       "<IPython.core.display.HTML object>"
      ]
     },
     "metadata": {},
     "output_type": "display_data"
    },
    {
     "data": {
      "text/html": [
       "<a href=\"https://github.com/NixOS/nixpkgs/pull/205445\">https://github.com/NixOS/nixpkgs/pull/205445</a>"
      ],
      "text/plain": [
       "<IPython.core.display.HTML object>"
      ]
     },
     "metadata": {},
     "output_type": "display_data"
    },
    {
     "data": {
      "text/html": [
       "<a href=\"https://github.com/NixOS/nixpkgs/pull/205442\">https://github.com/NixOS/nixpkgs/pull/205442</a>"
      ],
      "text/plain": [
       "<IPython.core.display.HTML object>"
      ]
     },
     "metadata": {},
     "output_type": "display_data"
    },
    {
     "data": {
      "text/html": [
       "<a href=\"https://github.com/NixOS/nixpkgs/pull/205362\">https://github.com/NixOS/nixpkgs/pull/205362</a>"
      ],
      "text/plain": [
       "<IPython.core.display.HTML object>"
      ]
     },
     "metadata": {},
     "output_type": "display_data"
    },
    {
     "data": {
      "text/html": [
       "<a href=\"https://github.com/NixOS/nixpkgs/pull/205317\">https://github.com/NixOS/nixpkgs/pull/205317</a>"
      ],
      "text/plain": [
       "<IPython.core.display.HTML object>"
      ]
     },
     "metadata": {},
     "output_type": "display_data"
    },
    {
     "data": {
      "text/html": [
       "<a href=\"https://github.com/NixOS/nixpkgs/pull/205309\">https://github.com/NixOS/nixpkgs/pull/205309</a>"
      ],
      "text/plain": [
       "<IPython.core.display.HTML object>"
      ]
     },
     "metadata": {},
     "output_type": "display_data"
    },
    {
     "data": {
      "text/html": [
       "<a href=\"https://github.com/NixOS/nixpkgs/pull/205271\">https://github.com/NixOS/nixpkgs/pull/205271</a>"
      ],
      "text/plain": [
       "<IPython.core.display.HTML object>"
      ]
     },
     "metadata": {},
     "output_type": "display_data"
    },
    {
     "data": {
      "text/html": [
       "<a href=\"https://github.com/NixOS/nixpkgs/pull/205254\">https://github.com/NixOS/nixpkgs/pull/205254</a>"
      ],
      "text/plain": [
       "<IPython.core.display.HTML object>"
      ]
     },
     "metadata": {},
     "output_type": "display_data"
    },
    {
     "data": {
      "text/html": [
       "<a href=\"https://github.com/NixOS/nixpkgs/pull/205253\">https://github.com/NixOS/nixpkgs/pull/205253</a>"
      ],
      "text/plain": [
       "<IPython.core.display.HTML object>"
      ]
     },
     "metadata": {},
     "output_type": "display_data"
    },
    {
     "data": {
      "text/html": [
       "<a href=\"https://github.com/NixOS/nixpkgs/pull/205147\">https://github.com/NixOS/nixpkgs/pull/205147</a>"
      ],
      "text/plain": [
       "<IPython.core.display.HTML object>"
      ]
     },
     "metadata": {},
     "output_type": "display_data"
    },
    {
     "data": {
      "text/html": [
       "<a href=\"https://github.com/NixOS/nixpkgs/pull/205120\">https://github.com/NixOS/nixpkgs/pull/205120</a>"
      ],
      "text/plain": [
       "<IPython.core.display.HTML object>"
      ]
     },
     "metadata": {},
     "output_type": "display_data"
    },
    {
     "data": {
      "text/html": [
       "<a href=\"https://github.com/NixOS/nixpkgs/pull/204949\">https://github.com/NixOS/nixpkgs/pull/204949</a>"
      ],
      "text/plain": [
       "<IPython.core.display.HTML object>"
      ]
     },
     "metadata": {},
     "output_type": "display_data"
    },
    {
     "data": {
      "text/html": [
       "<a href=\"https://github.com/NixOS/nixpkgs/pull/204822\">https://github.com/NixOS/nixpkgs/pull/204822</a>"
      ],
      "text/plain": [
       "<IPython.core.display.HTML object>"
      ]
     },
     "metadata": {},
     "output_type": "display_data"
    },
    {
     "data": {
      "text/html": [
       "<a href=\"https://github.com/NixOS/nixpkgs/pull/204818\">https://github.com/NixOS/nixpkgs/pull/204818</a>"
      ],
      "text/plain": [
       "<IPython.core.display.HTML object>"
      ]
     },
     "metadata": {},
     "output_type": "display_data"
    },
    {
     "data": {
      "text/html": [
       "<a href=\"https://github.com/NixOS/nixpkgs/pull/204749\">https://github.com/NixOS/nixpkgs/pull/204749</a>"
      ],
      "text/plain": [
       "<IPython.core.display.HTML object>"
      ]
     },
     "metadata": {},
     "output_type": "display_data"
    },
    {
     "data": {
      "text/html": [
       "<a href=\"https://github.com/NixOS/nixpkgs/pull/204736\">https://github.com/NixOS/nixpkgs/pull/204736</a>"
      ],
      "text/plain": [
       "<IPython.core.display.HTML object>"
      ]
     },
     "metadata": {},
     "output_type": "display_data"
    },
    {
     "data": {
      "text/html": [
       "<a href=\"https://github.com/NixOS/nixpkgs/pull/204596\">https://github.com/NixOS/nixpkgs/pull/204596</a>"
      ],
      "text/plain": [
       "<IPython.core.display.HTML object>"
      ]
     },
     "metadata": {},
     "output_type": "display_data"
    },
    {
     "data": {
      "text/html": [
       "<a href=\"https://github.com/NixOS/nixpkgs/pull/204593\">https://github.com/NixOS/nixpkgs/pull/204593</a>"
      ],
      "text/plain": [
       "<IPython.core.display.HTML object>"
      ]
     },
     "metadata": {},
     "output_type": "display_data"
    },
    {
     "data": {
      "text/html": [
       "<a href=\"https://github.com/NixOS/nixpkgs/pull/204571\">https://github.com/NixOS/nixpkgs/pull/204571</a>"
      ],
      "text/plain": [
       "<IPython.core.display.HTML object>"
      ]
     },
     "metadata": {},
     "output_type": "display_data"
    },
    {
     "data": {
      "text/html": [
       "<a href=\"https://github.com/NixOS/nixpkgs/pull/204563\">https://github.com/NixOS/nixpkgs/pull/204563</a>"
      ],
      "text/plain": [
       "<IPython.core.display.HTML object>"
      ]
     },
     "metadata": {},
     "output_type": "display_data"
    },
    {
     "data": {
      "text/html": [
       "<a href=\"https://github.com/NixOS/nixpkgs/pull/204467\">https://github.com/NixOS/nixpkgs/pull/204467</a>"
      ],
      "text/plain": [
       "<IPython.core.display.HTML object>"
      ]
     },
     "metadata": {},
     "output_type": "display_data"
    },
    {
     "data": {
      "text/html": [
       "<a href=\"https://github.com/NixOS/nixpkgs/pull/204385\">https://github.com/NixOS/nixpkgs/pull/204385</a>"
      ],
      "text/plain": [
       "<IPython.core.display.HTML object>"
      ]
     },
     "metadata": {},
     "output_type": "display_data"
    },
    {
     "data": {
      "text/html": [
       "<a href=\"https://github.com/NixOS/nixpkgs/pull/204374\">https://github.com/NixOS/nixpkgs/pull/204374</a>"
      ],
      "text/plain": [
       "<IPython.core.display.HTML object>"
      ]
     },
     "metadata": {},
     "output_type": "display_data"
    },
    {
     "data": {
      "text/html": [
       "<a href=\"https://github.com/NixOS/nixpkgs/pull/204373\">https://github.com/NixOS/nixpkgs/pull/204373</a>"
      ],
      "text/plain": [
       "<IPython.core.display.HTML object>"
      ]
     },
     "metadata": {},
     "output_type": "display_data"
    },
    {
     "data": {
      "text/html": [
       "<a href=\"https://github.com/NixOS/nixpkgs/pull/204061\">https://github.com/NixOS/nixpkgs/pull/204061</a>"
      ],
      "text/plain": [
       "<IPython.core.display.HTML object>"
      ]
     },
     "metadata": {},
     "output_type": "display_data"
    },
    {
     "data": {
      "text/html": [
       "<a href=\"https://github.com/NixOS/nixpkgs/pull/204037\">https://github.com/NixOS/nixpkgs/pull/204037</a>"
      ],
      "text/plain": [
       "<IPython.core.display.HTML object>"
      ]
     },
     "metadata": {},
     "output_type": "display_data"
    },
    {
     "data": {
      "text/html": [
       "<a href=\"https://github.com/NixOS/nixpkgs/pull/203724\">https://github.com/NixOS/nixpkgs/pull/203724</a>"
      ],
      "text/plain": [
       "<IPython.core.display.HTML object>"
      ]
     },
     "metadata": {},
     "output_type": "display_data"
    },
    {
     "data": {
      "text/html": [
       "<a href=\"https://github.com/NixOS/nixpkgs/pull/203414\">https://github.com/NixOS/nixpkgs/pull/203414</a>"
      ],
      "text/plain": [
       "<IPython.core.display.HTML object>"
      ]
     },
     "metadata": {},
     "output_type": "display_data"
    },
    {
     "data": {
      "text/html": [
       "<a href=\"https://github.com/NixOS/nixpkgs/pull/203234\">https://github.com/NixOS/nixpkgs/pull/203234</a>"
      ],
      "text/plain": [
       "<IPython.core.display.HTML object>"
      ]
     },
     "metadata": {},
     "output_type": "display_data"
    },
    {
     "data": {
      "text/html": [
       "<a href=\"https://github.com/NixOS/nixpkgs/pull/203073\">https://github.com/NixOS/nixpkgs/pull/203073</a>"
      ],
      "text/plain": [
       "<IPython.core.display.HTML object>"
      ]
     },
     "metadata": {},
     "output_type": "display_data"
    },
    {
     "data": {
      "text/html": [
       "<a href=\"https://github.com/NixOS/nixpkgs/pull/202992\">https://github.com/NixOS/nixpkgs/pull/202992</a>"
      ],
      "text/plain": [
       "<IPython.core.display.HTML object>"
      ]
     },
     "metadata": {},
     "output_type": "display_data"
    },
    {
     "data": {
      "text/html": [
       "<a href=\"https://github.com/NixOS/nixpkgs/pull/202184\">https://github.com/NixOS/nixpkgs/pull/202184</a>"
      ],
      "text/plain": [
       "<IPython.core.display.HTML object>"
      ]
     },
     "metadata": {},
     "output_type": "display_data"
    },
    {
     "data": {
      "text/html": [
       "<a href=\"https://github.com/NixOS/nixpkgs/pull/201966\">https://github.com/NixOS/nixpkgs/pull/201966</a>"
      ],
      "text/plain": [
       "<IPython.core.display.HTML object>"
      ]
     },
     "metadata": {},
     "output_type": "display_data"
    },
    {
     "data": {
      "text/html": [
       "<a href=\"https://github.com/NixOS/nixpkgs/pull/201938\">https://github.com/NixOS/nixpkgs/pull/201938</a>"
      ],
      "text/plain": [
       "<IPython.core.display.HTML object>"
      ]
     },
     "metadata": {},
     "output_type": "display_data"
    },
    {
     "data": {
      "text/html": [
       "<a href=\"https://github.com/NixOS/nixpkgs/pull/201871\">https://github.com/NixOS/nixpkgs/pull/201871</a>"
      ],
      "text/plain": [
       "<IPython.core.display.HTML object>"
      ]
     },
     "metadata": {},
     "output_type": "display_data"
    },
    {
     "data": {
      "text/html": [
       "<a href=\"https://github.com/NixOS/nixpkgs/pull/201870\">https://github.com/NixOS/nixpkgs/pull/201870</a>"
      ],
      "text/plain": [
       "<IPython.core.display.HTML object>"
      ]
     },
     "metadata": {},
     "output_type": "display_data"
    },
    {
     "data": {
      "text/html": [
       "<a href=\"https://github.com/NixOS/nixpkgs/pull/201856\">https://github.com/NixOS/nixpkgs/pull/201856</a>"
      ],
      "text/plain": [
       "<IPython.core.display.HTML object>"
      ]
     },
     "metadata": {},
     "output_type": "display_data"
    },
    {
     "data": {
      "text/html": [
       "<a href=\"https://github.com/NixOS/nixpkgs/pull/201788\">https://github.com/NixOS/nixpkgs/pull/201788</a>"
      ],
      "text/plain": [
       "<IPython.core.display.HTML object>"
      ]
     },
     "metadata": {},
     "output_type": "display_data"
    },
    {
     "data": {
      "text/html": [
       "<a href=\"https://github.com/NixOS/nixpkgs/pull/201729\">https://github.com/NixOS/nixpkgs/pull/201729</a>"
      ],
      "text/plain": [
       "<IPython.core.display.HTML object>"
      ]
     },
     "metadata": {},
     "output_type": "display_data"
    },
    {
     "data": {
      "text/html": [
       "<a href=\"https://github.com/NixOS/nixpkgs/pull/201667\">https://github.com/NixOS/nixpkgs/pull/201667</a>"
      ],
      "text/plain": [
       "<IPython.core.display.HTML object>"
      ]
     },
     "metadata": {},
     "output_type": "display_data"
    },
    {
     "data": {
      "text/html": [
       "<a href=\"https://github.com/NixOS/nixpkgs/pull/201643\">https://github.com/NixOS/nixpkgs/pull/201643</a>"
      ],
      "text/plain": [
       "<IPython.core.display.HTML object>"
      ]
     },
     "metadata": {},
     "output_type": "display_data"
    },
    {
     "data": {
      "text/html": [
       "<a href=\"https://github.com/NixOS/nixpkgs/pull/201578\">https://github.com/NixOS/nixpkgs/pull/201578</a>"
      ],
      "text/plain": [
       "<IPython.core.display.HTML object>"
      ]
     },
     "metadata": {},
     "output_type": "display_data"
    },
    {
     "data": {
      "text/html": [
       "<a href=\"https://github.com/NixOS/nixpkgs/pull/201480\">https://github.com/NixOS/nixpkgs/pull/201480</a>"
      ],
      "text/plain": [
       "<IPython.core.display.HTML object>"
      ]
     },
     "metadata": {},
     "output_type": "display_data"
    },
    {
     "data": {
      "text/html": [
       "<a href=\"https://github.com/NixOS/nixpkgs/pull/201327\">https://github.com/NixOS/nixpkgs/pull/201327</a>"
      ],
      "text/plain": [
       "<IPython.core.display.HTML object>"
      ]
     },
     "metadata": {},
     "output_type": "display_data"
    },
    {
     "data": {
      "text/html": [
       "<a href=\"https://github.com/NixOS/nixpkgs/pull/201275\">https://github.com/NixOS/nixpkgs/pull/201275</a>"
      ],
      "text/plain": [
       "<IPython.core.display.HTML object>"
      ]
     },
     "metadata": {},
     "output_type": "display_data"
    },
    {
     "data": {
      "text/html": [
       "<a href=\"https://github.com/NixOS/nixpkgs/pull/201124\">https://github.com/NixOS/nixpkgs/pull/201124</a>"
      ],
      "text/plain": [
       "<IPython.core.display.HTML object>"
      ]
     },
     "metadata": {},
     "output_type": "display_data"
    },
    {
     "data": {
      "text/html": [
       "<a href=\"https://github.com/NixOS/nixpkgs/pull/201015\">https://github.com/NixOS/nixpkgs/pull/201015</a>"
      ],
      "text/plain": [
       "<IPython.core.display.HTML object>"
      ]
     },
     "metadata": {},
     "output_type": "display_data"
    },
    {
     "data": {
      "text/html": [
       "<a href=\"https://github.com/NixOS/nixpkgs/pull/201007\">https://github.com/NixOS/nixpkgs/pull/201007</a>"
      ],
      "text/plain": [
       "<IPython.core.display.HTML object>"
      ]
     },
     "metadata": {},
     "output_type": "display_data"
    },
    {
     "data": {
      "text/html": [
       "<a href=\"https://github.com/NixOS/nixpkgs/pull/200993\">https://github.com/NixOS/nixpkgs/pull/200993</a>"
      ],
      "text/plain": [
       "<IPython.core.display.HTML object>"
      ]
     },
     "metadata": {},
     "output_type": "display_data"
    },
    {
     "data": {
      "text/html": [
       "<a href=\"https://github.com/NixOS/nixpkgs/pull/200881\">https://github.com/NixOS/nixpkgs/pull/200881</a>"
      ],
      "text/plain": [
       "<IPython.core.display.HTML object>"
      ]
     },
     "metadata": {},
     "output_type": "display_data"
    },
    {
     "data": {
      "text/html": [
       "<a href=\"https://github.com/NixOS/nixpkgs/pull/200736\">https://github.com/NixOS/nixpkgs/pull/200736</a>"
      ],
      "text/plain": [
       "<IPython.core.display.HTML object>"
      ]
     },
     "metadata": {},
     "output_type": "display_data"
    },
    {
     "data": {
      "text/html": [
       "<a href=\"https://github.com/NixOS/nixpkgs/pull/200735\">https://github.com/NixOS/nixpkgs/pull/200735</a>"
      ],
      "text/plain": [
       "<IPython.core.display.HTML object>"
      ]
     },
     "metadata": {},
     "output_type": "display_data"
    },
    {
     "data": {
      "text/html": [
       "<a href=\"https://github.com/NixOS/nixpkgs/pull/200693\">https://github.com/NixOS/nixpkgs/pull/200693</a>"
      ],
      "text/plain": [
       "<IPython.core.display.HTML object>"
      ]
     },
     "metadata": {},
     "output_type": "display_data"
    },
    {
     "data": {
      "text/html": [
       "<a href=\"https://github.com/NixOS/nixpkgs/pull/200588\">https://github.com/NixOS/nixpkgs/pull/200588</a>"
      ],
      "text/plain": [
       "<IPython.core.display.HTML object>"
      ]
     },
     "metadata": {},
     "output_type": "display_data"
    },
    {
     "data": {
      "text/html": [
       "<a href=\"https://github.com/NixOS/nixpkgs/pull/200479\">https://github.com/NixOS/nixpkgs/pull/200479</a>"
      ],
      "text/plain": [
       "<IPython.core.display.HTML object>"
      ]
     },
     "metadata": {},
     "output_type": "display_data"
    },
    {
     "data": {
      "text/html": [
       "<a href=\"https://github.com/NixOS/nixpkgs/pull/200449\">https://github.com/NixOS/nixpkgs/pull/200449</a>"
      ],
      "text/plain": [
       "<IPython.core.display.HTML object>"
      ]
     },
     "metadata": {},
     "output_type": "display_data"
    },
    {
     "data": {
      "text/html": [
       "<a href=\"https://github.com/NixOS/nixpkgs/pull/200446\">https://github.com/NixOS/nixpkgs/pull/200446</a>"
      ],
      "text/plain": [
       "<IPython.core.display.HTML object>"
      ]
     },
     "metadata": {},
     "output_type": "display_data"
    },
    {
     "data": {
      "text/html": [
       "<a href=\"https://github.com/NixOS/nixpkgs/pull/200437\">https://github.com/NixOS/nixpkgs/pull/200437</a>"
      ],
      "text/plain": [
       "<IPython.core.display.HTML object>"
      ]
     },
     "metadata": {},
     "output_type": "display_data"
    },
    {
     "data": {
      "text/html": [
       "<a href=\"https://github.com/NixOS/nixpkgs/pull/199882\">https://github.com/NixOS/nixpkgs/pull/199882</a>"
      ],
      "text/plain": [
       "<IPython.core.display.HTML object>"
      ]
     },
     "metadata": {},
     "output_type": "display_data"
    },
    {
     "data": {
      "text/html": [
       "<a href=\"https://github.com/NixOS/nixpkgs/pull/199853\">https://github.com/NixOS/nixpkgs/pull/199853</a>"
      ],
      "text/plain": [
       "<IPython.core.display.HTML object>"
      ]
     },
     "metadata": {},
     "output_type": "display_data"
    },
    {
     "data": {
      "text/html": [
       "<a href=\"https://github.com/NixOS/nixpkgs/pull/199842\">https://github.com/NixOS/nixpkgs/pull/199842</a>"
      ],
      "text/plain": [
       "<IPython.core.display.HTML object>"
      ]
     },
     "metadata": {},
     "output_type": "display_data"
    },
    {
     "data": {
      "text/html": [
       "<a href=\"https://github.com/NixOS/nixpkgs/pull/199813\">https://github.com/NixOS/nixpkgs/pull/199813</a>"
      ],
      "text/plain": [
       "<IPython.core.display.HTML object>"
      ]
     },
     "metadata": {},
     "output_type": "display_data"
    },
    {
     "data": {
      "text/html": [
       "<a href=\"https://github.com/NixOS/nixpkgs/pull/199706\">https://github.com/NixOS/nixpkgs/pull/199706</a>"
      ],
      "text/plain": [
       "<IPython.core.display.HTML object>"
      ]
     },
     "metadata": {},
     "output_type": "display_data"
    },
    {
     "data": {
      "text/html": [
       "<a href=\"https://github.com/NixOS/nixpkgs/pull/199698\">https://github.com/NixOS/nixpkgs/pull/199698</a>"
      ],
      "text/plain": [
       "<IPython.core.display.HTML object>"
      ]
     },
     "metadata": {},
     "output_type": "display_data"
    },
    {
     "data": {
      "text/html": [
       "<a href=\"https://github.com/NixOS/nixpkgs/pull/199204\">https://github.com/NixOS/nixpkgs/pull/199204</a>"
      ],
      "text/plain": [
       "<IPython.core.display.HTML object>"
      ]
     },
     "metadata": {},
     "output_type": "display_data"
    },
    {
     "data": {
      "text/html": [
       "<a href=\"https://github.com/NixOS/nixpkgs/pull/199194\">https://github.com/NixOS/nixpkgs/pull/199194</a>"
      ],
      "text/plain": [
       "<IPython.core.display.HTML object>"
      ]
     },
     "metadata": {},
     "output_type": "display_data"
    },
    {
     "data": {
      "text/html": [
       "<a href=\"https://github.com/NixOS/nixpkgs/pull/199069\">https://github.com/NixOS/nixpkgs/pull/199069</a>"
      ],
      "text/plain": [
       "<IPython.core.display.HTML object>"
      ]
     },
     "metadata": {},
     "output_type": "display_data"
    },
    {
     "data": {
      "text/html": [
       "<a href=\"https://github.com/NixOS/nixpkgs/pull/199014\">https://github.com/NixOS/nixpkgs/pull/199014</a>"
      ],
      "text/plain": [
       "<IPython.core.display.HTML object>"
      ]
     },
     "metadata": {},
     "output_type": "display_data"
    },
    {
     "data": {
      "text/html": [
       "<a href=\"https://github.com/NixOS/nixpkgs/pull/198819\">https://github.com/NixOS/nixpkgs/pull/198819</a>"
      ],
      "text/plain": [
       "<IPython.core.display.HTML object>"
      ]
     },
     "metadata": {},
     "output_type": "display_data"
    },
    {
     "data": {
      "text/html": [
       "<a href=\"https://github.com/NixOS/nixpkgs/pull/198803\">https://github.com/NixOS/nixpkgs/pull/198803</a>"
      ],
      "text/plain": [
       "<IPython.core.display.HTML object>"
      ]
     },
     "metadata": {},
     "output_type": "display_data"
    },
    {
     "data": {
      "text/html": [
       "<a href=\"https://github.com/NixOS/nixpkgs/pull/198624\">https://github.com/NixOS/nixpkgs/pull/198624</a>"
      ],
      "text/plain": [
       "<IPython.core.display.HTML object>"
      ]
     },
     "metadata": {},
     "output_type": "display_data"
    },
    {
     "data": {
      "text/html": [
       "<a href=\"https://github.com/NixOS/nixpkgs/pull/198616\">https://github.com/NixOS/nixpkgs/pull/198616</a>"
      ],
      "text/plain": [
       "<IPython.core.display.HTML object>"
      ]
     },
     "metadata": {},
     "output_type": "display_data"
    },
    {
     "data": {
      "text/html": [
       "<a href=\"https://github.com/NixOS/nixpkgs/pull/198596\">https://github.com/NixOS/nixpkgs/pull/198596</a>"
      ],
      "text/plain": [
       "<IPython.core.display.HTML object>"
      ]
     },
     "metadata": {},
     "output_type": "display_data"
    },
    {
     "data": {
      "text/html": [
       "<a href=\"https://github.com/NixOS/nixpkgs/pull/198197\">https://github.com/NixOS/nixpkgs/pull/198197</a>"
      ],
      "text/plain": [
       "<IPython.core.display.HTML object>"
      ]
     },
     "metadata": {},
     "output_type": "display_data"
    },
    {
     "data": {
      "text/html": [
       "<a href=\"https://github.com/NixOS/nixpkgs/pull/198158\">https://github.com/NixOS/nixpkgs/pull/198158</a>"
      ],
      "text/plain": [
       "<IPython.core.display.HTML object>"
      ]
     },
     "metadata": {},
     "output_type": "display_data"
    },
    {
     "data": {
      "text/html": [
       "<a href=\"https://github.com/NixOS/nixpkgs/pull/198034\">https://github.com/NixOS/nixpkgs/pull/198034</a>"
      ],
      "text/plain": [
       "<IPython.core.display.HTML object>"
      ]
     },
     "metadata": {},
     "output_type": "display_data"
    },
    {
     "data": {
      "text/html": [
       "<a href=\"https://github.com/NixOS/nixpkgs/pull/197911\">https://github.com/NixOS/nixpkgs/pull/197911</a>"
      ],
      "text/plain": [
       "<IPython.core.display.HTML object>"
      ]
     },
     "metadata": {},
     "output_type": "display_data"
    },
    {
     "data": {
      "text/html": [
       "<a href=\"https://github.com/NixOS/nixpkgs/pull/197846\">https://github.com/NixOS/nixpkgs/pull/197846</a>"
      ],
      "text/plain": [
       "<IPython.core.display.HTML object>"
      ]
     },
     "metadata": {},
     "output_type": "display_data"
    },
    {
     "data": {
      "text/html": [
       "<a href=\"https://github.com/NixOS/nixpkgs/pull/197834\">https://github.com/NixOS/nixpkgs/pull/197834</a>"
      ],
      "text/plain": [
       "<IPython.core.display.HTML object>"
      ]
     },
     "metadata": {},
     "output_type": "display_data"
    },
    {
     "data": {
      "text/html": [
       "<a href=\"https://github.com/NixOS/nixpkgs/pull/197815\">https://github.com/NixOS/nixpkgs/pull/197815</a>"
      ],
      "text/plain": [
       "<IPython.core.display.HTML object>"
      ]
     },
     "metadata": {},
     "output_type": "display_data"
    },
    {
     "data": {
      "text/html": [
       "<a href=\"https://github.com/NixOS/nixpkgs/pull/197554\">https://github.com/NixOS/nixpkgs/pull/197554</a>"
      ],
      "text/plain": [
       "<IPython.core.display.HTML object>"
      ]
     },
     "metadata": {},
     "output_type": "display_data"
    },
    {
     "data": {
      "text/html": [
       "<a href=\"https://github.com/NixOS/nixpkgs/pull/197523\">https://github.com/NixOS/nixpkgs/pull/197523</a>"
      ],
      "text/plain": [
       "<IPython.core.display.HTML object>"
      ]
     },
     "metadata": {},
     "output_type": "display_data"
    },
    {
     "data": {
      "text/html": [
       "<a href=\"https://github.com/NixOS/nixpkgs/pull/197485\">https://github.com/NixOS/nixpkgs/pull/197485</a>"
      ],
      "text/plain": [
       "<IPython.core.display.HTML object>"
      ]
     },
     "metadata": {},
     "output_type": "display_data"
    },
    {
     "data": {
      "text/html": [
       "<a href=\"https://github.com/NixOS/nixpkgs/pull/197419\">https://github.com/NixOS/nixpkgs/pull/197419</a>"
      ],
      "text/plain": [
       "<IPython.core.display.HTML object>"
      ]
     },
     "metadata": {},
     "output_type": "display_data"
    },
    {
     "data": {
      "text/html": [
       "<a href=\"https://github.com/NixOS/nixpkgs/pull/197346\">https://github.com/NixOS/nixpkgs/pull/197346</a>"
      ],
      "text/plain": [
       "<IPython.core.display.HTML object>"
      ]
     },
     "metadata": {},
     "output_type": "display_data"
    },
    {
     "data": {
      "text/html": [
       "<a href=\"https://github.com/NixOS/nixpkgs/pull/197271\">https://github.com/NixOS/nixpkgs/pull/197271</a>"
      ],
      "text/plain": [
       "<IPython.core.display.HTML object>"
      ]
     },
     "metadata": {},
     "output_type": "display_data"
    },
    {
     "data": {
      "text/html": [
       "<a href=\"https://github.com/NixOS/nixpkgs/pull/197204\">https://github.com/NixOS/nixpkgs/pull/197204</a>"
      ],
      "text/plain": [
       "<IPython.core.display.HTML object>"
      ]
     },
     "metadata": {},
     "output_type": "display_data"
    },
    {
     "data": {
      "text/html": [
       "<a href=\"https://github.com/NixOS/nixpkgs/pull/197101\">https://github.com/NixOS/nixpkgs/pull/197101</a>"
      ],
      "text/plain": [
       "<IPython.core.display.HTML object>"
      ]
     },
     "metadata": {},
     "output_type": "display_data"
    },
    {
     "data": {
      "text/html": [
       "<a href=\"https://github.com/NixOS/nixpkgs/pull/197013\">https://github.com/NixOS/nixpkgs/pull/197013</a>"
      ],
      "text/plain": [
       "<IPython.core.display.HTML object>"
      ]
     },
     "metadata": {},
     "output_type": "display_data"
    },
    {
     "data": {
      "text/html": [
       "<a href=\"https://github.com/NixOS/nixpkgs/pull/196908\">https://github.com/NixOS/nixpkgs/pull/196908</a>"
      ],
      "text/plain": [
       "<IPython.core.display.HTML object>"
      ]
     },
     "metadata": {},
     "output_type": "display_data"
    },
    {
     "data": {
      "text/html": [
       "<a href=\"https://github.com/NixOS/nixpkgs/pull/196833\">https://github.com/NixOS/nixpkgs/pull/196833</a>"
      ],
      "text/plain": [
       "<IPython.core.display.HTML object>"
      ]
     },
     "metadata": {},
     "output_type": "display_data"
    },
    {
     "data": {
      "text/html": [
       "<a href=\"https://github.com/NixOS/nixpkgs/pull/196822\">https://github.com/NixOS/nixpkgs/pull/196822</a>"
      ],
      "text/plain": [
       "<IPython.core.display.HTML object>"
      ]
     },
     "metadata": {},
     "output_type": "display_data"
    },
    {
     "data": {
      "text/html": [
       "<a href=\"https://github.com/NixOS/nixpkgs/pull/196690\">https://github.com/NixOS/nixpkgs/pull/196690</a>"
      ],
      "text/plain": [
       "<IPython.core.display.HTML object>"
      ]
     },
     "metadata": {},
     "output_type": "display_data"
    },
    {
     "data": {
      "text/html": [
       "<a href=\"https://github.com/NixOS/nixpkgs/pull/196507\">https://github.com/NixOS/nixpkgs/pull/196507</a>"
      ],
      "text/plain": [
       "<IPython.core.display.HTML object>"
      ]
     },
     "metadata": {},
     "output_type": "display_data"
    },
    {
     "data": {
      "text/html": [
       "<a href=\"https://github.com/NixOS/nixpkgs/pull/196227\">https://github.com/NixOS/nixpkgs/pull/196227</a>"
      ],
      "text/plain": [
       "<IPython.core.display.HTML object>"
      ]
     },
     "metadata": {},
     "output_type": "display_data"
    },
    {
     "data": {
      "text/html": [
       "<a href=\"https://github.com/NixOS/nixpkgs/pull/196064\">https://github.com/NixOS/nixpkgs/pull/196064</a>"
      ],
      "text/plain": [
       "<IPython.core.display.HTML object>"
      ]
     },
     "metadata": {},
     "output_type": "display_data"
    },
    {
     "data": {
      "text/html": [
       "<a href=\"https://github.com/NixOS/nixpkgs/pull/196051\">https://github.com/NixOS/nixpkgs/pull/196051</a>"
      ],
      "text/plain": [
       "<IPython.core.display.HTML object>"
      ]
     },
     "metadata": {},
     "output_type": "display_data"
    },
    {
     "data": {
      "text/html": [
       "<a href=\"https://github.com/NixOS/nixpkgs/pull/195958\">https://github.com/NixOS/nixpkgs/pull/195958</a>"
      ],
      "text/plain": [
       "<IPython.core.display.HTML object>"
      ]
     },
     "metadata": {},
     "output_type": "display_data"
    },
    {
     "data": {
      "text/html": [
       "<a href=\"https://github.com/NixOS/nixpkgs/pull/195712\">https://github.com/NixOS/nixpkgs/pull/195712</a>"
      ],
      "text/plain": [
       "<IPython.core.display.HTML object>"
      ]
     },
     "metadata": {},
     "output_type": "display_data"
    },
    {
     "data": {
      "text/html": [
       "<a href=\"https://github.com/NixOS/nixpkgs/pull/195705\">https://github.com/NixOS/nixpkgs/pull/195705</a>"
      ],
      "text/plain": [
       "<IPython.core.display.HTML object>"
      ]
     },
     "metadata": {},
     "output_type": "display_data"
    },
    {
     "data": {
      "text/html": [
       "<a href=\"https://github.com/NixOS/nixpkgs/pull/195657\">https://github.com/NixOS/nixpkgs/pull/195657</a>"
      ],
      "text/plain": [
       "<IPython.core.display.HTML object>"
      ]
     },
     "metadata": {},
     "output_type": "display_data"
    },
    {
     "data": {
      "text/html": [
       "<a href=\"https://github.com/NixOS/nixpkgs/pull/195625\">https://github.com/NixOS/nixpkgs/pull/195625</a>"
      ],
      "text/plain": [
       "<IPython.core.display.HTML object>"
      ]
     },
     "metadata": {},
     "output_type": "display_data"
    },
    {
     "data": {
      "text/html": [
       "<a href=\"https://github.com/NixOS/nixpkgs/pull/195523\">https://github.com/NixOS/nixpkgs/pull/195523</a>"
      ],
      "text/plain": [
       "<IPython.core.display.HTML object>"
      ]
     },
     "metadata": {},
     "output_type": "display_data"
    },
    {
     "data": {
      "text/html": [
       "<a href=\"https://github.com/NixOS/nixpkgs/pull/195387\">https://github.com/NixOS/nixpkgs/pull/195387</a>"
      ],
      "text/plain": [
       "<IPython.core.display.HTML object>"
      ]
     },
     "metadata": {},
     "output_type": "display_data"
    },
    {
     "data": {
      "text/html": [
       "<a href=\"https://github.com/NixOS/nixpkgs/pull/195323\">https://github.com/NixOS/nixpkgs/pull/195323</a>"
      ],
      "text/plain": [
       "<IPython.core.display.HTML object>"
      ]
     },
     "metadata": {},
     "output_type": "display_data"
    },
    {
     "data": {
      "text/html": [
       "<a href=\"https://github.com/NixOS/nixpkgs/pull/195113\">https://github.com/NixOS/nixpkgs/pull/195113</a>"
      ],
      "text/plain": [
       "<IPython.core.display.HTML object>"
      ]
     },
     "metadata": {},
     "output_type": "display_data"
    },
    {
     "data": {
      "text/html": [
       "<a href=\"https://github.com/NixOS/nixpkgs/pull/195005\">https://github.com/NixOS/nixpkgs/pull/195005</a>"
      ],
      "text/plain": [
       "<IPython.core.display.HTML object>"
      ]
     },
     "metadata": {},
     "output_type": "display_data"
    },
    {
     "data": {
      "text/html": [
       "<a href=\"https://github.com/NixOS/nixpkgs/pull/194978\">https://github.com/NixOS/nixpkgs/pull/194978</a>"
      ],
      "text/plain": [
       "<IPython.core.display.HTML object>"
      ]
     },
     "metadata": {},
     "output_type": "display_data"
    },
    {
     "data": {
      "text/html": [
       "<a href=\"https://github.com/NixOS/nixpkgs/pull/194837\">https://github.com/NixOS/nixpkgs/pull/194837</a>"
      ],
      "text/plain": [
       "<IPython.core.display.HTML object>"
      ]
     },
     "metadata": {},
     "output_type": "display_data"
    },
    {
     "data": {
      "text/html": [
       "<a href=\"https://github.com/NixOS/nixpkgs/pull/194700\">https://github.com/NixOS/nixpkgs/pull/194700</a>"
      ],
      "text/plain": [
       "<IPython.core.display.HTML object>"
      ]
     },
     "metadata": {},
     "output_type": "display_data"
    },
    {
     "data": {
      "text/html": [
       "<a href=\"https://github.com/NixOS/nixpkgs/pull/194561\">https://github.com/NixOS/nixpkgs/pull/194561</a>"
      ],
      "text/plain": [
       "<IPython.core.display.HTML object>"
      ]
     },
     "metadata": {},
     "output_type": "display_data"
    },
    {
     "data": {
      "text/html": [
       "<a href=\"https://github.com/NixOS/nixpkgs/pull/194543\">https://github.com/NixOS/nixpkgs/pull/194543</a>"
      ],
      "text/plain": [
       "<IPython.core.display.HTML object>"
      ]
     },
     "metadata": {},
     "output_type": "display_data"
    },
    {
     "data": {
      "text/html": [
       "<a href=\"https://github.com/NixOS/nixpkgs/pull/194446\">https://github.com/NixOS/nixpkgs/pull/194446</a>"
      ],
      "text/plain": [
       "<IPython.core.display.HTML object>"
      ]
     },
     "metadata": {},
     "output_type": "display_data"
    },
    {
     "data": {
      "text/html": [
       "<a href=\"https://github.com/NixOS/nixpkgs/pull/194377\">https://github.com/NixOS/nixpkgs/pull/194377</a>"
      ],
      "text/plain": [
       "<IPython.core.display.HTML object>"
      ]
     },
     "metadata": {},
     "output_type": "display_data"
    },
    {
     "data": {
      "text/html": [
       "<a href=\"https://github.com/NixOS/nixpkgs/pull/194340\">https://github.com/NixOS/nixpkgs/pull/194340</a>"
      ],
      "text/plain": [
       "<IPython.core.display.HTML object>"
      ]
     },
     "metadata": {},
     "output_type": "display_data"
    },
    {
     "data": {
      "text/html": [
       "<a href=\"https://github.com/NixOS/nixpkgs/pull/194341\">https://github.com/NixOS/nixpkgs/pull/194341</a>"
      ],
      "text/plain": [
       "<IPython.core.display.HTML object>"
      ]
     },
     "metadata": {},
     "output_type": "display_data"
    },
    {
     "data": {
      "text/html": [
       "<a href=\"https://github.com/NixOS/nixpkgs/pull/194304\">https://github.com/NixOS/nixpkgs/pull/194304</a>"
      ],
      "text/plain": [
       "<IPython.core.display.HTML object>"
      ]
     },
     "metadata": {},
     "output_type": "display_data"
    },
    {
     "data": {
      "text/html": [
       "<a href=\"https://github.com/NixOS/nixpkgs/pull/194293\">https://github.com/NixOS/nixpkgs/pull/194293</a>"
      ],
      "text/plain": [
       "<IPython.core.display.HTML object>"
      ]
     },
     "metadata": {},
     "output_type": "display_data"
    },
    {
     "data": {
      "text/html": [
       "<a href=\"https://github.com/NixOS/nixpkgs/pull/194166\">https://github.com/NixOS/nixpkgs/pull/194166</a>"
      ],
      "text/plain": [
       "<IPython.core.display.HTML object>"
      ]
     },
     "metadata": {},
     "output_type": "display_data"
    },
    {
     "data": {
      "text/html": [
       "<a href=\"https://github.com/NixOS/nixpkgs/pull/193828\">https://github.com/NixOS/nixpkgs/pull/193828</a>"
      ],
      "text/plain": [
       "<IPython.core.display.HTML object>"
      ]
     },
     "metadata": {},
     "output_type": "display_data"
    },
    {
     "data": {
      "text/html": [
       "<a href=\"https://github.com/NixOS/nixpkgs/pull/193816\">https://github.com/NixOS/nixpkgs/pull/193816</a>"
      ],
      "text/plain": [
       "<IPython.core.display.HTML object>"
      ]
     },
     "metadata": {},
     "output_type": "display_data"
    },
    {
     "data": {
      "text/html": [
       "<a href=\"https://github.com/NixOS/nixpkgs/pull/193771\">https://github.com/NixOS/nixpkgs/pull/193771</a>"
      ],
      "text/plain": [
       "<IPython.core.display.HTML object>"
      ]
     },
     "metadata": {},
     "output_type": "display_data"
    },
    {
     "data": {
      "text/html": [
       "<a href=\"https://github.com/NixOS/nixpkgs/pull/193689\">https://github.com/NixOS/nixpkgs/pull/193689</a>"
      ],
      "text/plain": [
       "<IPython.core.display.HTML object>"
      ]
     },
     "metadata": {},
     "output_type": "display_data"
    },
    {
     "data": {
      "text/html": [
       "<a href=\"https://github.com/NixOS/nixpkgs/pull/193453\">https://github.com/NixOS/nixpkgs/pull/193453</a>"
      ],
      "text/plain": [
       "<IPython.core.display.HTML object>"
      ]
     },
     "metadata": {},
     "output_type": "display_data"
    },
    {
     "data": {
      "text/html": [
       "<a href=\"https://github.com/NixOS/nixpkgs/pull/193322\">https://github.com/NixOS/nixpkgs/pull/193322</a>"
      ],
      "text/plain": [
       "<IPython.core.display.HTML object>"
      ]
     },
     "metadata": {},
     "output_type": "display_data"
    },
    {
     "data": {
      "text/html": [
       "<a href=\"https://github.com/NixOS/nixpkgs/pull/193220\">https://github.com/NixOS/nixpkgs/pull/193220</a>"
      ],
      "text/plain": [
       "<IPython.core.display.HTML object>"
      ]
     },
     "metadata": {},
     "output_type": "display_data"
    },
    {
     "data": {
      "text/html": [
       "<a href=\"https://github.com/NixOS/nixpkgs/pull/193104\">https://github.com/NixOS/nixpkgs/pull/193104</a>"
      ],
      "text/plain": [
       "<IPython.core.display.HTML object>"
      ]
     },
     "metadata": {},
     "output_type": "display_data"
    },
    {
     "data": {
      "text/html": [
       "<a href=\"https://github.com/NixOS/nixpkgs/pull/193057\">https://github.com/NixOS/nixpkgs/pull/193057</a>"
      ],
      "text/plain": [
       "<IPython.core.display.HTML object>"
      ]
     },
     "metadata": {},
     "output_type": "display_data"
    },
    {
     "data": {
      "text/html": [
       "<a href=\"https://github.com/NixOS/nixpkgs/pull/193000\">https://github.com/NixOS/nixpkgs/pull/193000</a>"
      ],
      "text/plain": [
       "<IPython.core.display.HTML object>"
      ]
     },
     "metadata": {},
     "output_type": "display_data"
    },
    {
     "data": {
      "text/html": [
       "<a href=\"https://github.com/NixOS/nixpkgs/pull/192938\">https://github.com/NixOS/nixpkgs/pull/192938</a>"
      ],
      "text/plain": [
       "<IPython.core.display.HTML object>"
      ]
     },
     "metadata": {},
     "output_type": "display_data"
    },
    {
     "data": {
      "text/html": [
       "<a href=\"https://github.com/NixOS/nixpkgs/pull/192937\">https://github.com/NixOS/nixpkgs/pull/192937</a>"
      ],
      "text/plain": [
       "<IPython.core.display.HTML object>"
      ]
     },
     "metadata": {},
     "output_type": "display_data"
    },
    {
     "data": {
      "text/html": [
       "<a href=\"https://github.com/NixOS/nixpkgs/pull/192795\">https://github.com/NixOS/nixpkgs/pull/192795</a>"
      ],
      "text/plain": [
       "<IPython.core.display.HTML object>"
      ]
     },
     "metadata": {},
     "output_type": "display_data"
    },
    {
     "data": {
      "text/html": [
       "<a href=\"https://github.com/NixOS/nixpkgs/pull/192553\">https://github.com/NixOS/nixpkgs/pull/192553</a>"
      ],
      "text/plain": [
       "<IPython.core.display.HTML object>"
      ]
     },
     "metadata": {},
     "output_type": "display_data"
    },
    {
     "data": {
      "text/html": [
       "<a href=\"https://github.com/NixOS/nixpkgs/pull/192543\">https://github.com/NixOS/nixpkgs/pull/192543</a>"
      ],
      "text/plain": [
       "<IPython.core.display.HTML object>"
      ]
     },
     "metadata": {},
     "output_type": "display_data"
    },
    {
     "data": {
      "text/html": [
       "<a href=\"https://github.com/NixOS/nixpkgs/pull/192355\">https://github.com/NixOS/nixpkgs/pull/192355</a>"
      ],
      "text/plain": [
       "<IPython.core.display.HTML object>"
      ]
     },
     "metadata": {},
     "output_type": "display_data"
    },
    {
     "data": {
      "text/html": [
       "<a href=\"https://github.com/NixOS/nixpkgs/pull/192261\">https://github.com/NixOS/nixpkgs/pull/192261</a>"
      ],
      "text/plain": [
       "<IPython.core.display.HTML object>"
      ]
     },
     "metadata": {},
     "output_type": "display_data"
    },
    {
     "data": {
      "text/html": [
       "<a href=\"https://github.com/NixOS/nixpkgs/pull/192143\">https://github.com/NixOS/nixpkgs/pull/192143</a>"
      ],
      "text/plain": [
       "<IPython.core.display.HTML object>"
      ]
     },
     "metadata": {},
     "output_type": "display_data"
    },
    {
     "data": {
      "text/html": [
       "<a href=\"https://github.com/NixOS/nixpkgs/pull/191968\">https://github.com/NixOS/nixpkgs/pull/191968</a>"
      ],
      "text/plain": [
       "<IPython.core.display.HTML object>"
      ]
     },
     "metadata": {},
     "output_type": "display_data"
    },
    {
     "data": {
      "text/html": [
       "<a href=\"https://github.com/NixOS/nixpkgs/pull/191307\">https://github.com/NixOS/nixpkgs/pull/191307</a>"
      ],
      "text/plain": [
       "<IPython.core.display.HTML object>"
      ]
     },
     "metadata": {},
     "output_type": "display_data"
    },
    {
     "data": {
      "text/html": [
       "<a href=\"https://github.com/NixOS/nixpkgs/pull/191302\">https://github.com/NixOS/nixpkgs/pull/191302</a>"
      ],
      "text/plain": [
       "<IPython.core.display.HTML object>"
      ]
     },
     "metadata": {},
     "output_type": "display_data"
    },
    {
     "data": {
      "text/html": [
       "<a href=\"https://github.com/NixOS/nixpkgs/pull/191301\">https://github.com/NixOS/nixpkgs/pull/191301</a>"
      ],
      "text/plain": [
       "<IPython.core.display.HTML object>"
      ]
     },
     "metadata": {},
     "output_type": "display_data"
    },
    {
     "data": {
      "text/html": [
       "<a href=\"https://github.com/NixOS/nixpkgs/pull/191297\">https://github.com/NixOS/nixpkgs/pull/191297</a>"
      ],
      "text/plain": [
       "<IPython.core.display.HTML object>"
      ]
     },
     "metadata": {},
     "output_type": "display_data"
    },
    {
     "data": {
      "text/html": [
       "<a href=\"https://github.com/NixOS/nixpkgs/pull/190893\">https://github.com/NixOS/nixpkgs/pull/190893</a>"
      ],
      "text/plain": [
       "<IPython.core.display.HTML object>"
      ]
     },
     "metadata": {},
     "output_type": "display_data"
    },
    {
     "data": {
      "text/html": [
       "<a href=\"https://github.com/NixOS/nixpkgs/pull/190857\">https://github.com/NixOS/nixpkgs/pull/190857</a>"
      ],
      "text/plain": [
       "<IPython.core.display.HTML object>"
      ]
     },
     "metadata": {},
     "output_type": "display_data"
    },
    {
     "data": {
      "text/html": [
       "<a href=\"https://github.com/NixOS/nixpkgs/pull/190474\">https://github.com/NixOS/nixpkgs/pull/190474</a>"
      ],
      "text/plain": [
       "<IPython.core.display.HTML object>"
      ]
     },
     "metadata": {},
     "output_type": "display_data"
    },
    {
     "data": {
      "text/html": [
       "<a href=\"https://github.com/NixOS/nixpkgs/pull/190473\">https://github.com/NixOS/nixpkgs/pull/190473</a>"
      ],
      "text/plain": [
       "<IPython.core.display.HTML object>"
      ]
     },
     "metadata": {},
     "output_type": "display_data"
    },
    {
     "data": {
      "text/html": [
       "<a href=\"https://github.com/NixOS/nixpkgs/pull/190422\">https://github.com/NixOS/nixpkgs/pull/190422</a>"
      ],
      "text/plain": [
       "<IPython.core.display.HTML object>"
      ]
     },
     "metadata": {},
     "output_type": "display_data"
    },
    {
     "data": {
      "text/html": [
       "<a href=\"https://github.com/NixOS/nixpkgs/pull/190421\">https://github.com/NixOS/nixpkgs/pull/190421</a>"
      ],
      "text/plain": [
       "<IPython.core.display.HTML object>"
      ]
     },
     "metadata": {},
     "output_type": "display_data"
    },
    {
     "data": {
      "text/html": [
       "<a href=\"https://github.com/NixOS/nixpkgs/pull/190399\">https://github.com/NixOS/nixpkgs/pull/190399</a>"
      ],
      "text/plain": [
       "<IPython.core.display.HTML object>"
      ]
     },
     "metadata": {},
     "output_type": "display_data"
    },
    {
     "data": {
      "text/html": [
       "<a href=\"https://github.com/NixOS/nixpkgs/pull/190255\">https://github.com/NixOS/nixpkgs/pull/190255</a>"
      ],
      "text/plain": [
       "<IPython.core.display.HTML object>"
      ]
     },
     "metadata": {},
     "output_type": "display_data"
    },
    {
     "data": {
      "text/html": [
       "<a href=\"https://github.com/NixOS/nixpkgs/pull/190250\">https://github.com/NixOS/nixpkgs/pull/190250</a>"
      ],
      "text/plain": [
       "<IPython.core.display.HTML object>"
      ]
     },
     "metadata": {},
     "output_type": "display_data"
    },
    {
     "data": {
      "text/html": [
       "<a href=\"https://github.com/NixOS/nixpkgs/pull/190249\">https://github.com/NixOS/nixpkgs/pull/190249</a>"
      ],
      "text/plain": [
       "<IPython.core.display.HTML object>"
      ]
     },
     "metadata": {},
     "output_type": "display_data"
    },
    {
     "data": {
      "text/html": [
       "<a href=\"https://github.com/NixOS/nixpkgs/pull/190228\">https://github.com/NixOS/nixpkgs/pull/190228</a>"
      ],
      "text/plain": [
       "<IPython.core.display.HTML object>"
      ]
     },
     "metadata": {},
     "output_type": "display_data"
    },
    {
     "data": {
      "text/html": [
       "<a href=\"https://github.com/NixOS/nixpkgs/pull/190137\">https://github.com/NixOS/nixpkgs/pull/190137</a>"
      ],
      "text/plain": [
       "<IPython.core.display.HTML object>"
      ]
     },
     "metadata": {},
     "output_type": "display_data"
    },
    {
     "data": {
      "text/html": [
       "<a href=\"https://github.com/NixOS/nixpkgs/pull/190094\">https://github.com/NixOS/nixpkgs/pull/190094</a>"
      ],
      "text/plain": [
       "<IPython.core.display.HTML object>"
      ]
     },
     "metadata": {},
     "output_type": "display_data"
    },
    {
     "data": {
      "text/html": [
       "<a href=\"https://github.com/NixOS/nixpkgs/pull/189946\">https://github.com/NixOS/nixpkgs/pull/189946</a>"
      ],
      "text/plain": [
       "<IPython.core.display.HTML object>"
      ]
     },
     "metadata": {},
     "output_type": "display_data"
    },
    {
     "data": {
      "text/html": [
       "<a href=\"https://github.com/NixOS/nixpkgs/pull/189941\">https://github.com/NixOS/nixpkgs/pull/189941</a>"
      ],
      "text/plain": [
       "<IPython.core.display.HTML object>"
      ]
     },
     "metadata": {},
     "output_type": "display_data"
    },
    {
     "data": {
      "text/html": [
       "<a href=\"https://github.com/NixOS/nixpkgs/pull/189706\">https://github.com/NixOS/nixpkgs/pull/189706</a>"
      ],
      "text/plain": [
       "<IPython.core.display.HTML object>"
      ]
     },
     "metadata": {},
     "output_type": "display_data"
    },
    {
     "data": {
      "text/html": [
       "<a href=\"https://github.com/NixOS/nixpkgs/pull/189490\">https://github.com/NixOS/nixpkgs/pull/189490</a>"
      ],
      "text/plain": [
       "<IPython.core.display.HTML object>"
      ]
     },
     "metadata": {},
     "output_type": "display_data"
    },
    {
     "data": {
      "text/html": [
       "<a href=\"https://github.com/NixOS/nixpkgs/pull/189050\">https://github.com/NixOS/nixpkgs/pull/189050</a>"
      ],
      "text/plain": [
       "<IPython.core.display.HTML object>"
      ]
     },
     "metadata": {},
     "output_type": "display_data"
    },
    {
     "data": {
      "text/html": [
       "<a href=\"https://github.com/NixOS/nixpkgs/pull/188356\">https://github.com/NixOS/nixpkgs/pull/188356</a>"
      ],
      "text/plain": [
       "<IPython.core.display.HTML object>"
      ]
     },
     "metadata": {},
     "output_type": "display_data"
    },
    {
     "data": {
      "text/html": [
       "<a href=\"https://github.com/NixOS/nixpkgs/pull/187654\">https://github.com/NixOS/nixpkgs/pull/187654</a>"
      ],
      "text/plain": [
       "<IPython.core.display.HTML object>"
      ]
     },
     "metadata": {},
     "output_type": "display_data"
    },
    {
     "data": {
      "text/html": [
       "<a href=\"https://github.com/NixOS/nixpkgs/pull/187540\">https://github.com/NixOS/nixpkgs/pull/187540</a>"
      ],
      "text/plain": [
       "<IPython.core.display.HTML object>"
      ]
     },
     "metadata": {},
     "output_type": "display_data"
    },
    {
     "data": {
      "text/html": [
       "<a href=\"https://github.com/NixOS/nixpkgs/pull/187060\">https://github.com/NixOS/nixpkgs/pull/187060</a>"
      ],
      "text/plain": [
       "<IPython.core.display.HTML object>"
      ]
     },
     "metadata": {},
     "output_type": "display_data"
    },
    {
     "data": {
      "text/html": [
       "<a href=\"https://github.com/NixOS/nixpkgs/pull/186995\">https://github.com/NixOS/nixpkgs/pull/186995</a>"
      ],
      "text/plain": [
       "<IPython.core.display.HTML object>"
      ]
     },
     "metadata": {},
     "output_type": "display_data"
    },
    {
     "data": {
      "text/html": [
       "<a href=\"https://github.com/NixOS/nixpkgs/pull/186155\">https://github.com/NixOS/nixpkgs/pull/186155</a>"
      ],
      "text/plain": [
       "<IPython.core.display.HTML object>"
      ]
     },
     "metadata": {},
     "output_type": "display_data"
    },
    {
     "data": {
      "text/html": [
       "<a href=\"https://github.com/NixOS/nixpkgs/pull/186045\">https://github.com/NixOS/nixpkgs/pull/186045</a>"
      ],
      "text/plain": [
       "<IPython.core.display.HTML object>"
      ]
     },
     "metadata": {},
     "output_type": "display_data"
    },
    {
     "data": {
      "text/html": [
       "<a href=\"https://github.com/NixOS/nixpkgs/pull/184761\">https://github.com/NixOS/nixpkgs/pull/184761</a>"
      ],
      "text/plain": [
       "<IPython.core.display.HTML object>"
      ]
     },
     "metadata": {},
     "output_type": "display_data"
    },
    {
     "data": {
      "text/html": [
       "<a href=\"https://github.com/NixOS/nixpkgs/pull/184732\">https://github.com/NixOS/nixpkgs/pull/184732</a>"
      ],
      "text/plain": [
       "<IPython.core.display.HTML object>"
      ]
     },
     "metadata": {},
     "output_type": "display_data"
    },
    {
     "data": {
      "text/html": [
       "<a href=\"https://github.com/NixOS/nixpkgs/pull/184492\">https://github.com/NixOS/nixpkgs/pull/184492</a>"
      ],
      "text/plain": [
       "<IPython.core.display.HTML object>"
      ]
     },
     "metadata": {},
     "output_type": "display_data"
    },
    {
     "data": {
      "text/html": [
       "<a href=\"https://github.com/NixOS/nixpkgs/pull/184384\">https://github.com/NixOS/nixpkgs/pull/184384</a>"
      ],
      "text/plain": [
       "<IPython.core.display.HTML object>"
      ]
     },
     "metadata": {},
     "output_type": "display_data"
    },
    {
     "data": {
      "text/html": [
       "<a href=\"https://github.com/NixOS/nixpkgs/pull/184376\">https://github.com/NixOS/nixpkgs/pull/184376</a>"
      ],
      "text/plain": [
       "<IPython.core.display.HTML object>"
      ]
     },
     "metadata": {},
     "output_type": "display_data"
    },
    {
     "data": {
      "text/html": [
       "<a href=\"https://github.com/NixOS/nixpkgs/pull/184351\">https://github.com/NixOS/nixpkgs/pull/184351</a>"
      ],
      "text/plain": [
       "<IPython.core.display.HTML object>"
      ]
     },
     "metadata": {},
     "output_type": "display_data"
    },
    {
     "data": {
      "text/html": [
       "<a href=\"https://github.com/NixOS/nixpkgs/pull/183992\">https://github.com/NixOS/nixpkgs/pull/183992</a>"
      ],
      "text/plain": [
       "<IPython.core.display.HTML object>"
      ]
     },
     "metadata": {},
     "output_type": "display_data"
    },
    {
     "data": {
      "text/html": [
       "<a href=\"https://github.com/NixOS/nixpkgs/pull/183972\">https://github.com/NixOS/nixpkgs/pull/183972</a>"
      ],
      "text/plain": [
       "<IPython.core.display.HTML object>"
      ]
     },
     "metadata": {},
     "output_type": "display_data"
    },
    {
     "data": {
      "text/html": [
       "<a href=\"https://github.com/NixOS/nixpkgs/pull/183562\">https://github.com/NixOS/nixpkgs/pull/183562</a>"
      ],
      "text/plain": [
       "<IPython.core.display.HTML object>"
      ]
     },
     "metadata": {},
     "output_type": "display_data"
    },
    {
     "data": {
      "text/plain": [
       "[None,\n",
       " None,\n",
       " None,\n",
       " None,\n",
       " None,\n",
       " None,\n",
       " None,\n",
       " None,\n",
       " None,\n",
       " None,\n",
       " None,\n",
       " None,\n",
       " None,\n",
       " None,\n",
       " None,\n",
       " None,\n",
       " None,\n",
       " None,\n",
       " None,\n",
       " None,\n",
       " None,\n",
       " None,\n",
       " None,\n",
       " None,\n",
       " None,\n",
       " None,\n",
       " None,\n",
       " None,\n",
       " None,\n",
       " None,\n",
       " None,\n",
       " None,\n",
       " None,\n",
       " None,\n",
       " None,\n",
       " None,\n",
       " None,\n",
       " None,\n",
       " None,\n",
       " None,\n",
       " None,\n",
       " None,\n",
       " None,\n",
       " None,\n",
       " None,\n",
       " None,\n",
       " None,\n",
       " None,\n",
       " None,\n",
       " None,\n",
       " None,\n",
       " None,\n",
       " None,\n",
       " None,\n",
       " None,\n",
       " None,\n",
       " None,\n",
       " None,\n",
       " None,\n",
       " None,\n",
       " None,\n",
       " None,\n",
       " None,\n",
       " None,\n",
       " None,\n",
       " None,\n",
       " None,\n",
       " None,\n",
       " None,\n",
       " None,\n",
       " None,\n",
       " None,\n",
       " None,\n",
       " None,\n",
       " None,\n",
       " None,\n",
       " None,\n",
       " None,\n",
       " None,\n",
       " None,\n",
       " None,\n",
       " None,\n",
       " None,\n",
       " None,\n",
       " None,\n",
       " None,\n",
       " None,\n",
       " None,\n",
       " None,\n",
       " None,\n",
       " None,\n",
       " None,\n",
       " None,\n",
       " None,\n",
       " None,\n",
       " None,\n",
       " None,\n",
       " None,\n",
       " None,\n",
       " None,\n",
       " None,\n",
       " None,\n",
       " None,\n",
       " None,\n",
       " None,\n",
       " None,\n",
       " None,\n",
       " None,\n",
       " None,\n",
       " None,\n",
       " None,\n",
       " None,\n",
       " None,\n",
       " None,\n",
       " None,\n",
       " None,\n",
       " None,\n",
       " None,\n",
       " None,\n",
       " None,\n",
       " None,\n",
       " None,\n",
       " None,\n",
       " None,\n",
       " None,\n",
       " None,\n",
       " None,\n",
       " None,\n",
       " None,\n",
       " None,\n",
       " None,\n",
       " None,\n",
       " None,\n",
       " None,\n",
       " None,\n",
       " None,\n",
       " None,\n",
       " None,\n",
       " None,\n",
       " None,\n",
       " None,\n",
       " None,\n",
       " None,\n",
       " None,\n",
       " None,\n",
       " None,\n",
       " None,\n",
       " None,\n",
       " None,\n",
       " None,\n",
       " None,\n",
       " None,\n",
       " None,\n",
       " None,\n",
       " None,\n",
       " None,\n",
       " None,\n",
       " None,\n",
       " None,\n",
       " None,\n",
       " None,\n",
       " None,\n",
       " None,\n",
       " None,\n",
       " None,\n",
       " None,\n",
       " None,\n",
       " None,\n",
       " None,\n",
       " None,\n",
       " None,\n",
       " None,\n",
       " None,\n",
       " None,\n",
       " None,\n",
       " None,\n",
       " None,\n",
       " None,\n",
       " None,\n",
       " None,\n",
       " None,\n",
       " None,\n",
       " None,\n",
       " None,\n",
       " None,\n",
       " None,\n",
       " None,\n",
       " None,\n",
       " None,\n",
       " None,\n",
       " None,\n",
       " None,\n",
       " None,\n",
       " None,\n",
       " None,\n",
       " None,\n",
       " None,\n",
       " None,\n",
       " None,\n",
       " None,\n",
       " None,\n",
       " None,\n",
       " None,\n",
       " None,\n",
       " None,\n",
       " None,\n",
       " None,\n",
       " None,\n",
       " None,\n",
       " None,\n",
       " None,\n",
       " None,\n",
       " None,\n",
       " None,\n",
       " None,\n",
       " None,\n",
       " None,\n",
       " None,\n",
       " None,\n",
       " None,\n",
       " None,\n",
       " None,\n",
       " None,\n",
       " None,\n",
       " None,\n",
       " None,\n",
       " None,\n",
       " None,\n",
       " None,\n",
       " None,\n",
       " None,\n",
       " None,\n",
       " None,\n",
       " None,\n",
       " None,\n",
       " None]"
      ]
     },
     "execution_count": 79,
     "metadata": {},
     "output_type": "execute_result"
    }
   ],
   "source": [
    "from IPython.core.display import HTML\n",
    "[display(HTML('<a href=\"{link}\">{link}</a>'.format(link=pr.html_url))) for pr in partition['patch'] if not pr.draft]"
   ]
  }
 ],
 "metadata": {
  "kernelspec": {
   "display_name": "Python 3 (ipykernel)",
   "language": "python",
   "name": "python3"
  },
  "language_info": {
   "codemirror_mode": {
    "name": "ipython",
    "version": 3
   },
   "file_extension": ".py",
   "mimetype": "text/x-python",
   "name": "python",
   "nbconvert_exporter": "python",
   "pygments_lexer": "ipython3",
   "version": "3.10.8"
  }
 },
 "nbformat": 4,
 "nbformat_minor": 5
}
